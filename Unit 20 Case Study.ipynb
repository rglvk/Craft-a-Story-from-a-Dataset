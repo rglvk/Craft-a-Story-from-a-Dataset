{
 "cells": [
  {
   "cell_type": "markdown",
   "metadata": {},
   "source": [
    "# Craft a Story from a Dataset: Investigating Kaggle's Fast Food Restaurants Across America Dataset"
   ]
  },
  {
   "cell_type": "markdown",
   "metadata": {},
   "source": [
    "## Overview"
   ]
  },
  {
   "cell_type": "markdown",
   "metadata": {},
   "source": [
    "In this jupyter notebook, addressed to a general, non-technical, educated audience, I’d like to investigate fast food restaurants in America, with a special focus on McDonalds. McDonalds is known to be the largest (in terms of revenue) and most prevalent fast food restaurant in America (and worldwide). It is the paradigmatic fast food restaurant, and is what everyone thinks of when they think of fast food. For these reasons I thought it would be interesting to pay special attention to McDonalds. \n",
    "\n",
    "One goal of this project is to use visualizations and data to bring viewers a new perspective on fast food restaurants that they haven’t seen before. \n",
    "\n",
    "Before starting this project, I was mainly interested in investigating data regarding the location (province, latitude, longitude) of restaurants. However, I also ended up investigating things regarding the relative amount of different types of restaurants, and also things specifically relating to McDonalds.\n",
    "\n",
    "One of my early questions in the notebook, starting out, was how far north do restaurants go? Are there any above the latitude of 50? For perspective, to an approximate degree, Mexico City, Mexico is at latitude 20, Austin, Texas is at latitude 30, New York City is at latitude 40, Vancouver, Canada is at latitude 50, and St Petersburg, Russia is at latitude 60. In my jupyter notebook, I wondered, after seeing some restaurants above latitude 50, how many are above latitude 60? \n",
    "\n",
    "I graphed the mean, max, and min latitude (three separate graphs) of the top 10 most numerous restaurants. I was also curious ahead of this project about the distribution of different restaurants across different states, so I looked into that. I also became curious about the distribution of McDonalds across different states, so I looked into that.\n"
   ]
  },
  {
   "cell_type": "code",
   "execution_count": 190,
   "metadata": {},
   "outputs": [],
   "source": [
    "# In the line below I import a necessary library:"
   ]
  },
  {
   "cell_type": "code",
   "execution_count": 2,
   "metadata": {},
   "outputs": [],
   "source": [
    "import pandas as pd"
   ]
  },
  {
   "cell_type": "markdown",
   "metadata": {},
   "source": [
    "Dataset link: https://www.kaggle.com/datafiniti/fast-food-restaurants"
   ]
  },
  {
   "cell_type": "code",
   "execution_count": 192,
   "metadata": {},
   "outputs": [],
   "source": [
    "# In the line below I use pandas' read_csv() function to load the csv file of the dataset into a pandas DataFrame:"
   ]
  },
  {
   "cell_type": "code",
   "execution_count": 3,
   "metadata": {},
   "outputs": [],
   "source": [
    "df = pd.read_csv('FastFoodRestaurants.csv')"
   ]
  },
  {
   "cell_type": "code",
   "execution_count": 193,
   "metadata": {},
   "outputs": [],
   "source": [
    "# In the line below I use the function head() to get a look at the top 5 rows of the dataset:"
   ]
  },
  {
   "cell_type": "code",
   "execution_count": 4,
   "metadata": {},
   "outputs": [
    {
     "data": {
      "text/html": [
       "<div>\n",
       "<style scoped>\n",
       "    .dataframe tbody tr th:only-of-type {\n",
       "        vertical-align: middle;\n",
       "    }\n",
       "\n",
       "    .dataframe tbody tr th {\n",
       "        vertical-align: top;\n",
       "    }\n",
       "\n",
       "    .dataframe thead th {\n",
       "        text-align: right;\n",
       "    }\n",
       "</style>\n",
       "<table border=\"1\" class=\"dataframe\">\n",
       "  <thead>\n",
       "    <tr style=\"text-align: right;\">\n",
       "      <th></th>\n",
       "      <th>address</th>\n",
       "      <th>city</th>\n",
       "      <th>country</th>\n",
       "      <th>keys</th>\n",
       "      <th>latitude</th>\n",
       "      <th>longitude</th>\n",
       "      <th>name</th>\n",
       "      <th>postalCode</th>\n",
       "      <th>province</th>\n",
       "      <th>websites</th>\n",
       "    </tr>\n",
       "  </thead>\n",
       "  <tbody>\n",
       "    <tr>\n",
       "      <th>0</th>\n",
       "      <td>324 Main St</td>\n",
       "      <td>Massena</td>\n",
       "      <td>US</td>\n",
       "      <td>us/ny/massena/324mainst/-1161002137</td>\n",
       "      <td>44.92130</td>\n",
       "      <td>-74.89021</td>\n",
       "      <td>McDonald's</td>\n",
       "      <td>13662</td>\n",
       "      <td>NY</td>\n",
       "      <td>http://mcdonalds.com,http://www.mcdonalds.com/...</td>\n",
       "    </tr>\n",
       "    <tr>\n",
       "      <th>1</th>\n",
       "      <td>530 Clinton Ave</td>\n",
       "      <td>Washington Court House</td>\n",
       "      <td>US</td>\n",
       "      <td>us/oh/washingtoncourthouse/530clintonave/-7914...</td>\n",
       "      <td>39.53255</td>\n",
       "      <td>-83.44526</td>\n",
       "      <td>Wendy's</td>\n",
       "      <td>43160</td>\n",
       "      <td>OH</td>\n",
       "      <td>http://www.wendys.com</td>\n",
       "    </tr>\n",
       "    <tr>\n",
       "      <th>2</th>\n",
       "      <td>408 Market Square Dr</td>\n",
       "      <td>Maysville</td>\n",
       "      <td>US</td>\n",
       "      <td>us/ky/maysville/408marketsquaredr/1051460804</td>\n",
       "      <td>38.62736</td>\n",
       "      <td>-83.79141</td>\n",
       "      <td>Frisch's Big Boy</td>\n",
       "      <td>41056</td>\n",
       "      <td>KY</td>\n",
       "      <td>http://www.frischs.com,https://www.frischs.com...</td>\n",
       "    </tr>\n",
       "    <tr>\n",
       "      <th>3</th>\n",
       "      <td>6098 State Highway 37</td>\n",
       "      <td>Massena</td>\n",
       "      <td>US</td>\n",
       "      <td>us/ny/massena/6098statehighway37/-1161002137</td>\n",
       "      <td>44.95008</td>\n",
       "      <td>-74.84553</td>\n",
       "      <td>McDonald's</td>\n",
       "      <td>13662</td>\n",
       "      <td>NY</td>\n",
       "      <td>http://mcdonalds.com,http://www.mcdonalds.com/...</td>\n",
       "    </tr>\n",
       "    <tr>\n",
       "      <th>4</th>\n",
       "      <td>139 Columbus Rd</td>\n",
       "      <td>Athens</td>\n",
       "      <td>US</td>\n",
       "      <td>us/oh/athens/139columbusrd/990890980</td>\n",
       "      <td>39.35155</td>\n",
       "      <td>-82.09728</td>\n",
       "      <td>OMG! Rotisserie</td>\n",
       "      <td>45701</td>\n",
       "      <td>OH</td>\n",
       "      <td>http://www.omgrotisserie.com,http://omgrotisse...</td>\n",
       "    </tr>\n",
       "  </tbody>\n",
       "</table>\n",
       "</div>"
      ],
      "text/plain": [
       "                 address                    city country  \\\n",
       "0            324 Main St                 Massena      US   \n",
       "1        530 Clinton Ave  Washington Court House      US   \n",
       "2   408 Market Square Dr               Maysville      US   \n",
       "3  6098 State Highway 37                 Massena      US   \n",
       "4        139 Columbus Rd                  Athens      US   \n",
       "\n",
       "                                                keys  latitude  longitude  \\\n",
       "0                us/ny/massena/324mainst/-1161002137  44.92130  -74.89021   \n",
       "1  us/oh/washingtoncourthouse/530clintonave/-7914...  39.53255  -83.44526   \n",
       "2       us/ky/maysville/408marketsquaredr/1051460804  38.62736  -83.79141   \n",
       "3       us/ny/massena/6098statehighway37/-1161002137  44.95008  -74.84553   \n",
       "4               us/oh/athens/139columbusrd/990890980  39.35155  -82.09728   \n",
       "\n",
       "               name postalCode province  \\\n",
       "0        McDonald's      13662       NY   \n",
       "1           Wendy's      43160       OH   \n",
       "2  Frisch's Big Boy      41056       KY   \n",
       "3        McDonald's      13662       NY   \n",
       "4   OMG! Rotisserie      45701       OH   \n",
       "\n",
       "                                            websites  \n",
       "0  http://mcdonalds.com,http://www.mcdonalds.com/...  \n",
       "1                              http://www.wendys.com  \n",
       "2  http://www.frischs.com,https://www.frischs.com...  \n",
       "3  http://mcdonalds.com,http://www.mcdonalds.com/...  \n",
       "4  http://www.omgrotisserie.com,http://omgrotisse...  "
      ]
     },
     "execution_count": 4,
     "metadata": {},
     "output_type": "execute_result"
    }
   ],
   "source": [
    "df.head()"
   ]
  },
  {
   "cell_type": "code",
   "execution_count": 194,
   "metadata": {},
   "outputs": [],
   "source": [
    "# The line below gives the frequency of different names in the name column:"
   ]
  },
  {
   "cell_type": "code",
   "execution_count": 5,
   "metadata": {},
   "outputs": [
    {
     "data": {
      "text/plain": [
       "McDonald's                    1886\n",
       "Burger King                   1154\n",
       "Taco Bell                      873\n",
       "Wendy's                        731\n",
       "Arby's                         518\n",
       "                              ... \n",
       "Taco Delight                     1\n",
       "Subway - Roland Park             1\n",
       "Kings Contrivance Jewelers       1\n",
       "Elevation Burger                 1\n",
       "City Bites                       1\n",
       "Name: name, Length: 548, dtype: int64"
      ]
     },
     "execution_count": 5,
     "metadata": {},
     "output_type": "execute_result"
    }
   ],
   "source": [
    "df['name'].value_counts()"
   ]
  },
  {
   "cell_type": "code",
   "execution_count": 195,
   "metadata": {},
   "outputs": [],
   "source": [
    "# The line below gives summary statistics for the name column:"
   ]
  },
  {
   "cell_type": "code",
   "execution_count": 6,
   "metadata": {},
   "outputs": [
    {
     "data": {
      "text/plain": [
       "count          10000\n",
       "unique           548\n",
       "top       McDonald's\n",
       "freq            1886\n",
       "Name: name, dtype: object"
      ]
     },
     "execution_count": 6,
     "metadata": {},
     "output_type": "execute_result"
    }
   ],
   "source": [
    "df['name'].describe()"
   ]
  },
  {
   "cell_type": "code",
   "execution_count": 196,
   "metadata": {},
   "outputs": [],
   "source": [
    "# The line below gives overview information about the dataset:"
   ]
  },
  {
   "cell_type": "code",
   "execution_count": 7,
   "metadata": {},
   "outputs": [
    {
     "name": "stdout",
     "output_type": "stream",
     "text": [
      "<class 'pandas.core.frame.DataFrame'>\n",
      "RangeIndex: 10000 entries, 0 to 9999\n",
      "Data columns (total 10 columns):\n",
      " #   Column      Non-Null Count  Dtype  \n",
      "---  ------      --------------  -----  \n",
      " 0   address     10000 non-null  object \n",
      " 1   city        10000 non-null  object \n",
      " 2   country     10000 non-null  object \n",
      " 3   keys        10000 non-null  object \n",
      " 4   latitude    10000 non-null  float64\n",
      " 5   longitude   10000 non-null  float64\n",
      " 6   name        10000 non-null  object \n",
      " 7   postalCode  10000 non-null  object \n",
      " 8   province    10000 non-null  object \n",
      " 9   websites    9535 non-null   object \n",
      "dtypes: float64(2), object(8)\n",
      "memory usage: 781.4+ KB\n"
     ]
    }
   ],
   "source": [
    "df.info()"
   ]
  },
  {
   "cell_type": "code",
   "execution_count": 197,
   "metadata": {},
   "outputs": [],
   "source": [
    "# The line below prints the unique values in the name column. These are all the different restaurants in the dataset.\n",
    "# It looks like there are a lot, and that the dataset doesn't just cover the top chains."
   ]
  },
  {
   "cell_type": "code",
   "execution_count": 8,
   "metadata": {},
   "outputs": [
    {
     "data": {
      "text/plain": [
       "array([\"McDonald's\", \"Wendy's\", \"Frisch's Big Boy\", 'OMG! Rotisserie',\n",
       "       \"Domino's Pizza\", 'Pizza Hut', 'SONIC Drive In',\n",
       "       \"Long John Silver's\", 'Taco Bell', 'Qdoba Mexican Grill',\n",
       "       'Sonic Drive-In', \"Taco John's\", 'Whataburger', 'Hamburger King',\n",
       "       'Burger King', 'McDonalds', 'Taco Time', \"Jimmy John's\",\n",
       "       \"Jersey Mike's Subs\", 'Popeyes Louisiana Kitchen', \"Hardee's\",\n",
       "       \"Rally's\", 'Quiznos', 'Jack in the Box', 'Subway', 'Mr Hero',\n",
       "       'Amigos/Kings Classic', \"Raising Cane's Chicken Fingers\",\n",
       "       'Coop DeVille', 'B. Good', 'Back Yard Burgers', \"Arby's\",\n",
       "       'Pacific Rim', 'Panda Express', 'Chick-fil-A', \"Captain D's\",\n",
       "       \"Samurai Sam's\", 'Northeastern State University', 'SUBWAY',\n",
       "       'Sarku Japan', 'Five Guys', 'Pei Wei', 'Krystal', 'Baja Fresh',\n",
       "       \"Mcdonald's\", \"Bojangles' Famous Chicken 'n Biscuits\",\n",
       "       'Pollo Tropical', 'Waffle House', \"Popeye's Chicken & Biscuits\",\n",
       "       'Jimmy Johns', 'Checkers',\n",
       "       'Integrated Therapy Specialists: Arnold D Larson', 'KFC',\n",
       "       'Jack In The Box', 'Dairy Queen', 'Penguin Point', 'Chick-Fil-A',\n",
       "       'Goodcents Deli Fresh Subs', 'White Castle', \"Culver's\",\n",
       "       \"Church's Chicken\", 'KFC / Taco Bell', 'Jacks Grocery',\n",
       "       'Chipotle Mexican Grill', 'SUBWAY®', \"Ernie's All American Burger\",\n",
       "       'Windmill Gourmet Fast Foods', 'b.good', 'Boston Market',\n",
       "       'Dunkin Donuts', \"Moe's Original Bar B Que\",\n",
       "       'Penn Station East Coast Subs', \"Carl's Jr.\", 'Cook Out',\n",
       "       'In-N-Out Burger', 'Mr. Hero', 'Del Taco', \"Nick's Burgers\",\n",
       "       \"Baker's Drive Thru\", \"Mc Donald's\", 'Mcdonalds',\n",
       "       \"Mickey's Gyros & Ribs\", 'Long John Silvers',\n",
       "       'Sensenig Poultry LLC', 'Frugals', 'Seaside Eatery', \"Fazoli's\",\n",
       "       \"Dunkin' Donuts\", \"Wetzel's Pretzels\", \"Ryan's\", \"Steak 'n Shake\",\n",
       "       \"Granny's Drive-In\", \"Jolly's Drive-In\", 'Blondies', 'Great Steak',\n",
       "       'Sonic', 'Rallys', \"Lee's Famous Recipe Chicken\",\n",
       "       'Little Caesars Pizza', 'Dairy Freeze', 'QDOBA Mexican Eats',\n",
       "       'Lime Ricky World', 'Taco Mayo', 'A&W/Long John Silvers',\n",
       "       'Pick Up Stix', 'Dairy Cheer', 'Fallguys Burger Company',\n",
       "       'Golden Chick', \"McLaren's Pantry\", 'Red Robin Gourmet Burgers',\n",
       "       'Buds Chicken & Seafood', 'Sconecutter',\n",
       "       \"Zip's Hamburgers And Fish\", \"Rush's\", 'El Pollo Loco',\n",
       "       \"Carl's Jr\", 'Gold Star Chili', \"Moe's Southwest Grill\",\n",
       "       'Popeyes Chicken and Biscuits', 'Dominos Pizza', 'Pizza Barn',\n",
       "       'Taco Casa', 'Taco Bueno', \"Tom's Drive In\",\n",
       "       \"Tudor's Biscuit World\", \"Kasa's Pizza\", 'Skyline Chili',\n",
       "       \"Dewey's Pizza\", 'Custard Hut & Pizza', \"Papa John's Pizza\",\n",
       "       'Qdoba Mexican Eats', 'TacoTime', 'Blakes Lotaburger',\n",
       "       'Panera Bread', 'Cook-Out', \"George's Gyros Spot\", 'Hardees',\n",
       "       'El Paragua Restaurant', \"Captain D's Seafood\", 'Burger Time',\n",
       "       'Chicken Express', 'KFC - Kentucky Fried Chicken',\n",
       "       'Cherry Hill Drive In Ice Cream', 'Flip Burger Bar', 'Greyhound',\n",
       "       'Noodles & Company', \"Pal's Sudden Service\", 'Arctic Circle',\n",
       "       'Bob Evans', \"Don & Millie's\", 'Old Country Buffet',\n",
       "       \"Tommy's Sub Shop\", 'Roy Rogers', \"BIG & little's Restaurant\",\n",
       "       'Cafe Rio', 'Char-Grill', 'Crispy Chicken & Seafood',\n",
       "       'Toppers Pizza', \"Topper's Pizza\", \"Lion's Choice\",\n",
       "       'Popeyes Chicken & Biscuits', 'Kum & Go', 'Taco Delight', 'Kfc',\n",
       "       \"Kenny's Drive-In\", 'Pita Pit', 'MOOYAH Burgers, Fries & Shakes',\n",
       "       'The Pita Pit', 'Slim Chickens', 'Shot Tower Inn',\n",
       "       'SONIC Drive-In', \"Blake's LotaBurger\", \"Handy's Lunch\",\n",
       "       'Meatheads', 'Sonic Drive In', 'A&W Restaurant',\n",
       "       'Jack Pirtles Chicken', 'Wendys', 'Dairy Isle',\n",
       "       \"Hardee's / Red Burrito\", 'Runza', \"Shoney's on the Go\",\n",
       "       \"Richie's Restaurant\", 'Yellow Cab Pizza Co.', \"Jack's\",\n",
       "       \"Rally's Hamburgers\", \"Popeye's Louisiana Kitchen\",\n",
       "       \"Rancher's Roast Beef Inc.\", 'Pizza Factory', 'In-A-Tub',\n",
       "       'Crystal Restaurant', \"Burger's Landing\", \"Isabella's Pizzeria\",\n",
       "       'Fatburger', 'Sunrise Cafe', 'Round Table Pizza',\n",
       "       \"Capt Crab's Take-Away\", 'Papa Johns Pizza', \"Ben & Jerry's\",\n",
       "       \"Auntie Anne's\", 'Baskin-Robbins', '31st Avenue Gyro',\n",
       "       'Au Bon Pain', 'Saladworks', 'Baja Fresh Mexican Grill',\n",
       "       'Papa Johns', 'Good Times Burgers & Frozen Custard',\n",
       "       'Johnny Rockets', 'Wingstop', \"Luby's\", 'Mayfair Boardwalk Grill',\n",
       "       \"Nino's Pizza\", \"Maria's Fry Bread & Mexican Food\", \"Papa John's\",\n",
       "       'Taco Del Mar', 'Wingstreet', 'Charleys Philly Steaks',\n",
       "       'Papa John’s Pizza', \"Blake's Lotaburger\", \"Nick's Gyros\",\n",
       "       'South-A-Philly Steaks and Hoagies',\n",
       "       'DQ Grill & Chill / Orange Julius', \"Lenny's Sub Shop\", \"Popeye's\",\n",
       "       'Taco Local', 'Stars Drive-In', 'Firehouse Subs',\n",
       "       'Original Tracks', \"Thrasher's French Fries\",\n",
       "       'Subway Citgo of Quarryville', 'Fuku', \"Capriotti's Sandwich Shop\",\n",
       "       'Eldon Drive In', \"Petro's Chili & Chips\", 'The Halal Guys',\n",
       "       'Ny Chicken Fish', 'Thunder Ridge Ampride', \"Steak 'N Shake\",\n",
       "       'Twisters', 'Cookout', 'Tasty Carryout', 'Hub City Express',\n",
       "       'Culvers', 'Shloma Inc', 'Bravo Tacos', 'Papagus Gyros',\n",
       "       'DQ Grill & Chill', 'Taqueria', 'A & W Family Restaurant',\n",
       "       'Los Verdes', 'Taco Cabana', 'Bad Daddys Burger Bar',\n",
       "       'Sonic Drive in', \"AJ's Hotdogs & Gyros\", \"Rubio's Coastal Grill\",\n",
       "       \"Papa Gino's\", 'Cusinera', 'St Louis Original Hamburgers',\n",
       "       'Circle Drive In', \"Woody's Sloppy Dogs\", 'Kum Go', 'Mc Donalds',\n",
       "       \"JCW's\", 'The People Connection', 'Hot Dog Heaven',\n",
       "       'The Great Steak & Potato Co.', \"Jim's Coney Island\",\n",
       "       'Charcoal Delights', 'Sheetz', 'McDonalds @ Old Atlanta',\n",
       "       \"Hungry Andy's\", 'Port Of Subs', 'Carls Jr', 'Hot Dog On A Stick',\n",
       "       'Sonic Drive-in', \"Carl's / Green Burrito\",\n",
       "       \"Wu's Fine Chinese Cuisine\", 'Chick-fil-a', 'KFC/Taco Bell',\n",
       "       'Steak-out', \"Wings N' More Wings\", \"P. Terry's\",\n",
       "       'J J Fish and Chicken', 'A&W', 'Kentucky Fried Chicken',\n",
       "       'Greek Oven Pizza and Wings', 'Wienerschnitzel', 'City Bites',\n",
       "       'Smoothie King', \"Bobby's Burger Palace\", 'Smashburger',\n",
       "       'Hometown Buffet', 'Dairy Queen Grill & Chill',\n",
       "       'The Biscuit Factory', 'Subway (johnson) @ Jonesboro',\n",
       "       'China King', 'A&w Restaurant', 'Popeyes', 'Stripes Store #2276',\n",
       "       'Hotdoks', 'A&W All-American Food', \"Shepard's Drive-In\",\n",
       "       \"McDonald's of Mililani Mauka\", 'Mariu Kebabberia Gastronomica',\n",
       "       'Tropical Smoothie Cafe', \"Fred's Store\", 'Bamboo Bistro',\n",
       "       \"Raising Cane's\", 'LocoL', 'Quick', 'Backyard Burgers',\n",
       "       \"Jim Bob's Chicken Fingers\", 'Islands Restaurant',\n",
       "       \"Charlie's Chicken\", \"Famous Dave's\", 'Dawg House Grill',\n",
       "       \"Carl's Jr - Green Burrito\", 'Carls Jr. / Green Burrito',\n",
       "       \"Jimmy John's Gourmet Sandwiches\", 'The Agora', \"Cody's Cafe\",\n",
       "       \"Mcdonald's - Walmart\", \"Mcalister's Deli\", 'Bb&t',\n",
       "       \"Flash Foods / McDonald's\", \"Carl's Jr. / Green Burrito\",\n",
       "       'B Z Breakfast Burgers Beyond', 'Farmer Boys', \"Milo's Hamburgers\",\n",
       "       'Wings And Philly', 'A&W All American Food', \"Nathan's Famous\",\n",
       "       \"Gianni's Pizza\", \"Rich's Mighty Fine Burgers Grub\",\n",
       "       'Bob Evans Restaurant', 'Spangles', 'Chuck Wagon', 'Chicken House',\n",
       "       \"Dino's Gyros\", 'Jamjam', 'Fab Wings N Burgers', 'Pizza One',\n",
       "       'The Chicken Place', 'Chick-fil-a Superstition Springs Center',\n",
       "       'Pollo Campero', 'Rahway Chicken & Burger Inc',\n",
       "       'Hot Dog on a Stick', 'Sbarro', 'The Pizza Pipe Line',\n",
       "       'Omega Drive-In', 'China Buddha Inn II', \"Geno's Fast Break\",\n",
       "       'Jersey Jacks Eatery', \"Hardee's / Red Burrito / Dough Boys\",\n",
       "       'Kettle Restaurant', 'Hoka Hoka Bento', 'Iceberg Drive Inn',\n",
       "       'Regal Cinemas Tikahtnu  16 IMAX & RPX',\n",
       "       \"Mario's Natural Roman Pizza\", 'Music City Subs',\n",
       "       'Chick-fil-a Orange Avenue', 'Gyros Kings', 'McDonald’s',\n",
       "       'Einstein Bros Bagels', 'Blimpie', 'A&W All-American Foods',\n",
       "       'Sammy Carry-Out', 'Redbox', \"Little Caesar's Pizza Smithfield\",\n",
       "       'Checkers Burgers and Fries', \"Kerby's Koney Island\",\n",
       "       'L&l Hawaiian Barbecue', \"Braum's Ice Cream & Dairy Store\",\n",
       "       'Tellers Tap Room & Kitchen', \"Arby's Antigo\", \"Furr's\",\n",
       "       'Subway Sandwiches and Salads', 'Bills Place', 'Burger King Salou',\n",
       "       'ShopRite', 'Wendy Two Two Eight', \"Braum's\", 'Boston Market 381',\n",
       "       'Great Steak & Potato Co', 'Blimpie Subs & Sandwiches',\n",
       "       \"Checker's\", 'Mr Char-Burger', 'Yum Brands Inc', 'Ama Ristorante',\n",
       "       \"Popeye's Chicken\", 'The Honeybaked Ham Company', 'Snack Shack',\n",
       "       'Boston Chowda Company', \"Long John Silver's / A&W\",\n",
       "       'Aprisa Mexican Cuisine', 'Steak N Shake',\n",
       "       'Kfc - Kentucky Fried Chicken', 'White Manna Hamburgers',\n",
       "       'Food 4 Less', 'Starbucks', 'Dq Grill & Chill', \"Brixton's\",\n",
       "       'Dairy Queen - Round Rock', 'Peking Wok', 'Panda', 'Pop-A-Nugget',\n",
       "       'Roly Poly', 'KFC / A&W', 'Thrashers French Fries', 'BLIMPIE',\n",
       "       'Subway - Roland Park', 'Garden Catering', \"Foster's Freeze\",\n",
       "       \"Rapid Ray's\", \"Portillo's\", 'Vista Drive In', 'Taco del Mar',\n",
       "       'Arbys', \"Tom's Grill\", 'Yoshinoya', \"Subway - Bell's Ferry\",\n",
       "       'Pizza Hut Wingstreet', 'Travelcenters of America',\n",
       "       \"D'Angelo Grilled Sandwiches\", 'Fitness 19', 'Royal Buffet',\n",
       "       'Cousins Subs', 'Lanesplitter Pizza & Pub', 'World Wrapps',\n",
       "       'Hunam Garden', 'Soulfish Grill', \"Kam's Chop Suey\",\n",
       "       \"Ziti's Italian Express\", \"Rally's Springfield\",\n",
       "       'Subway Sandwiches', 'Home Town Buffet',\n",
       "       \"Checker's Drive-in Restaurant\", \"Grandy's\",\n",
       "       'Ll Hawaiian Barbecue', 'Maui Tacos', \"Checker's Hamburgers\",\n",
       "       \"Carl's Jr / Green Burrito\", \"Frugal's\", \"Rafael's\",\n",
       "       'Crown Fried Chicken', 'Garden Fast Food', 'Froots',\n",
       "       'Luxor Food Court', \"Spangle's\", 'Subway Guitars', \"Love's\",\n",
       "       'Cypress Best', 'Siam To Go', \"Bush's Chicken\",\n",
       "       \"Chick-fil-a Truett's Luau\", 'Strongwater Spirits & Botanicals',\n",
       "       'The Break Away Sports Cafe', \"Charley's Grilled Subs\",\n",
       "       \"Mcdonald's #25557\", \"Rocky's\", \"Chester's Grill\", '7-11',\n",
       "       \"Zaxby's\", \"Osgood's\", \"Dan's Seafood & Chicken\", \"Jason's Deli\",\n",
       "       'Breadeaux Pizza', 'Sonic Drive-in (trailer)', 'Aw Restaurant',\n",
       "       'Steak Escape', 'A&w', '7-Eleven', 'Jollibee',\n",
       "       'Kennedy Fried Chicken & Pizza', 'Mocha Express',\n",
       "       'Taco Bell/Pizza Hut Express', \"Schlotzsky's\", 'Charlie Browns',\n",
       "       'Ball State Lafollette Dining', \"Tubby's Grilled Submarines\",\n",
       "       \"Quizno's +\", 'Long John Silvers / A&W', 'Comilao Lanches Bakery',\n",
       "       \"Gabby's Burgers & Fries\", 'Loco Moco Drive-Inn', 'Pizza Express',\n",
       "       \"Alice's\", 'King Grill', \"Freddy's Steakburger\",\n",
       "       'Cousins Subs of Green Bay - Oneida St. & Ramada Way', 'Everest',\n",
       "       'Jamba Juice', 'Quiznos Sub', 'Exxon', 'BGR - The Burger Joint',\n",
       "       'Chick-fil-a Magnolia Mall', \"Tom & Jerry's\", \"Ivar's Seafood Bar\",\n",
       "       'Luna Corner Pizza', 'Fosters Freeze', 'Scoopers',\n",
       "       \"Eagan's Drive-In\", 'Omelette House', 'Hermosa',\n",
       "       \"D'angelo Grilled Sandwiches\", 'Costa Vida Fresh Mexican Grill',\n",
       "       'Simmies Arirang Hill Cheese Steak', \"Chris' Drive-In\",\n",
       "       'The Flame Broiler', 'DQ Woodlands', \"Rubio's\", 'Burgerville',\n",
       "       'Lukes on Harlem', 'Madison Street Subs', 'Fresh City',\n",
       "       'Port of Subs', \"Denton's\", \"Teddy's Bigger Burgers\",\n",
       "       'Dairy Queen Grill & Chill / Orange Julius', 'Elevation Burger',\n",
       "       'Your Healthy Habit', 'Mazatlan Mexican Restaurant',\n",
       "       'Kim Lee Fast Food', 'Cinnabon', 'China King Restaurant',\n",
       "       'Chickenow', 'Chicago Union Station Food Court', \"Paesano's\",\n",
       "       'L&L Hawaiian Barbecue', 'B K', 'Pizza Primetime',\n",
       "       'Convergence Zone', 'The Press Club', 'Costa Vida', 'Hegenburgers',\n",
       "       \"Pete's Burgers\", 'Dual - Carls / Grn Burrito 1100654',\n",
       "       'Kings Contrivance Jewelers', 'Great Steak And Potato Co',\n",
       "       \"Nielsen's Frozen Custard\", \"Tina's Carryout Restaurant\",\n",
       "       'Long John Silver/ A&W', \"Car's Late Night Delivery\", 'Charkies',\n",
       "       'El Tarasco Mexican Food', 'Burgerville, USA',\n",
       "       'Italian Pizzeria Restaurant', \"Lee's Oriental Martial Arts\"],\n",
       "      dtype=object)"
      ]
     },
     "execution_count": 8,
     "metadata": {},
     "output_type": "execute_result"
    }
   ],
   "source": [
    "df['name'].unique()"
   ]
  },
  {
   "cell_type": "code",
   "execution_count": 199,
   "metadata": {},
   "outputs": [],
   "source": [
    "# The line below shows the number of restaurants in each province. A province appears to mostly be a U.S. state,\n",
    "# there is a very visible exception at the bottom where province is not a state but is Colorado Springs."
   ]
  },
  {
   "cell_type": "code",
   "execution_count": 9,
   "metadata": {},
   "outputs": [
    {
     "data": {
      "text/plain": [
       "CA         676\n",
       "TX         634\n",
       "OH         543\n",
       "FL         471\n",
       "IN         379\n",
       "IL         363\n",
       "NC         358\n",
       "GA         347\n",
       "MO         334\n",
       "KY         332\n",
       "VA         327\n",
       "PA         283\n",
       "NY         269\n",
       "MI         251\n",
       "TN         245\n",
       "SC         238\n",
       "LA         237\n",
       "AL         236\n",
       "WA         209\n",
       "OK         208\n",
       "AZ         208\n",
       "WI         186\n",
       "IA         166\n",
       "MD         159\n",
       "UT         159\n",
       "CO         158\n",
       "AR         151\n",
       "NJ         151\n",
       "NM         149\n",
       "MN         148\n",
       "NV         135\n",
       "MA         131\n",
       "OR         114\n",
       "SD         105\n",
       "KS         103\n",
       "ID          99\n",
       "CT          96\n",
       "WV          93\n",
       "NE          92\n",
       "MS          82\n",
       "ND          50\n",
       "ME          44\n",
       "VT          43\n",
       "WY          41\n",
       "HI          40\n",
       "NH          36\n",
       "DE          32\n",
       "MT          25\n",
       "RI          24\n",
       "DC          21\n",
       "AK          14\n",
       "Co Spgs      5\n",
       "Name: province, dtype: int64"
      ]
     },
     "execution_count": 9,
     "metadata": {},
     "output_type": "execute_result"
    }
   ],
   "source": [
    "df['province'].value_counts()"
   ]
  },
  {
   "cell_type": "code",
   "execution_count": 200,
   "metadata": {},
   "outputs": [],
   "source": [
    "# The line below is very important. It shows that all the restaurants are in the United States:"
   ]
  },
  {
   "cell_type": "code",
   "execution_count": 10,
   "metadata": {},
   "outputs": [
    {
     "data": {
      "text/plain": [
       "US    10000\n",
       "Name: country, dtype: int64"
      ]
     },
     "execution_count": 10,
     "metadata": {},
     "output_type": "execute_result"
    }
   ],
   "source": [
    "df['country'].value_counts()"
   ]
  },
  {
   "cell_type": "code",
   "execution_count": 201,
   "metadata": {},
   "outputs": [],
   "source": [
    "# The line below tells us that there are 2,775 unique cities in our dataset."
   ]
  },
  {
   "cell_type": "code",
   "execution_count": 11,
   "metadata": {},
   "outputs": [
    {
     "data": {
      "text/plain": [
       "2775"
      ]
     },
     "execution_count": 11,
     "metadata": {},
     "output_type": "execute_result"
    }
   ],
   "source": [
    "df['city'].nunique()"
   ]
  },
  {
   "cell_type": "code",
   "execution_count": 12,
   "metadata": {},
   "outputs": [
    {
     "data": {
      "text/plain": [
       "5289"
      ]
     },
     "execution_count": 12,
     "metadata": {},
     "output_type": "execute_result"
    }
   ],
   "source": [
    "df['postalCode'].nunique()"
   ]
  },
  {
   "cell_type": "code",
   "execution_count": 202,
   "metadata": {},
   "outputs": [],
   "source": [
    "# The line below tells us that there are 548 unique restaurants in our dataset:"
   ]
  },
  {
   "cell_type": "code",
   "execution_count": 13,
   "metadata": {},
   "outputs": [
    {
     "data": {
      "text/plain": [
       "548"
      ]
     },
     "execution_count": 13,
     "metadata": {},
     "output_type": "execute_result"
    }
   ],
   "source": [
    "df['name'].nunique()"
   ]
  },
  {
   "cell_type": "code",
   "execution_count": 14,
   "metadata": {},
   "outputs": [
    {
     "data": {
      "text/plain": [
       "52"
      ]
     },
     "execution_count": 14,
     "metadata": {},
     "output_type": "execute_result"
    }
   ],
   "source": [
    "df['province'].nunique()"
   ]
  },
  {
   "cell_type": "code",
   "execution_count": 15,
   "metadata": {},
   "outputs": [
    {
     "data": {
      "text/html": [
       "<div>\n",
       "<style scoped>\n",
       "    .dataframe tbody tr th:only-of-type {\n",
       "        vertical-align: middle;\n",
       "    }\n",
       "\n",
       "    .dataframe tbody tr th {\n",
       "        vertical-align: top;\n",
       "    }\n",
       "\n",
       "    .dataframe thead th {\n",
       "        text-align: right;\n",
       "    }\n",
       "</style>\n",
       "<table border=\"1\" class=\"dataframe\">\n",
       "  <thead>\n",
       "    <tr style=\"text-align: right;\">\n",
       "      <th></th>\n",
       "      <th>address</th>\n",
       "      <th>city</th>\n",
       "      <th>country</th>\n",
       "      <th>keys</th>\n",
       "      <th>latitude</th>\n",
       "      <th>longitude</th>\n",
       "      <th>name</th>\n",
       "      <th>postalCode</th>\n",
       "      <th>province</th>\n",
       "      <th>websites</th>\n",
       "    </tr>\n",
       "  </thead>\n",
       "  <tbody>\n",
       "    <tr>\n",
       "      <th>0</th>\n",
       "      <td>324 Main St</td>\n",
       "      <td>Massena</td>\n",
       "      <td>US</td>\n",
       "      <td>us/ny/massena/324mainst/-1161002137</td>\n",
       "      <td>44.92130</td>\n",
       "      <td>-74.89021</td>\n",
       "      <td>McDonald's</td>\n",
       "      <td>13662</td>\n",
       "      <td>NY</td>\n",
       "      <td>http://mcdonalds.com,http://www.mcdonalds.com/...</td>\n",
       "    </tr>\n",
       "    <tr>\n",
       "      <th>1</th>\n",
       "      <td>530 Clinton Ave</td>\n",
       "      <td>Washington Court House</td>\n",
       "      <td>US</td>\n",
       "      <td>us/oh/washingtoncourthouse/530clintonave/-7914...</td>\n",
       "      <td>39.53255</td>\n",
       "      <td>-83.44526</td>\n",
       "      <td>Wendy's</td>\n",
       "      <td>43160</td>\n",
       "      <td>OH</td>\n",
       "      <td>http://www.wendys.com</td>\n",
       "    </tr>\n",
       "    <tr>\n",
       "      <th>2</th>\n",
       "      <td>408 Market Square Dr</td>\n",
       "      <td>Maysville</td>\n",
       "      <td>US</td>\n",
       "      <td>us/ky/maysville/408marketsquaredr/1051460804</td>\n",
       "      <td>38.62736</td>\n",
       "      <td>-83.79141</td>\n",
       "      <td>Frisch's Big Boy</td>\n",
       "      <td>41056</td>\n",
       "      <td>KY</td>\n",
       "      <td>http://www.frischs.com,https://www.frischs.com...</td>\n",
       "    </tr>\n",
       "    <tr>\n",
       "      <th>3</th>\n",
       "      <td>6098 State Highway 37</td>\n",
       "      <td>Massena</td>\n",
       "      <td>US</td>\n",
       "      <td>us/ny/massena/6098statehighway37/-1161002137</td>\n",
       "      <td>44.95008</td>\n",
       "      <td>-74.84553</td>\n",
       "      <td>McDonald's</td>\n",
       "      <td>13662</td>\n",
       "      <td>NY</td>\n",
       "      <td>http://mcdonalds.com,http://www.mcdonalds.com/...</td>\n",
       "    </tr>\n",
       "    <tr>\n",
       "      <th>4</th>\n",
       "      <td>139 Columbus Rd</td>\n",
       "      <td>Athens</td>\n",
       "      <td>US</td>\n",
       "      <td>us/oh/athens/139columbusrd/990890980</td>\n",
       "      <td>39.35155</td>\n",
       "      <td>-82.09728</td>\n",
       "      <td>OMG! Rotisserie</td>\n",
       "      <td>45701</td>\n",
       "      <td>OH</td>\n",
       "      <td>http://www.omgrotisserie.com,http://omgrotisse...</td>\n",
       "    </tr>\n",
       "  </tbody>\n",
       "</table>\n",
       "</div>"
      ],
      "text/plain": [
       "                 address                    city country  \\\n",
       "0            324 Main St                 Massena      US   \n",
       "1        530 Clinton Ave  Washington Court House      US   \n",
       "2   408 Market Square Dr               Maysville      US   \n",
       "3  6098 State Highway 37                 Massena      US   \n",
       "4        139 Columbus Rd                  Athens      US   \n",
       "\n",
       "                                                keys  latitude  longitude  \\\n",
       "0                us/ny/massena/324mainst/-1161002137  44.92130  -74.89021   \n",
       "1  us/oh/washingtoncourthouse/530clintonave/-7914...  39.53255  -83.44526   \n",
       "2       us/ky/maysville/408marketsquaredr/1051460804  38.62736  -83.79141   \n",
       "3       us/ny/massena/6098statehighway37/-1161002137  44.95008  -74.84553   \n",
       "4               us/oh/athens/139columbusrd/990890980  39.35155  -82.09728   \n",
       "\n",
       "               name postalCode province  \\\n",
       "0        McDonald's      13662       NY   \n",
       "1           Wendy's      43160       OH   \n",
       "2  Frisch's Big Boy      41056       KY   \n",
       "3        McDonald's      13662       NY   \n",
       "4   OMG! Rotisserie      45701       OH   \n",
       "\n",
       "                                            websites  \n",
       "0  http://mcdonalds.com,http://www.mcdonalds.com/...  \n",
       "1                              http://www.wendys.com  \n",
       "2  http://www.frischs.com,https://www.frischs.com...  \n",
       "3  http://mcdonalds.com,http://www.mcdonalds.com/...  \n",
       "4  http://www.omgrotisserie.com,http://omgrotisse...  "
      ]
     },
     "execution_count": 15,
     "metadata": {},
     "output_type": "execute_result"
    }
   ],
   "source": [
    "df.head()"
   ]
  },
  {
   "cell_type": "code",
   "execution_count": 16,
   "metadata": {},
   "outputs": [
    {
     "data": {
      "text/plain": [
       "9934"
      ]
     },
     "execution_count": 16,
     "metadata": {},
     "output_type": "execute_result"
    }
   ],
   "source": [
    "df['address'].nunique()"
   ]
  },
  {
   "cell_type": "code",
   "execution_count": 17,
   "metadata": {},
   "outputs": [
    {
     "data": {
      "text/plain": [
       "10000"
      ]
     },
     "execution_count": 17,
     "metadata": {},
     "output_type": "execute_result"
    }
   ],
   "source": [
    "df['keys'].nunique()"
   ]
  },
  {
   "cell_type": "code",
   "execution_count": 18,
   "metadata": {},
   "outputs": [
    {
     "data": {
      "text/plain": [
       "3821"
      ]
     },
     "execution_count": 18,
     "metadata": {},
     "output_type": "execute_result"
    }
   ],
   "source": [
    "df['websites'].nunique()"
   ]
  },
  {
   "cell_type": "code",
   "execution_count": 203,
   "metadata": {},
   "outputs": [],
   "source": [
    "# The line below shows that nearly every restaurant has a slightly different latitude:"
   ]
  },
  {
   "cell_type": "code",
   "execution_count": 19,
   "metadata": {},
   "outputs": [
    {
     "data": {
      "text/plain": [
       "9935"
      ]
     },
     "execution_count": 19,
     "metadata": {},
     "output_type": "execute_result"
    }
   ],
   "source": [
    "df['latitude'].nunique()"
   ]
  },
  {
   "cell_type": "code",
   "execution_count": 204,
   "metadata": {},
   "outputs": [],
   "source": [
    "# Same with longitude:"
   ]
  },
  {
   "cell_type": "code",
   "execution_count": 20,
   "metadata": {},
   "outputs": [
    {
     "data": {
      "text/plain": [
       "9956"
      ]
     },
     "execution_count": 20,
     "metadata": {},
     "output_type": "execute_result"
    }
   ],
   "source": [
    "df['longitude'].nunique()"
   ]
  },
  {
   "cell_type": "code",
   "execution_count": 205,
   "metadata": {},
   "outputs": [],
   "source": [
    "# When you round a latitude to a whole number, there become 41 unique values:"
   ]
  },
  {
   "cell_type": "code",
   "execution_count": 21,
   "metadata": {},
   "outputs": [
    {
     "data": {
      "text/plain": [
       "41"
      ]
     },
     "execution_count": 21,
     "metadata": {},
     "output_type": "execute_result"
    }
   ],
   "source": [
    "df['latitude'].round(0).nunique()"
   ]
  },
  {
   "cell_type": "code",
   "execution_count": 22,
   "metadata": {},
   "outputs": [
    {
     "data": {
      "text/plain": [
       "100"
      ]
     },
     "execution_count": 22,
     "metadata": {},
     "output_type": "execute_result"
    }
   ],
   "source": [
    "df['longitude'].round(0).nunique()"
   ]
  },
  {
   "cell_type": "code",
   "execution_count": 206,
   "metadata": {},
   "outputs": [],
   "source": [
    "# When you round latitude to one decimal point, there become 269 unique values:"
   ]
  },
  {
   "cell_type": "code",
   "execution_count": 23,
   "metadata": {},
   "outputs": [
    {
     "data": {
      "text/plain": [
       "269"
      ]
     },
     "execution_count": 23,
     "metadata": {},
     "output_type": "execute_result"
    }
   ],
   "source": [
    "df['latitude'].round(1).nunique()"
   ]
  },
  {
   "cell_type": "code",
   "execution_count": 24,
   "metadata": {},
   "outputs": [
    {
     "data": {
      "text/plain": [
       "575"
      ]
     },
     "execution_count": 24,
     "metadata": {},
     "output_type": "execute_result"
    }
   ],
   "source": [
    "df['longitude'].round(1).nunique()"
   ]
  },
  {
   "cell_type": "code",
   "execution_count": 207,
   "metadata": {},
   "outputs": [],
   "source": [
    "# This shows there are over 3,200 restaurants located over a latitude of 40. This means that about a third of the \n",
    "# restaurants in our dataset are as far north as New York City, or even farther north."
   ]
  },
  {
   "cell_type": "code",
   "execution_count": 25,
   "metadata": {},
   "outputs": [
    {
     "data": {
      "text/plain": [
       "address       3361\n",
       "city          3361\n",
       "country       3361\n",
       "keys          3361\n",
       "latitude      3361\n",
       "longitude     3361\n",
       "name          3361\n",
       "postalCode    3361\n",
       "province      3361\n",
       "websites      3225\n",
       "dtype: int64"
      ]
     },
     "execution_count": 25,
     "metadata": {},
     "output_type": "execute_result"
    }
   ],
   "source": [
    "df.loc[df['latitude']>40,].count()"
   ]
  },
  {
   "cell_type": "code",
   "execution_count": 208,
   "metadata": {},
   "outputs": [],
   "source": [
    "# Nearly all restaurants have a latitude higher than 1. 1 would be almost at the equator. There is nowhere in America\n",
    "# that would have a latitude as far south as 1. Thus, it is possible that if there are a few showing less than 1,\n",
    "# the latitude or restaurant was entered in error."
   ]
  },
  {
   "cell_type": "code",
   "execution_count": 26,
   "metadata": {},
   "outputs": [
    {
     "data": {
      "text/plain": [
       "address       9998\n",
       "city          9998\n",
       "country       9998\n",
       "keys          9998\n",
       "latitude      9998\n",
       "longitude     9998\n",
       "name          9998\n",
       "postalCode    9998\n",
       "province      9998\n",
       "websites      9535\n",
       "dtype: int64"
      ]
     },
     "execution_count": 26,
     "metadata": {},
     "output_type": "execute_result"
    }
   ],
   "source": [
    "df.loc[df['latitude']>1,].count()"
   ]
  },
  {
   "cell_type": "code",
   "execution_count": 27,
   "metadata": {},
   "outputs": [
    {
     "data": {
      "text/plain": [
       "address       10000\n",
       "city          10000\n",
       "country       10000\n",
       "keys          10000\n",
       "latitude      10000\n",
       "longitude     10000\n",
       "name          10000\n",
       "postalCode    10000\n",
       "province      10000\n",
       "websites       9535\n",
       "dtype: int64"
      ]
     },
     "execution_count": 27,
     "metadata": {},
     "output_type": "execute_result"
    }
   ],
   "source": [
    "df.loc[df['latitude']>-100,].count()"
   ]
  },
  {
   "cell_type": "code",
   "execution_count": 209,
   "metadata": {},
   "outputs": [],
   "source": [
    "# 518 restaurants have latitude of 45 or above. 45 is the approximate latitude of Ottowa, Canada."
   ]
  },
  {
   "cell_type": "code",
   "execution_count": 28,
   "metadata": {},
   "outputs": [
    {
     "data": {
      "text/plain": [
       "address       518\n",
       "city          518\n",
       "country       518\n",
       "keys          518\n",
       "latitude      518\n",
       "longitude     518\n",
       "name          518\n",
       "postalCode    518\n",
       "province      518\n",
       "websites      500\n",
       "dtype: int64"
      ]
     },
     "execution_count": 28,
     "metadata": {},
     "output_type": "execute_result"
    }
   ],
   "source": [
    "df.loc[df['latitude']>45,].count()"
   ]
  },
  {
   "cell_type": "code",
   "execution_count": 29,
   "metadata": {},
   "outputs": [
    {
     "data": {
      "text/plain": [
       "address       18\n",
       "city          18\n",
       "country       18\n",
       "keys          18\n",
       "latitude      18\n",
       "longitude     18\n",
       "name          18\n",
       "postalCode    18\n",
       "province      18\n",
       "websites      15\n",
       "dtype: int64"
      ]
     },
     "execution_count": 29,
     "metadata": {},
     "output_type": "execute_result"
    }
   ],
   "source": [
    "df.loc[df['latitude']>50,].count()"
   ]
  },
  {
   "cell_type": "code",
   "execution_count": 30,
   "metadata": {},
   "outputs": [
    {
     "data": {
      "text/plain": [
       "address       15\n",
       "city          15\n",
       "country       15\n",
       "keys          15\n",
       "latitude      15\n",
       "longitude     15\n",
       "name          15\n",
       "postalCode    15\n",
       "province      15\n",
       "websites      13\n",
       "dtype: int64"
      ]
     },
     "execution_count": 30,
     "metadata": {},
     "output_type": "execute_result"
    }
   ],
   "source": [
    "df.loc[df['latitude']>55,].count()"
   ]
  },
  {
   "cell_type": "code",
   "execution_count": 210,
   "metadata": {},
   "outputs": [],
   "source": [
    "# 13 restaurants have a latitude above 60, it can be assumed these are in Alaska:"
   ]
  },
  {
   "cell_type": "code",
   "execution_count": 31,
   "metadata": {},
   "outputs": [
    {
     "data": {
      "text/plain": [
       "address       13\n",
       "city          13\n",
       "country       13\n",
       "keys          13\n",
       "latitude      13\n",
       "longitude     13\n",
       "name          13\n",
       "postalCode    13\n",
       "province      13\n",
       "websites      12\n",
       "dtype: int64"
      ]
     },
     "execution_count": 31,
     "metadata": {},
     "output_type": "execute_result"
    }
   ],
   "source": [
    "df.loc[df['latitude']>60,].count()"
   ]
  },
  {
   "cell_type": "code",
   "execution_count": 211,
   "metadata": {},
   "outputs": [],
   "source": [
    "# Sure enough, our guess of the province was proven correct:"
   ]
  },
  {
   "cell_type": "code",
   "execution_count": 32,
   "metadata": {},
   "outputs": [
    {
     "data": {
      "text/plain": [
       "1777    AK\n",
       "2249    AK\n",
       "2873    AK\n",
       "3112    AK\n",
       "3300    AK\n",
       "3819    AK\n",
       "6201    AK\n",
       "6779    AK\n",
       "7302    AK\n",
       "7469    AK\n",
       "7882    AK\n",
       "9189    AK\n",
       "9755    AK\n",
       "Name: province, dtype: object"
      ]
     },
     "execution_count": 32,
     "metadata": {},
     "output_type": "execute_result"
    }
   ],
   "source": [
    "df.loc[df['latitude']>60,'province']"
   ]
  },
  {
   "cell_type": "code",
   "execution_count": 212,
   "metadata": {},
   "outputs": [],
   "source": [
    "# Here we can see some provinces of restaurants with latitude above 50. It appears that some of these are errors\n",
    "# as nowhere in Florida would there be latitude above 50."
   ]
  },
  {
   "cell_type": "code",
   "execution_count": 33,
   "metadata": {},
   "outputs": [
    {
     "data": {
      "text/plain": [
       "1761    AK\n",
       "1777    AK\n",
       "2249    AK\n",
       "2873    AK\n",
       "3112    AK\n",
       "3300    AK\n",
       "3819    AK\n",
       "6201    AK\n",
       "6468    FL\n",
       "6779    AK\n",
       "7025    IA\n",
       "7302    AK\n",
       "7348    MA\n",
       "7469    AK\n",
       "7882    AK\n",
       "8988    SC\n",
       "9189    AK\n",
       "9755    AK\n",
       "Name: province, dtype: object"
      ]
     },
     "execution_count": 33,
     "metadata": {},
     "output_type": "execute_result"
    }
   ],
   "source": [
    "df.loc[df['latitude']>50,'province']"
   ]
  },
  {
   "cell_type": "code",
   "execution_count": 215,
   "metadata": {},
   "outputs": [],
   "source": [
    "# This shows there are 5 unique states that restaurants above 50 are in, among other info:"
   ]
  },
  {
   "cell_type": "code",
   "execution_count": 34,
   "metadata": {},
   "outputs": [
    {
     "data": {
      "text/plain": [
       "count     18\n",
       "unique     5\n",
       "top       AK\n",
       "freq      14\n",
       "Name: province, dtype: object"
      ]
     },
     "execution_count": 34,
     "metadata": {},
     "output_type": "execute_result"
    }
   ],
   "source": [
    "df.loc[df['latitude']>50,'province'].describe()"
   ]
  },
  {
   "cell_type": "code",
   "execution_count": 213,
   "metadata": {},
   "outputs": [],
   "source": [
    "# Shows states and frequencies of restaurants labeled above 50."
   ]
  },
  {
   "cell_type": "code",
   "execution_count": 35,
   "metadata": {},
   "outputs": [
    {
     "data": {
      "text/plain": [
       "AK    14\n",
       "SC     1\n",
       "IA     1\n",
       "FL     1\n",
       "MA     1\n",
       "Name: province, dtype: int64"
      ]
     },
     "execution_count": 35,
     "metadata": {},
     "output_type": "execute_result"
    }
   ],
   "source": [
    "df.loc[df['latitude']>50,'province'].value_counts()"
   ]
  },
  {
   "cell_type": "code",
   "execution_count": 216,
   "metadata": {},
   "outputs": [],
   "source": [
    "# Here we try to see if we can spot any null values in a portion of our data off the bat:"
   ]
  },
  {
   "cell_type": "code",
   "execution_count": 36,
   "metadata": {},
   "outputs": [
    {
     "data": {
      "text/html": [
       "<div>\n",
       "<style scoped>\n",
       "    .dataframe tbody tr th:only-of-type {\n",
       "        vertical-align: middle;\n",
       "    }\n",
       "\n",
       "    .dataframe tbody tr th {\n",
       "        vertical-align: top;\n",
       "    }\n",
       "\n",
       "    .dataframe thead th {\n",
       "        text-align: right;\n",
       "    }\n",
       "</style>\n",
       "<table border=\"1\" class=\"dataframe\">\n",
       "  <thead>\n",
       "    <tr style=\"text-align: right;\">\n",
       "      <th></th>\n",
       "      <th>address</th>\n",
       "      <th>city</th>\n",
       "      <th>country</th>\n",
       "      <th>keys</th>\n",
       "      <th>latitude</th>\n",
       "      <th>longitude</th>\n",
       "      <th>name</th>\n",
       "      <th>postalCode</th>\n",
       "      <th>province</th>\n",
       "      <th>websites</th>\n",
       "    </tr>\n",
       "  </thead>\n",
       "  <tbody>\n",
       "    <tr>\n",
       "      <th>0</th>\n",
       "      <td>False</td>\n",
       "      <td>False</td>\n",
       "      <td>False</td>\n",
       "      <td>False</td>\n",
       "      <td>False</td>\n",
       "      <td>False</td>\n",
       "      <td>False</td>\n",
       "      <td>False</td>\n",
       "      <td>False</td>\n",
       "      <td>False</td>\n",
       "    </tr>\n",
       "    <tr>\n",
       "      <th>1</th>\n",
       "      <td>False</td>\n",
       "      <td>False</td>\n",
       "      <td>False</td>\n",
       "      <td>False</td>\n",
       "      <td>False</td>\n",
       "      <td>False</td>\n",
       "      <td>False</td>\n",
       "      <td>False</td>\n",
       "      <td>False</td>\n",
       "      <td>False</td>\n",
       "    </tr>\n",
       "    <tr>\n",
       "      <th>2</th>\n",
       "      <td>False</td>\n",
       "      <td>False</td>\n",
       "      <td>False</td>\n",
       "      <td>False</td>\n",
       "      <td>False</td>\n",
       "      <td>False</td>\n",
       "      <td>False</td>\n",
       "      <td>False</td>\n",
       "      <td>False</td>\n",
       "      <td>False</td>\n",
       "    </tr>\n",
       "    <tr>\n",
       "      <th>3</th>\n",
       "      <td>False</td>\n",
       "      <td>False</td>\n",
       "      <td>False</td>\n",
       "      <td>False</td>\n",
       "      <td>False</td>\n",
       "      <td>False</td>\n",
       "      <td>False</td>\n",
       "      <td>False</td>\n",
       "      <td>False</td>\n",
       "      <td>False</td>\n",
       "    </tr>\n",
       "    <tr>\n",
       "      <th>4</th>\n",
       "      <td>False</td>\n",
       "      <td>False</td>\n",
       "      <td>False</td>\n",
       "      <td>False</td>\n",
       "      <td>False</td>\n",
       "      <td>False</td>\n",
       "      <td>False</td>\n",
       "      <td>False</td>\n",
       "      <td>False</td>\n",
       "      <td>False</td>\n",
       "    </tr>\n",
       "    <tr>\n",
       "      <th>...</th>\n",
       "      <td>...</td>\n",
       "      <td>...</td>\n",
       "      <td>...</td>\n",
       "      <td>...</td>\n",
       "      <td>...</td>\n",
       "      <td>...</td>\n",
       "      <td>...</td>\n",
       "      <td>...</td>\n",
       "      <td>...</td>\n",
       "      <td>...</td>\n",
       "    </tr>\n",
       "    <tr>\n",
       "      <th>9995</th>\n",
       "      <td>False</td>\n",
       "      <td>False</td>\n",
       "      <td>False</td>\n",
       "      <td>False</td>\n",
       "      <td>False</td>\n",
       "      <td>False</td>\n",
       "      <td>False</td>\n",
       "      <td>False</td>\n",
       "      <td>False</td>\n",
       "      <td>False</td>\n",
       "    </tr>\n",
       "    <tr>\n",
       "      <th>9996</th>\n",
       "      <td>False</td>\n",
       "      <td>False</td>\n",
       "      <td>False</td>\n",
       "      <td>False</td>\n",
       "      <td>False</td>\n",
       "      <td>False</td>\n",
       "      <td>False</td>\n",
       "      <td>False</td>\n",
       "      <td>False</td>\n",
       "      <td>False</td>\n",
       "    </tr>\n",
       "    <tr>\n",
       "      <th>9997</th>\n",
       "      <td>False</td>\n",
       "      <td>False</td>\n",
       "      <td>False</td>\n",
       "      <td>False</td>\n",
       "      <td>False</td>\n",
       "      <td>False</td>\n",
       "      <td>False</td>\n",
       "      <td>False</td>\n",
       "      <td>False</td>\n",
       "      <td>False</td>\n",
       "    </tr>\n",
       "    <tr>\n",
       "      <th>9998</th>\n",
       "      <td>False</td>\n",
       "      <td>False</td>\n",
       "      <td>False</td>\n",
       "      <td>False</td>\n",
       "      <td>False</td>\n",
       "      <td>False</td>\n",
       "      <td>False</td>\n",
       "      <td>False</td>\n",
       "      <td>False</td>\n",
       "      <td>False</td>\n",
       "    </tr>\n",
       "    <tr>\n",
       "      <th>9999</th>\n",
       "      <td>False</td>\n",
       "      <td>False</td>\n",
       "      <td>False</td>\n",
       "      <td>False</td>\n",
       "      <td>False</td>\n",
       "      <td>False</td>\n",
       "      <td>False</td>\n",
       "      <td>False</td>\n",
       "      <td>False</td>\n",
       "      <td>False</td>\n",
       "    </tr>\n",
       "  </tbody>\n",
       "</table>\n",
       "<p>10000 rows × 10 columns</p>\n",
       "</div>"
      ],
      "text/plain": [
       "      address   city  country   keys  latitude  longitude   name  postalCode  \\\n",
       "0       False  False    False  False     False      False  False       False   \n",
       "1       False  False    False  False     False      False  False       False   \n",
       "2       False  False    False  False     False      False  False       False   \n",
       "3       False  False    False  False     False      False  False       False   \n",
       "4       False  False    False  False     False      False  False       False   \n",
       "...       ...    ...      ...    ...       ...        ...    ...         ...   \n",
       "9995    False  False    False  False     False      False  False       False   \n",
       "9996    False  False    False  False     False      False  False       False   \n",
       "9997    False  False    False  False     False      False  False       False   \n",
       "9998    False  False    False  False     False      False  False       False   \n",
       "9999    False  False    False  False     False      False  False       False   \n",
       "\n",
       "      province  websites  \n",
       "0        False     False  \n",
       "1        False     False  \n",
       "2        False     False  \n",
       "3        False     False  \n",
       "4        False     False  \n",
       "...        ...       ...  \n",
       "9995     False     False  \n",
       "9996     False     False  \n",
       "9997     False     False  \n",
       "9998     False     False  \n",
       "9999     False     False  \n",
       "\n",
       "[10000 rows x 10 columns]"
      ]
     },
     "execution_count": 36,
     "metadata": {},
     "output_type": "execute_result"
    }
   ],
   "source": [
    "df.isnull()"
   ]
  },
  {
   "cell_type": "code",
   "execution_count": 217,
   "metadata": {},
   "outputs": [],
   "source": [
    "# It appears no columns in the dataset have null values except the websites column:"
   ]
  },
  {
   "cell_type": "code",
   "execution_count": 37,
   "metadata": {},
   "outputs": [
    {
     "data": {
      "text/plain": [
       "address         0\n",
       "city            0\n",
       "country         0\n",
       "keys            0\n",
       "latitude        0\n",
       "longitude       0\n",
       "name            0\n",
       "postalCode      0\n",
       "province        0\n",
       "websites      465\n",
       "dtype: int64"
      ]
     },
     "execution_count": 37,
     "metadata": {},
     "output_type": "execute_result"
    }
   ],
   "source": [
    "df.isnull().sum()"
   ]
  },
  {
   "cell_type": "code",
   "execution_count": 218,
   "metadata": {},
   "outputs": [],
   "source": [
    "# confirming the same thing:"
   ]
  },
  {
   "cell_type": "code",
   "execution_count": 38,
   "metadata": {},
   "outputs": [
    {
     "data": {
      "text/plain": [
       "address       False\n",
       "city          False\n",
       "country       False\n",
       "keys          False\n",
       "latitude      False\n",
       "longitude     False\n",
       "name          False\n",
       "postalCode    False\n",
       "province      False\n",
       "websites       True\n",
       "dtype: bool"
      ]
     },
     "execution_count": 38,
     "metadata": {},
     "output_type": "execute_result"
    }
   ],
   "source": [
    "df.isna().any()"
   ]
  },
  {
   "cell_type": "code",
   "execution_count": 219,
   "metadata": {},
   "outputs": [],
   "source": [
    "# Importing libraries for visualization:"
   ]
  },
  {
   "cell_type": "code",
   "execution_count": 39,
   "metadata": {},
   "outputs": [],
   "source": [
    "import matplotlib.pyplot as plt\n",
    "import seaborn as sns"
   ]
  },
  {
   "cell_type": "code",
   "execution_count": 220,
   "metadata": {},
   "outputs": [],
   "source": [
    "# Plotting histograms of latitude and longitude for all restaurants, with the latitude/longitude on x-axes, and\n",
    "# number of restaurants in that bin on the y-axes:"
   ]
  },
  {
   "cell_type": "code",
   "execution_count": 40,
   "metadata": {},
   "outputs": [
    {
     "data": {
      "text/plain": [
       "array([[<matplotlib.axes._subplots.AxesSubplot object at 0x11c8b5ac0>,\n",
       "        <matplotlib.axes._subplots.AxesSubplot object at 0x11c901fa0>]],\n",
       "      dtype=object)"
      ]
     },
     "execution_count": 40,
     "metadata": {},
     "output_type": "execute_result"
    },
    {
     "data": {
      "image/png": "[encoded data removed]",
      "text/plain": [
       "<Figure size 432x288 with 2 Axes>"
      ]
     },
     "metadata": {
      "needs_background": "light"
     },
     "output_type": "display_data"
    }
   ],
   "source": [
    "df.hist()"
   ]
  },
  {
   "cell_type": "code",
   "execution_count": 223,
   "metadata": {},
   "outputs": [],
   "source": [
    "# Taking another look at the values/columns in our dataset. It is useful to glance at this periodically:"
   ]
  },
  {
   "cell_type": "code",
   "execution_count": 42,
   "metadata": {},
   "outputs": [
    {
     "data": {
      "text/html": [
       "<div>\n",
       "<style scoped>\n",
       "    .dataframe tbody tr th:only-of-type {\n",
       "        vertical-align: middle;\n",
       "    }\n",
       "\n",
       "    .dataframe tbody tr th {\n",
       "        vertical-align: top;\n",
       "    }\n",
       "\n",
       "    .dataframe thead th {\n",
       "        text-align: right;\n",
       "    }\n",
       "</style>\n",
       "<table border=\"1\" class=\"dataframe\">\n",
       "  <thead>\n",
       "    <tr style=\"text-align: right;\">\n",
       "      <th></th>\n",
       "      <th>address</th>\n",
       "      <th>city</th>\n",
       "      <th>country</th>\n",
       "      <th>keys</th>\n",
       "      <th>latitude</th>\n",
       "      <th>longitude</th>\n",
       "      <th>name</th>\n",
       "      <th>postalCode</th>\n",
       "      <th>province</th>\n",
       "      <th>websites</th>\n",
       "    </tr>\n",
       "  </thead>\n",
       "  <tbody>\n",
       "    <tr>\n",
       "      <th>0</th>\n",
       "      <td>324 Main St</td>\n",
       "      <td>Massena</td>\n",
       "      <td>US</td>\n",
       "      <td>us/ny/massena/324mainst/-1161002137</td>\n",
       "      <td>44.92130</td>\n",
       "      <td>-74.89021</td>\n",
       "      <td>McDonald's</td>\n",
       "      <td>13662</td>\n",
       "      <td>NY</td>\n",
       "      <td>http://mcdonalds.com,http://www.mcdonalds.com/...</td>\n",
       "    </tr>\n",
       "    <tr>\n",
       "      <th>1</th>\n",
       "      <td>530 Clinton Ave</td>\n",
       "      <td>Washington Court House</td>\n",
       "      <td>US</td>\n",
       "      <td>us/oh/washingtoncourthouse/530clintonave/-7914...</td>\n",
       "      <td>39.53255</td>\n",
       "      <td>-83.44526</td>\n",
       "      <td>Wendy's</td>\n",
       "      <td>43160</td>\n",
       "      <td>OH</td>\n",
       "      <td>http://www.wendys.com</td>\n",
       "    </tr>\n",
       "    <tr>\n",
       "      <th>2</th>\n",
       "      <td>408 Market Square Dr</td>\n",
       "      <td>Maysville</td>\n",
       "      <td>US</td>\n",
       "      <td>us/ky/maysville/408marketsquaredr/1051460804</td>\n",
       "      <td>38.62736</td>\n",
       "      <td>-83.79141</td>\n",
       "      <td>Frisch's Big Boy</td>\n",
       "      <td>41056</td>\n",
       "      <td>KY</td>\n",
       "      <td>http://www.frischs.com,https://www.frischs.com...</td>\n",
       "    </tr>\n",
       "    <tr>\n",
       "      <th>3</th>\n",
       "      <td>6098 State Highway 37</td>\n",
       "      <td>Massena</td>\n",
       "      <td>US</td>\n",
       "      <td>us/ny/massena/6098statehighway37/-1161002137</td>\n",
       "      <td>44.95008</td>\n",
       "      <td>-74.84553</td>\n",
       "      <td>McDonald's</td>\n",
       "      <td>13662</td>\n",
       "      <td>NY</td>\n",
       "      <td>http://mcdonalds.com,http://www.mcdonalds.com/...</td>\n",
       "    </tr>\n",
       "    <tr>\n",
       "      <th>4</th>\n",
       "      <td>139 Columbus Rd</td>\n",
       "      <td>Athens</td>\n",
       "      <td>US</td>\n",
       "      <td>us/oh/athens/139columbusrd/990890980</td>\n",
       "      <td>39.35155</td>\n",
       "      <td>-82.09728</td>\n",
       "      <td>OMG! Rotisserie</td>\n",
       "      <td>45701</td>\n",
       "      <td>OH</td>\n",
       "      <td>http://www.omgrotisserie.com,http://omgrotisse...</td>\n",
       "    </tr>\n",
       "  </tbody>\n",
       "</table>\n",
       "</div>"
      ],
      "text/plain": [
       "                 address                    city country  \\\n",
       "0            324 Main St                 Massena      US   \n",
       "1        530 Clinton Ave  Washington Court House      US   \n",
       "2   408 Market Square Dr               Maysville      US   \n",
       "3  6098 State Highway 37                 Massena      US   \n",
       "4        139 Columbus Rd                  Athens      US   \n",
       "\n",
       "                                                keys  latitude  longitude  \\\n",
       "0                us/ny/massena/324mainst/-1161002137  44.92130  -74.89021   \n",
       "1  us/oh/washingtoncourthouse/530clintonave/-7914...  39.53255  -83.44526   \n",
       "2       us/ky/maysville/408marketsquaredr/1051460804  38.62736  -83.79141   \n",
       "3       us/ny/massena/6098statehighway37/-1161002137  44.95008  -74.84553   \n",
       "4               us/oh/athens/139columbusrd/990890980  39.35155  -82.09728   \n",
       "\n",
       "               name postalCode province  \\\n",
       "0        McDonald's      13662       NY   \n",
       "1           Wendy's      43160       OH   \n",
       "2  Frisch's Big Boy      41056       KY   \n",
       "3        McDonald's      13662       NY   \n",
       "4   OMG! Rotisserie      45701       OH   \n",
       "\n",
       "                                            websites  \n",
       "0  http://mcdonalds.com,http://www.mcdonalds.com/...  \n",
       "1                              http://www.wendys.com  \n",
       "2  http://www.frischs.com,https://www.frischs.com...  \n",
       "3  http://mcdonalds.com,http://www.mcdonalds.com/...  \n",
       "4  http://www.omgrotisserie.com,http://omgrotisse...  "
      ]
     },
     "execution_count": 42,
     "metadata": {},
     "output_type": "execute_result"
    }
   ],
   "source": [
    "df.head()"
   ]
  },
  {
   "cell_type": "code",
   "execution_count": 224,
   "metadata": {},
   "outputs": [],
   "source": [
    "# Creating a new column that will contain latitudes rounded to the nearest whole number:"
   ]
  },
  {
   "cell_type": "code",
   "execution_count": 43,
   "metadata": {},
   "outputs": [],
   "source": [
    "df['latitude_round'] = df['latitude'].round(0)"
   ]
  },
  {
   "cell_type": "code",
   "execution_count": 225,
   "metadata": {},
   "outputs": [],
   "source": [
    "# The mode function returns modes in the dataset:"
   ]
  },
  {
   "cell_type": "code",
   "execution_count": 47,
   "metadata": {},
   "outputs": [
    {
     "data": {
      "text/html": [
       "<div>\n",
       "<style scoped>\n",
       "    .dataframe tbody tr th:only-of-type {\n",
       "        vertical-align: middle;\n",
       "    }\n",
       "\n",
       "    .dataframe tbody tr th {\n",
       "        vertical-align: top;\n",
       "    }\n",
       "\n",
       "    .dataframe thead th {\n",
       "        text-align: right;\n",
       "    }\n",
       "</style>\n",
       "<table border=\"1\" class=\"dataframe\">\n",
       "  <thead>\n",
       "    <tr style=\"text-align: right;\">\n",
       "      <th></th>\n",
       "      <th>address</th>\n",
       "      <th>city</th>\n",
       "      <th>country</th>\n",
       "      <th>keys</th>\n",
       "      <th>latitude</th>\n",
       "      <th>longitude</th>\n",
       "      <th>name</th>\n",
       "      <th>postalCode</th>\n",
       "      <th>province</th>\n",
       "      <th>websites</th>\n",
       "      <th>latitude_round</th>\n",
       "    </tr>\n",
       "  </thead>\n",
       "  <tbody>\n",
       "    <tr>\n",
       "      <th>0</th>\n",
       "      <td>3900 Las Vegas Blvd S</td>\n",
       "      <td>Cincinnati</td>\n",
       "      <td>US</td>\n",
       "      <td>us/ak/anchorage/1166nmuldoonrd/-1161002137</td>\n",
       "      <td>21.34877</td>\n",
       "      <td>-104.52325</td>\n",
       "      <td>McDonald's</td>\n",
       "      <td>57701</td>\n",
       "      <td>CA</td>\n",
       "      <td>http://mcdonalds.com,http://www.mcdonalds.com/...</td>\n",
       "      <td>39.0</td>\n",
       "    </tr>\n",
       "    <tr>\n",
       "      <th>1</th>\n",
       "      <td>515 E Main St</td>\n",
       "      <td>NaN</td>\n",
       "      <td>NaN</td>\n",
       "      <td>us/ak/anchorage/1299nmuldoonrd/1725192761</td>\n",
       "      <td>26.12140</td>\n",
       "      <td>NaN</td>\n",
       "      <td>NaN</td>\n",
       "      <td>NaN</td>\n",
       "      <td>NaN</td>\n",
       "      <td>NaN</td>\n",
       "      <td>NaN</td>\n",
       "    </tr>\n",
       "    <tr>\n",
       "      <th>2</th>\n",
       "      <td>NaN</td>\n",
       "      <td>NaN</td>\n",
       "      <td>NaN</td>\n",
       "      <td>us/ak/anchorage/320w5thave/93075755</td>\n",
       "      <td>27.89380</td>\n",
       "      <td>NaN</td>\n",
       "      <td>NaN</td>\n",
       "      <td>NaN</td>\n",
       "      <td>NaN</td>\n",
       "      <td>NaN</td>\n",
       "      <td>NaN</td>\n",
       "    </tr>\n",
       "    <tr>\n",
       "      <th>3</th>\n",
       "      <td>NaN</td>\n",
       "      <td>NaN</td>\n",
       "      <td>NaN</td>\n",
       "      <td>us/ak/anchorage/800edimondblvd025/93075755</td>\n",
       "      <td>28.59996</td>\n",
       "      <td>NaN</td>\n",
       "      <td>NaN</td>\n",
       "      <td>NaN</td>\n",
       "      <td>NaN</td>\n",
       "      <td>NaN</td>\n",
       "      <td>NaN</td>\n",
       "    </tr>\n",
       "    <tr>\n",
       "      <th>4</th>\n",
       "      <td>NaN</td>\n",
       "      <td>NaN</td>\n",
       "      <td>NaN</td>\n",
       "      <td>us/ak/anchorage/800wnorthernlightsblvd/-116100...</td>\n",
       "      <td>29.74062</td>\n",
       "      <td>NaN</td>\n",
       "      <td>NaN</td>\n",
       "      <td>NaN</td>\n",
       "      <td>NaN</td>\n",
       "      <td>NaN</td>\n",
       "      <td>NaN</td>\n",
       "    </tr>\n",
       "    <tr>\n",
       "      <th>...</th>\n",
       "      <td>...</td>\n",
       "      <td>...</td>\n",
       "      <td>...</td>\n",
       "      <td>...</td>\n",
       "      <td>...</td>\n",
       "      <td>...</td>\n",
       "      <td>...</td>\n",
       "      <td>...</td>\n",
       "      <td>...</td>\n",
       "      <td>...</td>\n",
       "      <td>...</td>\n",
       "    </tr>\n",
       "    <tr>\n",
       "      <th>9995</th>\n",
       "      <td>NaN</td>\n",
       "      <td>NaN</td>\n",
       "      <td>NaN</td>\n",
       "      <td>us/wy/sheridan/1514e5thst/-891525969</td>\n",
       "      <td>NaN</td>\n",
       "      <td>NaN</td>\n",
       "      <td>NaN</td>\n",
       "      <td>NaN</td>\n",
       "      <td>NaN</td>\n",
       "      <td>NaN</td>\n",
       "      <td>NaN</td>\n",
       "    </tr>\n",
       "    <tr>\n",
       "      <th>9996</th>\n",
       "      <td>NaN</td>\n",
       "      <td>NaN</td>\n",
       "      <td>NaN</td>\n",
       "      <td>us/wy/sheridan/1695coffeenave/-891525969</td>\n",
       "      <td>NaN</td>\n",
       "      <td>NaN</td>\n",
       "      <td>NaN</td>\n",
       "      <td>NaN</td>\n",
       "      <td>NaN</td>\n",
       "      <td>NaN</td>\n",
       "      <td>NaN</td>\n",
       "    </tr>\n",
       "    <tr>\n",
       "      <th>9997</th>\n",
       "      <td>NaN</td>\n",
       "      <td>NaN</td>\n",
       "      <td>NaN</td>\n",
       "      <td>us/wy/sheridan/727ebrundageln/-1947870258</td>\n",
       "      <td>NaN</td>\n",
       "      <td>NaN</td>\n",
       "      <td>NaN</td>\n",
       "      <td>NaN</td>\n",
       "      <td>NaN</td>\n",
       "      <td>NaN</td>\n",
       "      <td>NaN</td>\n",
       "    </tr>\n",
       "    <tr>\n",
       "      <th>9998</th>\n",
       "      <td>NaN</td>\n",
       "      <td>NaN</td>\n",
       "      <td>NaN</td>\n",
       "      <td>us/wy/wheatland/1457southst/-1009719089</td>\n",
       "      <td>NaN</td>\n",
       "      <td>NaN</td>\n",
       "      <td>NaN</td>\n",
       "      <td>NaN</td>\n",
       "      <td>NaN</td>\n",
       "      <td>NaN</td>\n",
       "      <td>NaN</td>\n",
       "    </tr>\n",
       "    <tr>\n",
       "      <th>9999</th>\n",
       "      <td>NaN</td>\n",
       "      <td>NaN</td>\n",
       "      <td>NaN</td>\n",
       "      <td>us/wy/wheatland/9216thst/-2061630068</td>\n",
       "      <td>NaN</td>\n",
       "      <td>NaN</td>\n",
       "      <td>NaN</td>\n",
       "      <td>NaN</td>\n",
       "      <td>NaN</td>\n",
       "      <td>NaN</td>\n",
       "      <td>NaN</td>\n",
       "    </tr>\n",
       "  </tbody>\n",
       "</table>\n",
       "<p>10000 rows × 11 columns</p>\n",
       "</div>"
      ],
      "text/plain": [
       "                    address        city country  \\\n",
       "0     3900 Las Vegas Blvd S  Cincinnati      US   \n",
       "1             515 E Main St         NaN     NaN   \n",
       "2                       NaN         NaN     NaN   \n",
       "3                       NaN         NaN     NaN   \n",
       "4                       NaN         NaN     NaN   \n",
       "...                     ...         ...     ...   \n",
       "9995                    NaN         NaN     NaN   \n",
       "9996                    NaN         NaN     NaN   \n",
       "9997                    NaN         NaN     NaN   \n",
       "9998                    NaN         NaN     NaN   \n",
       "9999                    NaN         NaN     NaN   \n",
       "\n",
       "                                                   keys  latitude  longitude  \\\n",
       "0            us/ak/anchorage/1166nmuldoonrd/-1161002137  21.34877 -104.52325   \n",
       "1             us/ak/anchorage/1299nmuldoonrd/1725192761  26.12140        NaN   \n",
       "2                   us/ak/anchorage/320w5thave/93075755  27.89380        NaN   \n",
       "3            us/ak/anchorage/800edimondblvd025/93075755  28.59996        NaN   \n",
       "4     us/ak/anchorage/800wnorthernlightsblvd/-116100...  29.74062        NaN   \n",
       "...                                                 ...       ...        ...   \n",
       "9995               us/wy/sheridan/1514e5thst/-891525969       NaN        NaN   \n",
       "9996           us/wy/sheridan/1695coffeenave/-891525969       NaN        NaN   \n",
       "9997          us/wy/sheridan/727ebrundageln/-1947870258       NaN        NaN   \n",
       "9998            us/wy/wheatland/1457southst/-1009719089       NaN        NaN   \n",
       "9999               us/wy/wheatland/9216thst/-2061630068       NaN        NaN   \n",
       "\n",
       "            name postalCode province  \\\n",
       "0     McDonald's      57701       CA   \n",
       "1            NaN        NaN      NaN   \n",
       "2            NaN        NaN      NaN   \n",
       "3            NaN        NaN      NaN   \n",
       "4            NaN        NaN      NaN   \n",
       "...          ...        ...      ...   \n",
       "9995         NaN        NaN      NaN   \n",
       "9996         NaN        NaN      NaN   \n",
       "9997         NaN        NaN      NaN   \n",
       "9998         NaN        NaN      NaN   \n",
       "9999         NaN        NaN      NaN   \n",
       "\n",
       "                                               websites  latitude_round  \n",
       "0     http://mcdonalds.com,http://www.mcdonalds.com/...            39.0  \n",
       "1                                                   NaN             NaN  \n",
       "2                                                   NaN             NaN  \n",
       "3                                                   NaN             NaN  \n",
       "4                                                   NaN             NaN  \n",
       "...                                                 ...             ...  \n",
       "9995                                                NaN             NaN  \n",
       "9996                                                NaN             NaN  \n",
       "9997                                                NaN             NaN  \n",
       "9998                                                NaN             NaN  \n",
       "9999                                                NaN             NaN  \n",
       "\n",
       "[10000 rows x 11 columns]"
      ]
     },
     "execution_count": 47,
     "metadata": {},
     "output_type": "execute_result"
    }
   ],
   "source": [
    "df.mode()"
   ]
  },
  {
   "cell_type": "code",
   "execution_count": 227,
   "metadata": {},
   "outputs": [],
   "source": [
    "# The following several lines find, manipulate, and examine the top 10 most common restaurants in the dataset:\n",
    "# Manipulations were necessary in order to get the data into shape for visualization. This is why they were included."
   ]
  },
  {
   "cell_type": "code",
   "execution_count": 48,
   "metadata": {},
   "outputs": [
    {
     "data": {
      "text/plain": [
       "[\"McDonald's\",\n",
       " 'Burger King',\n",
       " 'Taco Bell',\n",
       " \"Wendy's\",\n",
       " \"Arby's\",\n",
       " 'KFC',\n",
       " \"Domino's Pizza\",\n",
       " 'Subway',\n",
       " 'SONIC Drive In',\n",
       " \"Hardee's\"]"
      ]
     },
     "execution_count": 48,
     "metadata": {},
     "output_type": "execute_result"
    }
   ],
   "source": [
    "n = 10\n",
    "df['name'].value_counts()[:n].index.tolist()"
   ]
  },
  {
   "cell_type": "code",
   "execution_count": 49,
   "metadata": {},
   "outputs": [],
   "source": [
    "n = 10\n",
    "hello = df['name'].value_counts()[:n]"
   ]
  },
  {
   "cell_type": "code",
   "execution_count": 50,
   "metadata": {},
   "outputs": [
    {
     "data": {
      "text/plain": [
       "McDonald's        1886\n",
       "Burger King       1154\n",
       "Taco Bell          873\n",
       "Wendy's            731\n",
       "Arby's             518\n",
       "KFC                421\n",
       "Domino's Pizza     345\n",
       "Subway             322\n",
       "SONIC Drive In     226\n",
       "Hardee's           192\n",
       "Name: name, dtype: int64"
      ]
     },
     "execution_count": 50,
     "metadata": {},
     "output_type": "execute_result"
    }
   ],
   "source": [
    "hello"
   ]
  },
  {
   "cell_type": "code",
   "execution_count": 51,
   "metadata": {},
   "outputs": [
    {
     "data": {
      "text/plain": [
       "McDonald's                    1886\n",
       "Burger King                   1154\n",
       "Taco Bell                      873\n",
       "Wendy's                        731\n",
       "Arby's                         518\n",
       "                              ... \n",
       "Taco Delight                     1\n",
       "Subway - Roland Park             1\n",
       "Kings Contrivance Jewelers       1\n",
       "Elevation Burger                 1\n",
       "City Bites                       1\n",
       "Name: name, Length: 548, dtype: int64"
      ]
     },
     "execution_count": 51,
     "metadata": {},
     "output_type": "execute_result"
    }
   ],
   "source": [
    "df['name'].value_counts()"
   ]
  },
  {
   "cell_type": "code",
   "execution_count": 52,
   "metadata": {},
   "outputs": [
    {
     "data": {
      "text/plain": [
       "McDonald's        1886\n",
       "Burger King       1154\n",
       "Taco Bell          873\n",
       "Wendy's            731\n",
       "Arby's             518\n",
       "KFC                421\n",
       "Domino's Pizza     345\n",
       "Subway             322\n",
       "SONIC Drive In     226\n",
       "Hardee's           192\n",
       "Name: name, dtype: int64"
      ]
     },
     "execution_count": 52,
     "metadata": {},
     "output_type": "execute_result"
    }
   ],
   "source": [
    "df['name'].value_counts().head(10)"
   ]
  },
  {
   "cell_type": "code",
   "execution_count": 53,
   "metadata": {},
   "outputs": [],
   "source": [
    "df['name'] = df['name'].str.replace(r\"[\\\"\\',]\", '')"
   ]
  },
  {
   "cell_type": "code",
   "execution_count": 54,
   "metadata": {},
   "outputs": [
    {
     "data": {
      "text/plain": [
       "McDonalds         1997\n",
       "Burger King       1154\n",
       "Taco Bell          873\n",
       "Wendys             734\n",
       "Arbys              520\n",
       "KFC                421\n",
       "Dominos Pizza      359\n",
       "Subway             322\n",
       "SONIC Drive In     226\n",
       "Hardees            194\n",
       "Name: name, dtype: int64"
      ]
     },
     "execution_count": 54,
     "metadata": {},
     "output_type": "execute_result"
    }
   ],
   "source": [
    "df['name'].value_counts().head(10)"
   ]
  },
  {
   "cell_type": "code",
   "execution_count": 55,
   "metadata": {},
   "outputs": [],
   "source": [
    "aVariable = df['name'].value_counts().head(10)"
   ]
  },
  {
   "cell_type": "code",
   "execution_count": 56,
   "metadata": {},
   "outputs": [
    {
     "name": "stdout",
     "output_type": "stream",
     "text": [
      "Index(['McDonalds', 'Burger King', 'Taco Bell', 'Wendys', 'Arbys', 'KFC',\n",
      "       'Dominos Pizza', 'Subway', 'SONIC Drive In', 'Hardees'],\n",
      "      dtype='object')\n"
     ]
    }
   ],
   "source": [
    "print(aVariable.index)"
   ]
  },
  {
   "cell_type": "code",
   "execution_count": 57,
   "metadata": {},
   "outputs": [],
   "source": [
    "aList = aVariable.index.tolist()"
   ]
  },
  {
   "cell_type": "code",
   "execution_count": 58,
   "metadata": {},
   "outputs": [
    {
     "data": {
      "text/plain": [
       "['McDonalds',\n",
       " 'Burger King',\n",
       " 'Taco Bell',\n",
       " 'Wendys',\n",
       " 'Arbys',\n",
       " 'KFC',\n",
       " 'Dominos Pizza',\n",
       " 'Subway',\n",
       " 'SONIC Drive In',\n",
       " 'Hardees']"
      ]
     },
     "execution_count": 58,
     "metadata": {},
     "output_type": "execute_result"
    }
   ],
   "source": [
    "aList"
   ]
  },
  {
   "cell_type": "code",
   "execution_count": 59,
   "metadata": {},
   "outputs": [],
   "source": [
    "df['common_name'] = df.loc[df['name'].isin(aList),'name']"
   ]
  },
  {
   "cell_type": "code",
   "execution_count": 60,
   "metadata": {},
   "outputs": [
    {
     "data": {
      "text/plain": [
       "0    McDonalds\n",
       "1       Wendys\n",
       "2          NaN\n",
       "3    McDonalds\n",
       "4          NaN\n",
       "Name: common_name, dtype: object"
      ]
     },
     "execution_count": 60,
     "metadata": {},
     "output_type": "execute_result"
    }
   ],
   "source": [
    "df['common_name'].head()"
   ]
  },
  {
   "cell_type": "code",
   "execution_count": 61,
   "metadata": {},
   "outputs": [
    {
     "data": {
      "text/html": [
       "<div>\n",
       "<style scoped>\n",
       "    .dataframe tbody tr th:only-of-type {\n",
       "        vertical-align: middle;\n",
       "    }\n",
       "\n",
       "    .dataframe tbody tr th {\n",
       "        vertical-align: top;\n",
       "    }\n",
       "\n",
       "    .dataframe thead th {\n",
       "        text-align: right;\n",
       "    }\n",
       "</style>\n",
       "<table border=\"1\" class=\"dataframe\">\n",
       "  <thead>\n",
       "    <tr style=\"text-align: right;\">\n",
       "      <th></th>\n",
       "      <th>address</th>\n",
       "      <th>city</th>\n",
       "      <th>country</th>\n",
       "      <th>keys</th>\n",
       "      <th>latitude</th>\n",
       "      <th>longitude</th>\n",
       "      <th>name</th>\n",
       "      <th>postalCode</th>\n",
       "      <th>province</th>\n",
       "      <th>websites</th>\n",
       "      <th>latitude_round</th>\n",
       "      <th>common_name</th>\n",
       "    </tr>\n",
       "  </thead>\n",
       "  <tbody>\n",
       "    <tr>\n",
       "      <th>0</th>\n",
       "      <td>324 Main St</td>\n",
       "      <td>Massena</td>\n",
       "      <td>US</td>\n",
       "      <td>us/ny/massena/324mainst/-1161002137</td>\n",
       "      <td>44.92130</td>\n",
       "      <td>-74.89021</td>\n",
       "      <td>McDonalds</td>\n",
       "      <td>13662</td>\n",
       "      <td>NY</td>\n",
       "      <td>http://mcdonalds.com,http://www.mcdonalds.com/...</td>\n",
       "      <td>45.0</td>\n",
       "      <td>McDonalds</td>\n",
       "    </tr>\n",
       "    <tr>\n",
       "      <th>1</th>\n",
       "      <td>530 Clinton Ave</td>\n",
       "      <td>Washington Court House</td>\n",
       "      <td>US</td>\n",
       "      <td>us/oh/washingtoncourthouse/530clintonave/-7914...</td>\n",
       "      <td>39.53255</td>\n",
       "      <td>-83.44526</td>\n",
       "      <td>Wendys</td>\n",
       "      <td>43160</td>\n",
       "      <td>OH</td>\n",
       "      <td>http://www.wendys.com</td>\n",
       "      <td>40.0</td>\n",
       "      <td>Wendys</td>\n",
       "    </tr>\n",
       "    <tr>\n",
       "      <th>2</th>\n",
       "      <td>408 Market Square Dr</td>\n",
       "      <td>Maysville</td>\n",
       "      <td>US</td>\n",
       "      <td>us/ky/maysville/408marketsquaredr/1051460804</td>\n",
       "      <td>38.62736</td>\n",
       "      <td>-83.79141</td>\n",
       "      <td>Frischs Big Boy</td>\n",
       "      <td>41056</td>\n",
       "      <td>KY</td>\n",
       "      <td>http://www.frischs.com,https://www.frischs.com...</td>\n",
       "      <td>39.0</td>\n",
       "      <td>NaN</td>\n",
       "    </tr>\n",
       "    <tr>\n",
       "      <th>3</th>\n",
       "      <td>6098 State Highway 37</td>\n",
       "      <td>Massena</td>\n",
       "      <td>US</td>\n",
       "      <td>us/ny/massena/6098statehighway37/-1161002137</td>\n",
       "      <td>44.95008</td>\n",
       "      <td>-74.84553</td>\n",
       "      <td>McDonalds</td>\n",
       "      <td>13662</td>\n",
       "      <td>NY</td>\n",
       "      <td>http://mcdonalds.com,http://www.mcdonalds.com/...</td>\n",
       "      <td>45.0</td>\n",
       "      <td>McDonalds</td>\n",
       "    </tr>\n",
       "    <tr>\n",
       "      <th>4</th>\n",
       "      <td>139 Columbus Rd</td>\n",
       "      <td>Athens</td>\n",
       "      <td>US</td>\n",
       "      <td>us/oh/athens/139columbusrd/990890980</td>\n",
       "      <td>39.35155</td>\n",
       "      <td>-82.09728</td>\n",
       "      <td>OMG! Rotisserie</td>\n",
       "      <td>45701</td>\n",
       "      <td>OH</td>\n",
       "      <td>http://www.omgrotisserie.com,http://omgrotisse...</td>\n",
       "      <td>39.0</td>\n",
       "      <td>NaN</td>\n",
       "    </tr>\n",
       "  </tbody>\n",
       "</table>\n",
       "</div>"
      ],
      "text/plain": [
       "                 address                    city country  \\\n",
       "0            324 Main St                 Massena      US   \n",
       "1        530 Clinton Ave  Washington Court House      US   \n",
       "2   408 Market Square Dr               Maysville      US   \n",
       "3  6098 State Highway 37                 Massena      US   \n",
       "4        139 Columbus Rd                  Athens      US   \n",
       "\n",
       "                                                keys  latitude  longitude  \\\n",
       "0                us/ny/massena/324mainst/-1161002137  44.92130  -74.89021   \n",
       "1  us/oh/washingtoncourthouse/530clintonave/-7914...  39.53255  -83.44526   \n",
       "2       us/ky/maysville/408marketsquaredr/1051460804  38.62736  -83.79141   \n",
       "3       us/ny/massena/6098statehighway37/-1161002137  44.95008  -74.84553   \n",
       "4               us/oh/athens/139columbusrd/990890980  39.35155  -82.09728   \n",
       "\n",
       "              name postalCode province  \\\n",
       "0        McDonalds      13662       NY   \n",
       "1           Wendys      43160       OH   \n",
       "2  Frischs Big Boy      41056       KY   \n",
       "3        McDonalds      13662       NY   \n",
       "4  OMG! Rotisserie      45701       OH   \n",
       "\n",
       "                                            websites  latitude_round  \\\n",
       "0  http://mcdonalds.com,http://www.mcdonalds.com/...            45.0   \n",
       "1                              http://www.wendys.com            40.0   \n",
       "2  http://www.frischs.com,https://www.frischs.com...            39.0   \n",
       "3  http://mcdonalds.com,http://www.mcdonalds.com/...            45.0   \n",
       "4  http://www.omgrotisserie.com,http://omgrotisse...            39.0   \n",
       "\n",
       "  common_name  \n",
       "0   McDonalds  \n",
       "1      Wendys  \n",
       "2         NaN  \n",
       "3   McDonalds  \n",
       "4         NaN  "
      ]
     },
     "execution_count": 61,
     "metadata": {},
     "output_type": "execute_result"
    }
   ],
   "source": [
    "df.head()"
   ]
  },
  {
   "cell_type": "code",
   "execution_count": 228,
   "metadata": {},
   "outputs": [],
   "source": [
    "# Below we see a visualization of latitudes for each top 10 restaurant type. The below visualization is useful because\n",
    "# it points out outliers. It also shows the range of the data."
   ]
  },
  {
   "cell_type": "code",
   "execution_count": 62,
   "metadata": {},
   "outputs": [
    {
     "data": {
      "text/plain": [
       "<matplotlib.axes._subplots.AxesSubplot at 0x118c211c0>"
      ]
     },
     "execution_count": 62,
     "metadata": {},
     "output_type": "execute_result"
    },
    {
     "data": {
      "image/png": "[encoded data removed]",
      "text/plain": [
       "<Figure size 432x288 with 1 Axes>"
      ]
     },
     "metadata": {
      "needs_background": "light"
     },
     "output_type": "display_data"
    }
   ],
   "source": [
    "sns.scatterplot(x='latitude_round',y='common_name',data=df)"
   ]
  },
  {
   "cell_type": "code",
   "execution_count": 64,
   "metadata": {},
   "outputs": [
    {
     "data": {
      "text/html": [
       "<div>\n",
       "<style scoped>\n",
       "    .dataframe tbody tr th:only-of-type {\n",
       "        vertical-align: middle;\n",
       "    }\n",
       "\n",
       "    .dataframe tbody tr th {\n",
       "        vertical-align: top;\n",
       "    }\n",
       "\n",
       "    .dataframe thead th {\n",
       "        text-align: right;\n",
       "    }\n",
       "</style>\n",
       "<table border=\"1\" class=\"dataframe\">\n",
       "  <thead>\n",
       "    <tr style=\"text-align: right;\">\n",
       "      <th></th>\n",
       "      <th>address</th>\n",
       "      <th>city</th>\n",
       "      <th>country</th>\n",
       "      <th>keys</th>\n",
       "      <th>latitude</th>\n",
       "      <th>longitude</th>\n",
       "      <th>name</th>\n",
       "      <th>postalCode</th>\n",
       "      <th>province</th>\n",
       "      <th>websites</th>\n",
       "      <th>latitude_round</th>\n",
       "      <th>common_name</th>\n",
       "    </tr>\n",
       "  </thead>\n",
       "  <tbody>\n",
       "    <tr>\n",
       "      <th>0</th>\n",
       "      <td>324 Main St</td>\n",
       "      <td>Massena</td>\n",
       "      <td>US</td>\n",
       "      <td>us/ny/massena/324mainst/-1161002137</td>\n",
       "      <td>44.92130</td>\n",
       "      <td>-74.89021</td>\n",
       "      <td>McDonalds</td>\n",
       "      <td>13662</td>\n",
       "      <td>NY</td>\n",
       "      <td>http://mcdonalds.com,http://www.mcdonalds.com/...</td>\n",
       "      <td>45.0</td>\n",
       "      <td>McDonalds</td>\n",
       "    </tr>\n",
       "    <tr>\n",
       "      <th>1</th>\n",
       "      <td>530 Clinton Ave</td>\n",
       "      <td>Washington Court House</td>\n",
       "      <td>US</td>\n",
       "      <td>us/oh/washingtoncourthouse/530clintonave/-7914...</td>\n",
       "      <td>39.53255</td>\n",
       "      <td>-83.44526</td>\n",
       "      <td>Wendys</td>\n",
       "      <td>43160</td>\n",
       "      <td>OH</td>\n",
       "      <td>http://www.wendys.com</td>\n",
       "      <td>40.0</td>\n",
       "      <td>Wendys</td>\n",
       "    </tr>\n",
       "    <tr>\n",
       "      <th>2</th>\n",
       "      <td>408 Market Square Dr</td>\n",
       "      <td>Maysville</td>\n",
       "      <td>US</td>\n",
       "      <td>us/ky/maysville/408marketsquaredr/1051460804</td>\n",
       "      <td>38.62736</td>\n",
       "      <td>-83.79141</td>\n",
       "      <td>Frischs Big Boy</td>\n",
       "      <td>41056</td>\n",
       "      <td>KY</td>\n",
       "      <td>http://www.frischs.com,https://www.frischs.com...</td>\n",
       "      <td>39.0</td>\n",
       "      <td>NaN</td>\n",
       "    </tr>\n",
       "    <tr>\n",
       "      <th>3</th>\n",
       "      <td>6098 State Highway 37</td>\n",
       "      <td>Massena</td>\n",
       "      <td>US</td>\n",
       "      <td>us/ny/massena/6098statehighway37/-1161002137</td>\n",
       "      <td>44.95008</td>\n",
       "      <td>-74.84553</td>\n",
       "      <td>McDonalds</td>\n",
       "      <td>13662</td>\n",
       "      <td>NY</td>\n",
       "      <td>http://mcdonalds.com,http://www.mcdonalds.com/...</td>\n",
       "      <td>45.0</td>\n",
       "      <td>McDonalds</td>\n",
       "    </tr>\n",
       "    <tr>\n",
       "      <th>4</th>\n",
       "      <td>139 Columbus Rd</td>\n",
       "      <td>Athens</td>\n",
       "      <td>US</td>\n",
       "      <td>us/oh/athens/139columbusrd/990890980</td>\n",
       "      <td>39.35155</td>\n",
       "      <td>-82.09728</td>\n",
       "      <td>OMG! Rotisserie</td>\n",
       "      <td>45701</td>\n",
       "      <td>OH</td>\n",
       "      <td>http://www.omgrotisserie.com,http://omgrotisse...</td>\n",
       "      <td>39.0</td>\n",
       "      <td>NaN</td>\n",
       "    </tr>\n",
       "  </tbody>\n",
       "</table>\n",
       "</div>"
      ],
      "text/plain": [
       "                 address                    city country  \\\n",
       "0            324 Main St                 Massena      US   \n",
       "1        530 Clinton Ave  Washington Court House      US   \n",
       "2   408 Market Square Dr               Maysville      US   \n",
       "3  6098 State Highway 37                 Massena      US   \n",
       "4        139 Columbus Rd                  Athens      US   \n",
       "\n",
       "                                                keys  latitude  longitude  \\\n",
       "0                us/ny/massena/324mainst/-1161002137  44.92130  -74.89021   \n",
       "1  us/oh/washingtoncourthouse/530clintonave/-7914...  39.53255  -83.44526   \n",
       "2       us/ky/maysville/408marketsquaredr/1051460804  38.62736  -83.79141   \n",
       "3       us/ny/massena/6098statehighway37/-1161002137  44.95008  -74.84553   \n",
       "4               us/oh/athens/139columbusrd/990890980  39.35155  -82.09728   \n",
       "\n",
       "              name postalCode province  \\\n",
       "0        McDonalds      13662       NY   \n",
       "1           Wendys      43160       OH   \n",
       "2  Frischs Big Boy      41056       KY   \n",
       "3        McDonalds      13662       NY   \n",
       "4  OMG! Rotisserie      45701       OH   \n",
       "\n",
       "                                            websites  latitude_round  \\\n",
       "0  http://mcdonalds.com,http://www.mcdonalds.com/...            45.0   \n",
       "1                              http://www.wendys.com            40.0   \n",
       "2  http://www.frischs.com,https://www.frischs.com...            39.0   \n",
       "3  http://mcdonalds.com,http://www.mcdonalds.com/...            45.0   \n",
       "4  http://www.omgrotisserie.com,http://omgrotisse...            39.0   \n",
       "\n",
       "  common_name  \n",
       "0   McDonalds  \n",
       "1      Wendys  \n",
       "2         NaN  \n",
       "3   McDonalds  \n",
       "4         NaN  "
      ]
     },
     "execution_count": 64,
     "metadata": {},
     "output_type": "execute_result"
    }
   ],
   "source": [
    "df.head()"
   ]
  },
  {
   "cell_type": "code",
   "execution_count": 65,
   "metadata": {},
   "outputs": [],
   "source": [
    "df2 = df.groupby(by='common_name')"
   ]
  },
  {
   "cell_type": "code",
   "execution_count": 66,
   "metadata": {},
   "outputs": [
    {
     "data": {
      "text/html": [
       "<div>\n",
       "<style scoped>\n",
       "    .dataframe tbody tr th:only-of-type {\n",
       "        vertical-align: middle;\n",
       "    }\n",
       "\n",
       "    .dataframe tbody tr th {\n",
       "        vertical-align: top;\n",
       "    }\n",
       "\n",
       "    .dataframe thead th {\n",
       "        text-align: right;\n",
       "    }\n",
       "</style>\n",
       "<table border=\"1\" class=\"dataframe\">\n",
       "  <thead>\n",
       "    <tr style=\"text-align: right;\">\n",
       "      <th></th>\n",
       "      <th>address</th>\n",
       "      <th>city</th>\n",
       "      <th>country</th>\n",
       "      <th>keys</th>\n",
       "      <th>latitude</th>\n",
       "      <th>longitude</th>\n",
       "      <th>name</th>\n",
       "      <th>postalCode</th>\n",
       "      <th>province</th>\n",
       "      <th>websites</th>\n",
       "      <th>latitude_round</th>\n",
       "      <th>common_name</th>\n",
       "    </tr>\n",
       "  </thead>\n",
       "  <tbody>\n",
       "    <tr>\n",
       "      <th>0</th>\n",
       "      <td>324 Main St</td>\n",
       "      <td>Massena</td>\n",
       "      <td>US</td>\n",
       "      <td>us/ny/massena/324mainst/-1161002137</td>\n",
       "      <td>44.921300</td>\n",
       "      <td>-74.890210</td>\n",
       "      <td>McDonalds</td>\n",
       "      <td>13662</td>\n",
       "      <td>NY</td>\n",
       "      <td>http://mcdonalds.com,http://www.mcdonalds.com/...</td>\n",
       "      <td>45.0</td>\n",
       "      <td>McDonalds</td>\n",
       "    </tr>\n",
       "    <tr>\n",
       "      <th>1</th>\n",
       "      <td>530 Clinton Ave</td>\n",
       "      <td>Washington Court House</td>\n",
       "      <td>US</td>\n",
       "      <td>us/oh/washingtoncourthouse/530clintonave/-7914...</td>\n",
       "      <td>39.532550</td>\n",
       "      <td>-83.445260</td>\n",
       "      <td>Wendys</td>\n",
       "      <td>43160</td>\n",
       "      <td>OH</td>\n",
       "      <td>http://www.wendys.com</td>\n",
       "      <td>40.0</td>\n",
       "      <td>Wendys</td>\n",
       "    </tr>\n",
       "    <tr>\n",
       "      <th>2</th>\n",
       "      <td>408 Market Square Dr</td>\n",
       "      <td>Maysville</td>\n",
       "      <td>US</td>\n",
       "      <td>us/ky/maysville/408marketsquaredr/1051460804</td>\n",
       "      <td>38.627360</td>\n",
       "      <td>-83.791410</td>\n",
       "      <td>Frischs Big Boy</td>\n",
       "      <td>41056</td>\n",
       "      <td>KY</td>\n",
       "      <td>http://www.frischs.com,https://www.frischs.com...</td>\n",
       "      <td>39.0</td>\n",
       "      <td>NaN</td>\n",
       "    </tr>\n",
       "    <tr>\n",
       "      <th>3</th>\n",
       "      <td>6098 State Highway 37</td>\n",
       "      <td>Massena</td>\n",
       "      <td>US</td>\n",
       "      <td>us/ny/massena/6098statehighway37/-1161002137</td>\n",
       "      <td>44.950080</td>\n",
       "      <td>-74.845530</td>\n",
       "      <td>McDonalds</td>\n",
       "      <td>13662</td>\n",
       "      <td>NY</td>\n",
       "      <td>http://mcdonalds.com,http://www.mcdonalds.com/...</td>\n",
       "      <td>45.0</td>\n",
       "      <td>McDonalds</td>\n",
       "    </tr>\n",
       "    <tr>\n",
       "      <th>4</th>\n",
       "      <td>139 Columbus Rd</td>\n",
       "      <td>Athens</td>\n",
       "      <td>US</td>\n",
       "      <td>us/oh/athens/139columbusrd/990890980</td>\n",
       "      <td>39.351550</td>\n",
       "      <td>-82.097280</td>\n",
       "      <td>OMG! Rotisserie</td>\n",
       "      <td>45701</td>\n",
       "      <td>OH</td>\n",
       "      <td>http://www.omgrotisserie.com,http://omgrotisse...</td>\n",
       "      <td>39.0</td>\n",
       "      <td>NaN</td>\n",
       "    </tr>\n",
       "    <tr>\n",
       "      <th>5</th>\n",
       "      <td>4182 Tonya Trl</td>\n",
       "      <td>Hamilton</td>\n",
       "      <td>US</td>\n",
       "      <td>us/oh/hamilton/4182tonyatrl/-1055723171</td>\n",
       "      <td>39.417600</td>\n",
       "      <td>-84.476410</td>\n",
       "      <td>Dominos Pizza</td>\n",
       "      <td>45011</td>\n",
       "      <td>OH</td>\n",
       "      <td>https://www.dominos.com/en/?redirect=homepage,...</td>\n",
       "      <td>39.0</td>\n",
       "      <td>Dominos Pizza</td>\n",
       "    </tr>\n",
       "    <tr>\n",
       "      <th>6</th>\n",
       "      <td>590 S Main St</td>\n",
       "      <td>Englewood</td>\n",
       "      <td>US</td>\n",
       "      <td>us/oh/englewood/590smainst/-1055723171</td>\n",
       "      <td>39.869690</td>\n",
       "      <td>-84.293580</td>\n",
       "      <td>Dominos Pizza</td>\n",
       "      <td>45322</td>\n",
       "      <td>OH</td>\n",
       "      <td>https://www.dominos.com/en/?redirect=homepagea...</td>\n",
       "      <td>40.0</td>\n",
       "      <td>Dominos Pizza</td>\n",
       "    </tr>\n",
       "    <tr>\n",
       "      <th>7</th>\n",
       "      <td>401 N Jennings St</td>\n",
       "      <td>Saluda</td>\n",
       "      <td>US</td>\n",
       "      <td>us/sc/saluda/401njenningsst/-1161002137</td>\n",
       "      <td>34.005980</td>\n",
       "      <td>-81.770400</td>\n",
       "      <td>McDonalds</td>\n",
       "      <td>29138</td>\n",
       "      <td>SC</td>\n",
       "      <td>http://www.mcdonalds.com</td>\n",
       "      <td>34.0</td>\n",
       "      <td>McDonalds</td>\n",
       "    </tr>\n",
       "    <tr>\n",
       "      <th>8</th>\n",
       "      <td>205 W Church St</td>\n",
       "      <td>Batesburg</td>\n",
       "      <td>US</td>\n",
       "      <td>us/sc/batesburg/205wchurchst/-791445730</td>\n",
       "      <td>33.913350</td>\n",
       "      <td>-81.533300</td>\n",
       "      <td>Wendys</td>\n",
       "      <td>29006</td>\n",
       "      <td>SC</td>\n",
       "      <td>http://www.wendys.com</td>\n",
       "      <td>34.0</td>\n",
       "      <td>Wendys</td>\n",
       "    </tr>\n",
       "    <tr>\n",
       "      <th>9</th>\n",
       "      <td>2711 W. Kings Highway Ste. 18</td>\n",
       "      <td>Paragould</td>\n",
       "      <td>US</td>\n",
       "      <td>us/ar/paragould/2711wkingshighwayste18/-66712705</td>\n",
       "      <td>36.061070</td>\n",
       "      <td>-90.523250</td>\n",
       "      <td>Pizza Hut</td>\n",
       "      <td>72450</td>\n",
       "      <td>AR</td>\n",
       "      <td>http://www.pizzahut.com</td>\n",
       "      <td>36.0</td>\n",
       "      <td>NaN</td>\n",
       "    </tr>\n",
       "    <tr>\n",
       "      <th>10</th>\n",
       "      <td>613 W Center St</td>\n",
       "      <td>Sheridan</td>\n",
       "      <td>US</td>\n",
       "      <td>us/ar/sheridan/613wcenterst/1780593795</td>\n",
       "      <td>34.306870</td>\n",
       "      <td>-92.407840</td>\n",
       "      <td>SONIC Drive In</td>\n",
       "      <td>72150</td>\n",
       "      <td>AR</td>\n",
       "      <td>https://locations.sonicdrivein.com/ar/sheridan...</td>\n",
       "      <td>34.0</td>\n",
       "      <td>SONIC Drive In</td>\n",
       "    </tr>\n",
       "    <tr>\n",
       "      <th>11</th>\n",
       "      <td>512 Highway 425 S Lot B</td>\n",
       "      <td>Monticello</td>\n",
       "      <td>US</td>\n",
       "      <td>us/ar/monticello/512highway425slotb/-1055723171</td>\n",
       "      <td>33.619370</td>\n",
       "      <td>-91.802320</td>\n",
       "      <td>Dominos Pizza</td>\n",
       "      <td>71655</td>\n",
       "      <td>AR</td>\n",
       "      <td>https://www.dominos.com/en/?redirect=homepage,...</td>\n",
       "      <td>34.0</td>\n",
       "      <td>Dominos Pizza</td>\n",
       "    </tr>\n",
       "    <tr>\n",
       "      <th>12</th>\n",
       "      <td>1535 NW 50th St</td>\n",
       "      <td>Oklahoma City</td>\n",
       "      <td>US</td>\n",
       "      <td>us/ok/oklahomacity/1535nw50thst/-1161002137</td>\n",
       "      <td>35.522340</td>\n",
       "      <td>-97.538200</td>\n",
       "      <td>McDonalds</td>\n",
       "      <td>73118</td>\n",
       "      <td>OK</td>\n",
       "      <td>http://mcdonalds.com,http://www.mcdonalds.com/...</td>\n",
       "      <td>36.0</td>\n",
       "      <td>McDonalds</td>\n",
       "    </tr>\n",
       "    <tr>\n",
       "      <th>13</th>\n",
       "      <td>125 Towne Center Dr</td>\n",
       "      <td>Lexington</td>\n",
       "      <td>US</td>\n",
       "      <td>us/ky/lexington/125townecenterdr/-1055723171</td>\n",
       "      <td>38.067530</td>\n",
       "      <td>-84.530430</td>\n",
       "      <td>Dominos Pizza</td>\n",
       "      <td>40511</td>\n",
       "      <td>KY</td>\n",
       "      <td>https://www.dominos.com/en/?redirect=homepagea...</td>\n",
       "      <td>38.0</td>\n",
       "      <td>Dominos Pizza</td>\n",
       "    </tr>\n",
       "    <tr>\n",
       "      <th>14</th>\n",
       "      <td>66 14th St.</td>\n",
       "      <td>Tell City</td>\n",
       "      <td>US</td>\n",
       "      <td>us/in/tellcity/6614thst/1516016543</td>\n",
       "      <td>37.941032</td>\n",
       "      <td>-86.762115</td>\n",
       "      <td>Long John Silvers</td>\n",
       "      <td>47586</td>\n",
       "      <td>IN</td>\n",
       "      <td>http://www.ljsilvers.com</td>\n",
       "      <td>38.0</td>\n",
       "      <td>NaN</td>\n",
       "    </tr>\n",
       "    <tr>\n",
       "      <th>15</th>\n",
       "      <td>301 University Blvd</td>\n",
       "      <td>Louisville</td>\n",
       "      <td>US</td>\n",
       "      <td>us/ky/louisville/301universityblvd/-1161002137</td>\n",
       "      <td>38.219990</td>\n",
       "      <td>-85.764824</td>\n",
       "      <td>McDonalds</td>\n",
       "      <td>40208</td>\n",
       "      <td>KY</td>\n",
       "      <td>http://mcdonalds.com,http://www.mcdonalds.com/...</td>\n",
       "      <td>38.0</td>\n",
       "      <td>McDonalds</td>\n",
       "    </tr>\n",
       "    <tr>\n",
       "      <th>17</th>\n",
       "      <td>101 Thomas Garst Ln</td>\n",
       "      <td>Leland</td>\n",
       "      <td>US</td>\n",
       "      <td>us/nc/leland/101thomasgarstln/-864103396</td>\n",
       "      <td>34.233890</td>\n",
       "      <td>-77.995440</td>\n",
       "      <td>Taco Bell</td>\n",
       "      <td>28451</td>\n",
       "      <td>NC</td>\n",
       "      <td>http://www.tacobell.com,https://locations.taco...</td>\n",
       "      <td>34.0</td>\n",
       "      <td>Taco Bell</td>\n",
       "    </tr>\n",
       "    <tr>\n",
       "      <th>19</th>\n",
       "      <td>782 Old Hickory Blvd Ste 120</td>\n",
       "      <td>Brentwood</td>\n",
       "      <td>US</td>\n",
       "      <td>us/tn/brentwood/782oldhickoryblvdste120/-72295...</td>\n",
       "      <td>36.042220</td>\n",
       "      <td>-86.779950</td>\n",
       "      <td>Qdoba Mexican Grill</td>\n",
       "      <td>37027</td>\n",
       "      <td>TN</td>\n",
       "      <td>http://www.qdoba.com,https://locations.qdoba.c...</td>\n",
       "      <td>36.0</td>\n",
       "      <td>NaN</td>\n",
       "    </tr>\n",
       "    <tr>\n",
       "      <th>27</th>\n",
       "      <td>301 S Lynn Riggs Blvd</td>\n",
       "      <td>Claremore</td>\n",
       "      <td>US</td>\n",
       "      <td>us/ok/claremore/301slynnriggsblvd/-1055723171</td>\n",
       "      <td>36.310690</td>\n",
       "      <td>-95.617590</td>\n",
       "      <td>Dominos Pizza</td>\n",
       "      <td>74017</td>\n",
       "      <td>OK</td>\n",
       "      <td>https://www.dominos.com/en/?redirect=homepage,...</td>\n",
       "      <td>36.0</td>\n",
       "      <td>Dominos Pizza</td>\n",
       "    </tr>\n",
       "    <tr>\n",
       "      <th>29</th>\n",
       "      <td>3211 S 4th St</td>\n",
       "      <td>Leavenworth</td>\n",
       "      <td>US</td>\n",
       "      <td>us/ks/leavenworth/3211s4thst/1780593795</td>\n",
       "      <td>39.285320</td>\n",
       "      <td>-94.904410</td>\n",
       "      <td>SONIC Drive In</td>\n",
       "      <td>66048</td>\n",
       "      <td>KS</td>\n",
       "      <td>https://locations.sonicdrivein.com/ks/leavenwo...</td>\n",
       "      <td>39.0</td>\n",
       "      <td>SONIC Drive In</td>\n",
       "    </tr>\n",
       "    <tr>\n",
       "      <th>30</th>\n",
       "      <td>105 Business Loop W</td>\n",
       "      <td>Jamestown</td>\n",
       "      <td>US</td>\n",
       "      <td>us/nd/jamestown/105businessloopw/-864103396</td>\n",
       "      <td>46.898997</td>\n",
       "      <td>-98.707788</td>\n",
       "      <td>Taco Bell</td>\n",
       "      <td>58401</td>\n",
       "      <td>ND</td>\n",
       "      <td>http://www.tacobell.com,https://locations.taco...</td>\n",
       "      <td>47.0</td>\n",
       "      <td>Taco Bell</td>\n",
       "    </tr>\n",
       "    <tr>\n",
       "      <th>38</th>\n",
       "      <td>3208 S Elm Pl</td>\n",
       "      <td>Broken Arrow</td>\n",
       "      <td>US</td>\n",
       "      <td>us/ok/brokenarrow/3208selmpl/1780593795</td>\n",
       "      <td>36.019480</td>\n",
       "      <td>-95.797560</td>\n",
       "      <td>SONIC Drive In</td>\n",
       "      <td>74012</td>\n",
       "      <td>OK</td>\n",
       "      <td>https://locations.sonicdrivein.com/ok/broken-a...</td>\n",
       "      <td>36.0</td>\n",
       "      <td>SONIC Drive In</td>\n",
       "    </tr>\n",
       "    <tr>\n",
       "      <th>40</th>\n",
       "      <td>982 Macon St</td>\n",
       "      <td>Warner Robins</td>\n",
       "      <td>US</td>\n",
       "      <td>us/ga/warnerrobins/982maconst/-2061630068</td>\n",
       "      <td>32.594950</td>\n",
       "      <td>-83.583380</td>\n",
       "      <td>Burger King</td>\n",
       "      <td>31098</td>\n",
       "      <td>GA</td>\n",
       "      <td>http://www.bk.com,https://locations.bk.com/ga/...</td>\n",
       "      <td>33.0</td>\n",
       "      <td>Burger King</td>\n",
       "    </tr>\n",
       "    <tr>\n",
       "      <th>41</th>\n",
       "      <td>6060 San Mateo Blvd NE</td>\n",
       "      <td>Albuquerque</td>\n",
       "      <td>US</td>\n",
       "      <td>us/nm/albuquerque/6060sanmateoblvdne/-2061630068</td>\n",
       "      <td>35.144456</td>\n",
       "      <td>-106.585927</td>\n",
       "      <td>Burger King</td>\n",
       "      <td>87109</td>\n",
       "      <td>NM</td>\n",
       "      <td>http://www.bk.com,https://locations.bk.com/nm/...</td>\n",
       "      <td>35.0</td>\n",
       "      <td>Burger King</td>\n",
       "    </tr>\n",
       "    <tr>\n",
       "      <th>43</th>\n",
       "      <td>450 N Harrison Ave</td>\n",
       "      <td>Shawnee</td>\n",
       "      <td>US</td>\n",
       "      <td>us/ok/shawnee/450nharrisonave/1780593795</td>\n",
       "      <td>35.332520</td>\n",
       "      <td>-96.912220</td>\n",
       "      <td>SONIC Drive In</td>\n",
       "      <td>74801</td>\n",
       "      <td>OK</td>\n",
       "      <td>https://locations.sonicdrivein.com/ok/shawnee/...</td>\n",
       "      <td>35.0</td>\n",
       "      <td>SONIC Drive In</td>\n",
       "    </tr>\n",
       "    <tr>\n",
       "      <th>46</th>\n",
       "      <td>18000 Bagley Rd</td>\n",
       "      <td>Cleveland</td>\n",
       "      <td>US</td>\n",
       "      <td>us/oh/cleveland/18000bagleyrd/-2061630068</td>\n",
       "      <td>41.373042</td>\n",
       "      <td>-81.826072</td>\n",
       "      <td>Burger King</td>\n",
       "      <td>44130</td>\n",
       "      <td>OH</td>\n",
       "      <td>http://www.bk.com</td>\n",
       "      <td>41.0</td>\n",
       "      <td>Burger King</td>\n",
       "    </tr>\n",
       "    <tr>\n",
       "      <th>56</th>\n",
       "      <td>100 Northside Dr</td>\n",
       "      <td>Bennington</td>\n",
       "      <td>US</td>\n",
       "      <td>us/vt/bennington/100northsidedr/-864103396</td>\n",
       "      <td>42.894130</td>\n",
       "      <td>-73.203160</td>\n",
       "      <td>Taco Bell</td>\n",
       "      <td>5201</td>\n",
       "      <td>VT</td>\n",
       "      <td>http://www.tacobell.com,https://locations.taco...</td>\n",
       "      <td>43.0</td>\n",
       "      <td>Taco Bell</td>\n",
       "    </tr>\n",
       "    <tr>\n",
       "      <th>59</th>\n",
       "      <td>315 N Stephenson Ave</td>\n",
       "      <td>Iron Mountain</td>\n",
       "      <td>US</td>\n",
       "      <td>us/mi/ironmountain/315nstephensonave/696490760</td>\n",
       "      <td>45.825755</td>\n",
       "      <td>-88.063121</td>\n",
       "      <td>Hardees</td>\n",
       "      <td>49801</td>\n",
       "      <td>MI</td>\n",
       "      <td>http://www.hardees.com</td>\n",
       "      <td>46.0</td>\n",
       "      <td>Hardees</td>\n",
       "    </tr>\n",
       "    <tr>\n",
       "      <th>63</th>\n",
       "      <td>225 Grant Ave</td>\n",
       "      <td>Auburn</td>\n",
       "      <td>US</td>\n",
       "      <td>us/ny/auburn/225grantave/-2061630068</td>\n",
       "      <td>42.949870</td>\n",
       "      <td>-76.547220</td>\n",
       "      <td>Burger King</td>\n",
       "      <td>13021</td>\n",
       "      <td>NY</td>\n",
       "      <td>http://www.bk.com,https://locations.bk.com/ny/...</td>\n",
       "      <td>43.0</td>\n",
       "      <td>Burger King</td>\n",
       "    </tr>\n",
       "    <tr>\n",
       "      <th>66</th>\n",
       "      <td>111 Commons Dr</td>\n",
       "      <td>Maumelle</td>\n",
       "      <td>US</td>\n",
       "      <td>us/ar/maumelle/111commonsdr/1780593795</td>\n",
       "      <td>34.848080</td>\n",
       "      <td>-92.406240</td>\n",
       "      <td>SONIC Drive In</td>\n",
       "      <td>72113</td>\n",
       "      <td>AR</td>\n",
       "      <td>https://locations.sonicdrivein.com/ar/maumelle...</td>\n",
       "      <td>35.0</td>\n",
       "      <td>SONIC Drive In</td>\n",
       "    </tr>\n",
       "    <tr>\n",
       "      <th>67</th>\n",
       "      <td>344 S Service Rd E</td>\n",
       "      <td>Sullivan</td>\n",
       "      <td>US</td>\n",
       "      <td>us/mo/sullivan/344sservicerde/-864103396</td>\n",
       "      <td>38.223030</td>\n",
       "      <td>-91.156960</td>\n",
       "      <td>Taco Bell</td>\n",
       "      <td>63080</td>\n",
       "      <td>MO</td>\n",
       "      <td>http://www.tacobell.com,https://locations.taco...</td>\n",
       "      <td>38.0</td>\n",
       "      <td>Taco Bell</td>\n",
       "    </tr>\n",
       "    <tr>\n",
       "      <th>69</th>\n",
       "      <td>2124 S 1st St</td>\n",
       "      <td>Yakima</td>\n",
       "      <td>US</td>\n",
       "      <td>us/wa/yakima/2124s1stst/-864103396</td>\n",
       "      <td>46.571440</td>\n",
       "      <td>-120.488250</td>\n",
       "      <td>Taco Bell</td>\n",
       "      <td>98903</td>\n",
       "      <td>WA</td>\n",
       "      <td>https://locations.tacobell.com/wa/yakima/2124-...</td>\n",
       "      <td>47.0</td>\n",
       "      <td>Taco Bell</td>\n",
       "    </tr>\n",
       "    <tr>\n",
       "      <th>75</th>\n",
       "      <td>Co-Op City</td>\n",
       "      <td>Bronx</td>\n",
       "      <td>US</td>\n",
       "      <td>us/ny/bronx/opcity/-2061630068</td>\n",
       "      <td>40.869100</td>\n",
       "      <td>-73.824800</td>\n",
       "      <td>Burger King</td>\n",
       "      <td>10475</td>\n",
       "      <td>NY</td>\n",
       "      <td>http://www.bk.com</td>\n",
       "      <td>41.0</td>\n",
       "      <td>Burger King</td>\n",
       "    </tr>\n",
       "    <tr>\n",
       "      <th>80</th>\n",
       "      <td>875 W 1150 S</td>\n",
       "      <td>Brigham City</td>\n",
       "      <td>US</td>\n",
       "      <td>us/ut/brighamcity/875w1150s/-891525969</td>\n",
       "      <td>41.485610</td>\n",
       "      <td>-112.029340</td>\n",
       "      <td>Subway</td>\n",
       "      <td>84302</td>\n",
       "      <td>UT</td>\n",
       "      <td>http://www.subway.com,http://subway.com</td>\n",
       "      <td>41.0</td>\n",
       "      <td>Subway</td>\n",
       "    </tr>\n",
       "    <tr>\n",
       "      <th>83</th>\n",
       "      <td>2505 State Rd</td>\n",
       "      <td>La Crosse</td>\n",
       "      <td>US</td>\n",
       "      <td>us/wi/lacrosse/2505staterd/696490760</td>\n",
       "      <td>43.796090</td>\n",
       "      <td>-91.217690</td>\n",
       "      <td>Hardees</td>\n",
       "      <td>54601</td>\n",
       "      <td>WI</td>\n",
       "      <td>http://www.hardees.com</td>\n",
       "      <td>44.0</td>\n",
       "      <td>Hardees</td>\n",
       "    </tr>\n",
       "    <tr>\n",
       "      <th>128</th>\n",
       "      <td>1231 Holcomb Blvd</td>\n",
       "      <td>Camp Lejeune</td>\n",
       "      <td>US</td>\n",
       "      <td>us/nc/camplejeune/1231holcombblvd/-791445730</td>\n",
       "      <td>34.724180</td>\n",
       "      <td>-77.344440</td>\n",
       "      <td>Wendys</td>\n",
       "      <td>28547</td>\n",
       "      <td>NC</td>\n",
       "      <td>http://www.wendys.com</td>\n",
       "      <td>35.0</td>\n",
       "      <td>Wendys</td>\n",
       "    </tr>\n",
       "    <tr>\n",
       "      <th>136</th>\n",
       "      <td>2001 Sutton Ln</td>\n",
       "      <td>Sutton</td>\n",
       "      <td>US</td>\n",
       "      <td>us/wv/sutton/2001suttonln/93075755</td>\n",
       "      <td>38.700840</td>\n",
       "      <td>-80.664158</td>\n",
       "      <td>Arbys</td>\n",
       "      <td>26601</td>\n",
       "      <td>WV</td>\n",
       "      <td>http://www.arbys.com,http://arbys.com/our-menu</td>\n",
       "      <td>39.0</td>\n",
       "      <td>Arbys</td>\n",
       "    </tr>\n",
       "    <tr>\n",
       "      <th>143</th>\n",
       "      <td>502 W Columbia Ave</td>\n",
       "      <td>Batesburg</td>\n",
       "      <td>US</td>\n",
       "      <td>us/sc/batesburg/502wcolumbiaave/696490760</td>\n",
       "      <td>33.903931</td>\n",
       "      <td>-81.545787</td>\n",
       "      <td>Hardees</td>\n",
       "      <td>29006</td>\n",
       "      <td>SC</td>\n",
       "      <td>http://www.hardees.com</td>\n",
       "      <td>34.0</td>\n",
       "      <td>Hardees</td>\n",
       "    </tr>\n",
       "    <tr>\n",
       "      <th>156</th>\n",
       "      <td>324 W Bypass</td>\n",
       "      <td>Andalusia</td>\n",
       "      <td>US</td>\n",
       "      <td>us/al/andalusia/324wbypass/93075755</td>\n",
       "      <td>31.307890</td>\n",
       "      <td>-86.499900</td>\n",
       "      <td>Arbys</td>\n",
       "      <td>36420</td>\n",
       "      <td>AL</td>\n",
       "      <td>http://www.arbys.com,https://locations.arbys.c...</td>\n",
       "      <td>31.0</td>\n",
       "      <td>Arbys</td>\n",
       "    </tr>\n",
       "    <tr>\n",
       "      <th>161</th>\n",
       "      <td>2 N Mineral St</td>\n",
       "      <td>Keyser</td>\n",
       "      <td>US</td>\n",
       "      <td>us/wv/keyser/2nmineralst/-891525969</td>\n",
       "      <td>39.440230</td>\n",
       "      <td>-78.977440</td>\n",
       "      <td>Subway</td>\n",
       "      <td>26726</td>\n",
       "      <td>WV</td>\n",
       "      <td>http://www.subway.com</td>\n",
       "      <td>39.0</td>\n",
       "      <td>Subway</td>\n",
       "    </tr>\n",
       "    <tr>\n",
       "      <th>206</th>\n",
       "      <td>207 N Broadway St</td>\n",
       "      <td>Checotah</td>\n",
       "      <td>US</td>\n",
       "      <td>us/ok/checotah/207nbroadwayst/-891525969</td>\n",
       "      <td>35.471320</td>\n",
       "      <td>-95.521560</td>\n",
       "      <td>Subway</td>\n",
       "      <td>74426</td>\n",
       "      <td>OK</td>\n",
       "      <td>http://www.subway.com,http://subway.com</td>\n",
       "      <td>35.0</td>\n",
       "      <td>Subway</td>\n",
       "    </tr>\n",
       "    <tr>\n",
       "      <th>210</th>\n",
       "      <td>5704 Jackson St</td>\n",
       "      <td>Alexandria</td>\n",
       "      <td>US</td>\n",
       "      <td>us/la/alexandria/5704jacksonst/-891525969</td>\n",
       "      <td>31.267880</td>\n",
       "      <td>-92.487410</td>\n",
       "      <td>Subway</td>\n",
       "      <td>71303</td>\n",
       "      <td>LA</td>\n",
       "      <td>http://www.subway.com</td>\n",
       "      <td>31.0</td>\n",
       "      <td>Subway</td>\n",
       "    </tr>\n",
       "    <tr>\n",
       "      <th>217</th>\n",
       "      <td>313 2nd St</td>\n",
       "      <td>North Wilkesboro</td>\n",
       "      <td>US</td>\n",
       "      <td>us/nc/northwilkesboro/3132ndst/-791445730</td>\n",
       "      <td>36.165620</td>\n",
       "      <td>-81.136580</td>\n",
       "      <td>Wendys</td>\n",
       "      <td>28659</td>\n",
       "      <td>NC</td>\n",
       "      <td>http://www.wendys.com</td>\n",
       "      <td>36.0</td>\n",
       "      <td>Wendys</td>\n",
       "    </tr>\n",
       "    <tr>\n",
       "      <th>229</th>\n",
       "      <td>1400 S Higley Blvd</td>\n",
       "      <td>Rawlins</td>\n",
       "      <td>US</td>\n",
       "      <td>us/wy/rawlins/1400shigleyblvd/-891525969</td>\n",
       "      <td>41.776180</td>\n",
       "      <td>-107.225930</td>\n",
       "      <td>Subway</td>\n",
       "      <td>82301</td>\n",
       "      <td>WY</td>\n",
       "      <td>https://www.ta-petro.com</td>\n",
       "      <td>42.0</td>\n",
       "      <td>Subway</td>\n",
       "    </tr>\n",
       "    <tr>\n",
       "      <th>245</th>\n",
       "      <td>14493 Gideon Dr</td>\n",
       "      <td>Woodbridge</td>\n",
       "      <td>US</td>\n",
       "      <td>us/va/woodbridge/14493gideondr/-791445730</td>\n",
       "      <td>38.637623</td>\n",
       "      <td>-77.297706</td>\n",
       "      <td>Wendys</td>\n",
       "      <td>22192</td>\n",
       "      <td>VA</td>\n",
       "      <td>http://www.wendys.com</td>\n",
       "      <td>39.0</td>\n",
       "      <td>Wendys</td>\n",
       "    </tr>\n",
       "    <tr>\n",
       "      <th>246</th>\n",
       "      <td>2815 Fern Valley Rd</td>\n",
       "      <td>Louisville</td>\n",
       "      <td>US</td>\n",
       "      <td>us/ky/louisville/2815fernvalleyrd/93075755</td>\n",
       "      <td>38.157500</td>\n",
       "      <td>-85.711200</td>\n",
       "      <td>Arbys</td>\n",
       "      <td>40213</td>\n",
       "      <td>KY</td>\n",
       "      <td>http://www.arbys.com</td>\n",
       "      <td>38.0</td>\n",
       "      <td>Arbys</td>\n",
       "    </tr>\n",
       "    <tr>\n",
       "      <th>249</th>\n",
       "      <td>713 McCroskey St</td>\n",
       "      <td>Nixa</td>\n",
       "      <td>US</td>\n",
       "      <td>us/mo/nixa/713mccroskeyst/93075755</td>\n",
       "      <td>37.053586</td>\n",
       "      <td>-93.302767</td>\n",
       "      <td>Arbys</td>\n",
       "      <td>65714</td>\n",
       "      <td>MO</td>\n",
       "      <td>http://www.arbys.com,https://locations.arbys.c...</td>\n",
       "      <td>37.0</td>\n",
       "      <td>Arbys</td>\n",
       "    </tr>\n",
       "    <tr>\n",
       "      <th>272</th>\n",
       "      <td>501 S 8th St</td>\n",
       "      <td>Rogers</td>\n",
       "      <td>US</td>\n",
       "      <td>us/ar/rogers/501s8thst/93075755</td>\n",
       "      <td>36.329530</td>\n",
       "      <td>-94.125430</td>\n",
       "      <td>Arbys</td>\n",
       "      <td>72756</td>\n",
       "      <td>AR</td>\n",
       "      <td>https://locations.arbys.com/us/ar/rogers/501-s...</td>\n",
       "      <td>36.0</td>\n",
       "      <td>Arbys</td>\n",
       "    </tr>\n",
       "    <tr>\n",
       "      <th>275</th>\n",
       "      <td>401 S Thompson St</td>\n",
       "      <td>Springdale</td>\n",
       "      <td>US</td>\n",
       "      <td>us/ar/springdale/401sthompsonst/696490760</td>\n",
       "      <td>36.182500</td>\n",
       "      <td>-94.138655</td>\n",
       "      <td>Hardees</td>\n",
       "      <td>72764</td>\n",
       "      <td>AR</td>\n",
       "      <td>http://www.hardees.com</td>\n",
       "      <td>36.0</td>\n",
       "      <td>Hardees</td>\n",
       "    </tr>\n",
       "    <tr>\n",
       "      <th>295</th>\n",
       "      <td>605 W US Highway 18</td>\n",
       "      <td>Garner</td>\n",
       "      <td>US</td>\n",
       "      <td>us/ia/garner/605wushighway18/696490760</td>\n",
       "      <td>43.105860</td>\n",
       "      <td>-93.607445</td>\n",
       "      <td>Hardees</td>\n",
       "      <td>50438</td>\n",
       "      <td>IA</td>\n",
       "      <td>http://www.hardees.com</td>\n",
       "      <td>43.0</td>\n",
       "      <td>Hardees</td>\n",
       "    </tr>\n",
       "    <tr>\n",
       "      <th>331</th>\n",
       "      <td>302 S Main St</td>\n",
       "      <td>Swainsboro</td>\n",
       "      <td>US</td>\n",
       "      <td>us/ga/swainsboro/302smainst/106088</td>\n",
       "      <td>32.593100</td>\n",
       "      <td>-82.331400</td>\n",
       "      <td>KFC</td>\n",
       "      <td>30401</td>\n",
       "      <td>GA</td>\n",
       "      <td>http://www.kfc.com</td>\n",
       "      <td>33.0</td>\n",
       "      <td>KFC</td>\n",
       "    </tr>\n",
       "    <tr>\n",
       "      <th>345</th>\n",
       "      <td>613 Flindt Dr</td>\n",
       "      <td>Storm Lake</td>\n",
       "      <td>US</td>\n",
       "      <td>us/ia/stormlake/613flindtdr/106088</td>\n",
       "      <td>42.645300</td>\n",
       "      <td>-95.188100</td>\n",
       "      <td>KFC</td>\n",
       "      <td>50588</td>\n",
       "      <td>IA</td>\n",
       "      <td>http://www.kfc.com</td>\n",
       "      <td>43.0</td>\n",
       "      <td>KFC</td>\n",
       "    </tr>\n",
       "    <tr>\n",
       "      <th>372</th>\n",
       "      <td>510 N Webster St</td>\n",
       "      <td>Taylorville</td>\n",
       "      <td>US</td>\n",
       "      <td>us/il/taylorville/510nwebsterst/106088</td>\n",
       "      <td>39.554200</td>\n",
       "      <td>-89.297000</td>\n",
       "      <td>KFC</td>\n",
       "      <td>62568</td>\n",
       "      <td>IL</td>\n",
       "      <td>http://www.kfc.com</td>\n",
       "      <td>40.0</td>\n",
       "      <td>KFC</td>\n",
       "    </tr>\n",
       "    <tr>\n",
       "      <th>380</th>\n",
       "      <td>104 Village Rd NE</td>\n",
       "      <td>Leland</td>\n",
       "      <td>US</td>\n",
       "      <td>us/nc/leland/104villagerdne/106088</td>\n",
       "      <td>34.233900</td>\n",
       "      <td>-77.996000</td>\n",
       "      <td>KFC</td>\n",
       "      <td>28451</td>\n",
       "      <td>NC</td>\n",
       "      <td>http://www.kfc.com</td>\n",
       "      <td>34.0</td>\n",
       "      <td>KFC</td>\n",
       "    </tr>\n",
       "    <tr>\n",
       "      <th>397</th>\n",
       "      <td>568 N 2nd E</td>\n",
       "      <td>Rexburg</td>\n",
       "      <td>US</td>\n",
       "      <td>us/id/rexburg/568n2nde/106088</td>\n",
       "      <td>43.835842</td>\n",
       "      <td>-111.778080</td>\n",
       "      <td>KFC</td>\n",
       "      <td>83440</td>\n",
       "      <td>ID</td>\n",
       "      <td>http://www.kfc.com</td>\n",
       "      <td>44.0</td>\n",
       "      <td>KFC</td>\n",
       "    </tr>\n",
       "  </tbody>\n",
       "</table>\n",
       "</div>"
      ],
      "text/plain": [
       "                           address                    city country  \\\n",
       "0                      324 Main St                 Massena      US   \n",
       "1                  530 Clinton Ave  Washington Court House      US   \n",
       "2             408 Market Square Dr               Maysville      US   \n",
       "3            6098 State Highway 37                 Massena      US   \n",
       "4                  139 Columbus Rd                  Athens      US   \n",
       "5                   4182 Tonya Trl                Hamilton      US   \n",
       "6                    590 S Main St               Englewood      US   \n",
       "7                401 N Jennings St                  Saluda      US   \n",
       "8                  205 W Church St               Batesburg      US   \n",
       "9    2711 W. Kings Highway Ste. 18               Paragould      US   \n",
       "10                 613 W Center St                Sheridan      US   \n",
       "11         512 Highway 425 S Lot B              Monticello      US   \n",
       "12                 1535 NW 50th St           Oklahoma City      US   \n",
       "13             125 Towne Center Dr               Lexington      US   \n",
       "14                     66 14th St.               Tell City      US   \n",
       "15             301 University Blvd              Louisville      US   \n",
       "17             101 Thomas Garst Ln                  Leland      US   \n",
       "19    782 Old Hickory Blvd Ste 120               Brentwood      US   \n",
       "27           301 S Lynn Riggs Blvd               Claremore      US   \n",
       "29                   3211 S 4th St             Leavenworth      US   \n",
       "30             105 Business Loop W               Jamestown      US   \n",
       "38                   3208 S Elm Pl            Broken Arrow      US   \n",
       "40                    982 Macon St           Warner Robins      US   \n",
       "41          6060 San Mateo Blvd NE             Albuquerque      US   \n",
       "43              450 N Harrison Ave                 Shawnee      US   \n",
       "46                 18000 Bagley Rd               Cleveland      US   \n",
       "56                100 Northside Dr              Bennington      US   \n",
       "59            315 N Stephenson Ave           Iron Mountain      US   \n",
       "63                   225 Grant Ave                  Auburn      US   \n",
       "66                  111 Commons Dr                Maumelle      US   \n",
       "67              344 S Service Rd E                Sullivan      US   \n",
       "69                   2124 S 1st St                  Yakima      US   \n",
       "75                      Co-Op City                   Bronx      US   \n",
       "80                    875 W 1150 S            Brigham City      US   \n",
       "83                   2505 State Rd               La Crosse      US   \n",
       "128              1231 Holcomb Blvd            Camp Lejeune      US   \n",
       "136                 2001 Sutton Ln                  Sutton      US   \n",
       "143             502 W Columbia Ave               Batesburg      US   \n",
       "156                   324 W Bypass               Andalusia      US   \n",
       "161                 2 N Mineral St                  Keyser      US   \n",
       "206              207 N Broadway St                Checotah      US   \n",
       "210                5704 Jackson St              Alexandria      US   \n",
       "217                     313 2nd St        North Wilkesboro      US   \n",
       "229             1400 S Higley Blvd                 Rawlins      US   \n",
       "245                14493 Gideon Dr              Woodbridge      US   \n",
       "246            2815 Fern Valley Rd              Louisville      US   \n",
       "249               713 McCroskey St                    Nixa      US   \n",
       "272                   501 S 8th St                  Rogers      US   \n",
       "275              401 S Thompson St              Springdale      US   \n",
       "295            605 W US Highway 18                  Garner      US   \n",
       "331                  302 S Main St              Swainsboro      US   \n",
       "345                  613 Flindt Dr              Storm Lake      US   \n",
       "372               510 N Webster St             Taylorville      US   \n",
       "380              104 Village Rd NE                  Leland      US   \n",
       "397                    568 N 2nd E                 Rexburg      US   \n",
       "\n",
       "                                                  keys   latitude   longitude  \\\n",
       "0                  us/ny/massena/324mainst/-1161002137  44.921300  -74.890210   \n",
       "1    us/oh/washingtoncourthouse/530clintonave/-7914...  39.532550  -83.445260   \n",
       "2         us/ky/maysville/408marketsquaredr/1051460804  38.627360  -83.791410   \n",
       "3         us/ny/massena/6098statehighway37/-1161002137  44.950080  -74.845530   \n",
       "4                 us/oh/athens/139columbusrd/990890980  39.351550  -82.097280   \n",
       "5              us/oh/hamilton/4182tonyatrl/-1055723171  39.417600  -84.476410   \n",
       "6               us/oh/englewood/590smainst/-1055723171  39.869690  -84.293580   \n",
       "7              us/sc/saluda/401njenningsst/-1161002137  34.005980  -81.770400   \n",
       "8              us/sc/batesburg/205wchurchst/-791445730  33.913350  -81.533300   \n",
       "9     us/ar/paragould/2711wkingshighwayste18/-66712705  36.061070  -90.523250   \n",
       "10              us/ar/sheridan/613wcenterst/1780593795  34.306870  -92.407840   \n",
       "11     us/ar/monticello/512highway425slotb/-1055723171  33.619370  -91.802320   \n",
       "12         us/ok/oklahomacity/1535nw50thst/-1161002137  35.522340  -97.538200   \n",
       "13        us/ky/lexington/125townecenterdr/-1055723171  38.067530  -84.530430   \n",
       "14                  us/in/tellcity/6614thst/1516016543  37.941032  -86.762115   \n",
       "15      us/ky/louisville/301universityblvd/-1161002137  38.219990  -85.764824   \n",
       "17            us/nc/leland/101thomasgarstln/-864103396  34.233890  -77.995440   \n",
       "19   us/tn/brentwood/782oldhickoryblvdste120/-72295...  36.042220  -86.779950   \n",
       "27       us/ok/claremore/301slynnriggsblvd/-1055723171  36.310690  -95.617590   \n",
       "29             us/ks/leavenworth/3211s4thst/1780593795  39.285320  -94.904410   \n",
       "30         us/nd/jamestown/105businessloopw/-864103396  46.898997  -98.707788   \n",
       "38             us/ok/brokenarrow/3208selmpl/1780593795  36.019480  -95.797560   \n",
       "40           us/ga/warnerrobins/982maconst/-2061630068  32.594950  -83.583380   \n",
       "41    us/nm/albuquerque/6060sanmateoblvdne/-2061630068  35.144456 -106.585927   \n",
       "43            us/ok/shawnee/450nharrisonave/1780593795  35.332520  -96.912220   \n",
       "46           us/oh/cleveland/18000bagleyrd/-2061630068  41.373042  -81.826072   \n",
       "56          us/vt/bennington/100northsidedr/-864103396  42.894130  -73.203160   \n",
       "59      us/mi/ironmountain/315nstephensonave/696490760  45.825755  -88.063121   \n",
       "63                us/ny/auburn/225grantave/-2061630068  42.949870  -76.547220   \n",
       "66              us/ar/maumelle/111commonsdr/1780593795  34.848080  -92.406240   \n",
       "67            us/mo/sullivan/344sservicerde/-864103396  38.223030  -91.156960   \n",
       "69                  us/wa/yakima/2124s1stst/-864103396  46.571440 -120.488250   \n",
       "75                      us/ny/bronx/opcity/-2061630068  40.869100  -73.824800   \n",
       "80              us/ut/brighamcity/875w1150s/-891525969  41.485610 -112.029340   \n",
       "83                us/wi/lacrosse/2505staterd/696490760  43.796090  -91.217690   \n",
       "128       us/nc/camplejeune/1231holcombblvd/-791445730  34.724180  -77.344440   \n",
       "136                 us/wv/sutton/2001suttonln/93075755  38.700840  -80.664158   \n",
       "143          us/sc/batesburg/502wcolumbiaave/696490760  33.903931  -81.545787   \n",
       "156                us/al/andalusia/324wbypass/93075755  31.307890  -86.499900   \n",
       "161                us/wv/keyser/2nmineralst/-891525969  39.440230  -78.977440   \n",
       "206           us/ok/checotah/207nbroadwayst/-891525969  35.471320  -95.521560   \n",
       "210          us/la/alexandria/5704jacksonst/-891525969  31.267880  -92.487410   \n",
       "217          us/nc/northwilkesboro/3132ndst/-791445730  36.165620  -81.136580   \n",
       "229           us/wy/rawlins/1400shigleyblvd/-891525969  41.776180 -107.225930   \n",
       "245          us/va/woodbridge/14493gideondr/-791445730  38.637623  -77.297706   \n",
       "246         us/ky/louisville/2815fernvalleyrd/93075755  38.157500  -85.711200   \n",
       "249                 us/mo/nixa/713mccroskeyst/93075755  37.053586  -93.302767   \n",
       "272                    us/ar/rogers/501s8thst/93075755  36.329530  -94.125430   \n",
       "275          us/ar/springdale/401sthompsonst/696490760  36.182500  -94.138655   \n",
       "295             us/ia/garner/605wushighway18/696490760  43.105860  -93.607445   \n",
       "331                 us/ga/swainsboro/302smainst/106088  32.593100  -82.331400   \n",
       "345                 us/ia/stormlake/613flindtdr/106088  42.645300  -95.188100   \n",
       "372             us/il/taylorville/510nwebsterst/106088  39.554200  -89.297000   \n",
       "380                 us/nc/leland/104villagerdne/106088  34.233900  -77.996000   \n",
       "397                      us/id/rexburg/568n2nde/106088  43.835842 -111.778080   \n",
       "\n",
       "                    name postalCode province  \\\n",
       "0              McDonalds      13662       NY   \n",
       "1                 Wendys      43160       OH   \n",
       "2        Frischs Big Boy      41056       KY   \n",
       "3              McDonalds      13662       NY   \n",
       "4        OMG! Rotisserie      45701       OH   \n",
       "5          Dominos Pizza      45011       OH   \n",
       "6          Dominos Pizza      45322       OH   \n",
       "7              McDonalds      29138       SC   \n",
       "8                 Wendys      29006       SC   \n",
       "9              Pizza Hut      72450       AR   \n",
       "10        SONIC Drive In      72150       AR   \n",
       "11         Dominos Pizza      71655       AR   \n",
       "12             McDonalds      73118       OK   \n",
       "13         Dominos Pizza      40511       KY   \n",
       "14     Long John Silvers      47586       IN   \n",
       "15             McDonalds      40208       KY   \n",
       "17             Taco Bell      28451       NC   \n",
       "19   Qdoba Mexican Grill      37027       TN   \n",
       "27         Dominos Pizza      74017       OK   \n",
       "29        SONIC Drive In      66048       KS   \n",
       "30             Taco Bell      58401       ND   \n",
       "38        SONIC Drive In      74012       OK   \n",
       "40           Burger King      31098       GA   \n",
       "41           Burger King      87109       NM   \n",
       "43        SONIC Drive In      74801       OK   \n",
       "46           Burger King      44130       OH   \n",
       "56             Taco Bell       5201       VT   \n",
       "59               Hardees      49801       MI   \n",
       "63           Burger King      13021       NY   \n",
       "66        SONIC Drive In      72113       AR   \n",
       "67             Taco Bell      63080       MO   \n",
       "69             Taco Bell      98903       WA   \n",
       "75           Burger King      10475       NY   \n",
       "80                Subway      84302       UT   \n",
       "83               Hardees      54601       WI   \n",
       "128               Wendys      28547       NC   \n",
       "136                Arbys      26601       WV   \n",
       "143              Hardees      29006       SC   \n",
       "156                Arbys      36420       AL   \n",
       "161               Subway      26726       WV   \n",
       "206               Subway      74426       OK   \n",
       "210               Subway      71303       LA   \n",
       "217               Wendys      28659       NC   \n",
       "229               Subway      82301       WY   \n",
       "245               Wendys      22192       VA   \n",
       "246                Arbys      40213       KY   \n",
       "249                Arbys      65714       MO   \n",
       "272                Arbys      72756       AR   \n",
       "275              Hardees      72764       AR   \n",
       "295              Hardees      50438       IA   \n",
       "331                  KFC      30401       GA   \n",
       "345                  KFC      50588       IA   \n",
       "372                  KFC      62568       IL   \n",
       "380                  KFC      28451       NC   \n",
       "397                  KFC      83440       ID   \n",
       "\n",
       "                                              websites  latitude_round  \\\n",
       "0    http://mcdonalds.com,http://www.mcdonalds.com/...            45.0   \n",
       "1                                http://www.wendys.com            40.0   \n",
       "2    http://www.frischs.com,https://www.frischs.com...            39.0   \n",
       "3    http://mcdonalds.com,http://www.mcdonalds.com/...            45.0   \n",
       "4    http://www.omgrotisserie.com,http://omgrotisse...            39.0   \n",
       "5    https://www.dominos.com/en/?redirect=homepage,...            39.0   \n",
       "6    https://www.dominos.com/en/?redirect=homepagea...            40.0   \n",
       "7                             http://www.mcdonalds.com            34.0   \n",
       "8                                http://www.wendys.com            34.0   \n",
       "9                              http://www.pizzahut.com            36.0   \n",
       "10   https://locations.sonicdrivein.com/ar/sheridan...            34.0   \n",
       "11   https://www.dominos.com/en/?redirect=homepage,...            34.0   \n",
       "12   http://mcdonalds.com,http://www.mcdonalds.com/...            36.0   \n",
       "13   https://www.dominos.com/en/?redirect=homepagea...            38.0   \n",
       "14                            http://www.ljsilvers.com            38.0   \n",
       "15   http://mcdonalds.com,http://www.mcdonalds.com/...            38.0   \n",
       "17   http://www.tacobell.com,https://locations.taco...            34.0   \n",
       "19   http://www.qdoba.com,https://locations.qdoba.c...            36.0   \n",
       "27   https://www.dominos.com/en/?redirect=homepage,...            36.0   \n",
       "29   https://locations.sonicdrivein.com/ks/leavenwo...            39.0   \n",
       "30   http://www.tacobell.com,https://locations.taco...            47.0   \n",
       "38   https://locations.sonicdrivein.com/ok/broken-a...            36.0   \n",
       "40   http://www.bk.com,https://locations.bk.com/ga/...            33.0   \n",
       "41   http://www.bk.com,https://locations.bk.com/nm/...            35.0   \n",
       "43   https://locations.sonicdrivein.com/ok/shawnee/...            35.0   \n",
       "46                                   http://www.bk.com            41.0   \n",
       "56   http://www.tacobell.com,https://locations.taco...            43.0   \n",
       "59                              http://www.hardees.com            46.0   \n",
       "63   http://www.bk.com,https://locations.bk.com/ny/...            43.0   \n",
       "66   https://locations.sonicdrivein.com/ar/maumelle...            35.0   \n",
       "67   http://www.tacobell.com,https://locations.taco...            38.0   \n",
       "69   https://locations.tacobell.com/wa/yakima/2124-...            47.0   \n",
       "75                                   http://www.bk.com            41.0   \n",
       "80             http://www.subway.com,http://subway.com            41.0   \n",
       "83                              http://www.hardees.com            44.0   \n",
       "128                              http://www.wendys.com            35.0   \n",
       "136     http://www.arbys.com,http://arbys.com/our-menu            39.0   \n",
       "143                             http://www.hardees.com            34.0   \n",
       "156  http://www.arbys.com,https://locations.arbys.c...            31.0   \n",
       "161                              http://www.subway.com            39.0   \n",
       "206            http://www.subway.com,http://subway.com            35.0   \n",
       "210                              http://www.subway.com            31.0   \n",
       "217                              http://www.wendys.com            36.0   \n",
       "229                           https://www.ta-petro.com            42.0   \n",
       "245                              http://www.wendys.com            39.0   \n",
       "246                               http://www.arbys.com            38.0   \n",
       "249  http://www.arbys.com,https://locations.arbys.c...            37.0   \n",
       "272  https://locations.arbys.com/us/ar/rogers/501-s...            36.0   \n",
       "275                             http://www.hardees.com            36.0   \n",
       "295                             http://www.hardees.com            43.0   \n",
       "331                                 http://www.kfc.com            33.0   \n",
       "345                                 http://www.kfc.com            43.0   \n",
       "372                                 http://www.kfc.com            40.0   \n",
       "380                                 http://www.kfc.com            34.0   \n",
       "397                                 http://www.kfc.com            44.0   \n",
       "\n",
       "        common_name  \n",
       "0         McDonalds  \n",
       "1            Wendys  \n",
       "2               NaN  \n",
       "3         McDonalds  \n",
       "4               NaN  \n",
       "5     Dominos Pizza  \n",
       "6     Dominos Pizza  \n",
       "7         McDonalds  \n",
       "8            Wendys  \n",
       "9               NaN  \n",
       "10   SONIC Drive In  \n",
       "11    Dominos Pizza  \n",
       "12        McDonalds  \n",
       "13    Dominos Pizza  \n",
       "14              NaN  \n",
       "15        McDonalds  \n",
       "17        Taco Bell  \n",
       "19              NaN  \n",
       "27    Dominos Pizza  \n",
       "29   SONIC Drive In  \n",
       "30        Taco Bell  \n",
       "38   SONIC Drive In  \n",
       "40      Burger King  \n",
       "41      Burger King  \n",
       "43   SONIC Drive In  \n",
       "46      Burger King  \n",
       "56        Taco Bell  \n",
       "59          Hardees  \n",
       "63      Burger King  \n",
       "66   SONIC Drive In  \n",
       "67        Taco Bell  \n",
       "69        Taco Bell  \n",
       "75      Burger King  \n",
       "80           Subway  \n",
       "83          Hardees  \n",
       "128          Wendys  \n",
       "136           Arbys  \n",
       "143         Hardees  \n",
       "156           Arbys  \n",
       "161          Subway  \n",
       "206          Subway  \n",
       "210          Subway  \n",
       "217          Wendys  \n",
       "229          Subway  \n",
       "245          Wendys  \n",
       "246           Arbys  \n",
       "249           Arbys  \n",
       "272           Arbys  \n",
       "275         Hardees  \n",
       "295         Hardees  \n",
       "331             KFC  \n",
       "345             KFC  \n",
       "372             KFC  \n",
       "380             KFC  \n",
       "397             KFC  "
      ]
     },
     "execution_count": 66,
     "metadata": {},
     "output_type": "execute_result"
    }
   ],
   "source": [
    "df2.head()"
   ]
  },
  {
   "cell_type": "code",
   "execution_count": 230,
   "metadata": {},
   "outputs": [],
   "source": [
    "# The table below shows descriptive statistics for latitude and longitude for the top 10 most numerous restaurants:\n",
    "# It makes it easy to compare across different restaurants and see a variety of interesting numbers for each:"
   ]
  },
  {
   "cell_type": "code",
   "execution_count": 67,
   "metadata": {},
   "outputs": [
    {
     "data": {
      "text/html": [
       "<div>\n",
       "<style scoped>\n",
       "    .dataframe tbody tr th:only-of-type {\n",
       "        vertical-align: middle;\n",
       "    }\n",
       "\n",
       "    .dataframe tbody tr th {\n",
       "        vertical-align: top;\n",
       "    }\n",
       "\n",
       "    .dataframe thead tr th {\n",
       "        text-align: left;\n",
       "    }\n",
       "\n",
       "    .dataframe thead tr:last-of-type th {\n",
       "        text-align: right;\n",
       "    }\n",
       "</style>\n",
       "<table border=\"1\" class=\"dataframe\">\n",
       "  <thead>\n",
       "    <tr>\n",
       "      <th></th>\n",
       "      <th colspan=\"8\" halign=\"left\">latitude</th>\n",
       "      <th colspan=\"5\" halign=\"left\">longitude</th>\n",
       "      <th colspan=\"8\" halign=\"left\">latitude_round</th>\n",
       "    </tr>\n",
       "    <tr>\n",
       "      <th></th>\n",
       "      <th>count</th>\n",
       "      <th>mean</th>\n",
       "      <th>std</th>\n",
       "      <th>min</th>\n",
       "      <th>25%</th>\n",
       "      <th>50%</th>\n",
       "      <th>75%</th>\n",
       "      <th>max</th>\n",
       "      <th>count</th>\n",
       "      <th>mean</th>\n",
       "      <th>...</th>\n",
       "      <th>75%</th>\n",
       "      <th>max</th>\n",
       "      <th>count</th>\n",
       "      <th>mean</th>\n",
       "      <th>std</th>\n",
       "      <th>min</th>\n",
       "      <th>25%</th>\n",
       "      <th>50%</th>\n",
       "      <th>75%</th>\n",
       "      <th>max</th>\n",
       "    </tr>\n",
       "    <tr>\n",
       "      <th>common_name</th>\n",
       "      <th></th>\n",
       "      <th></th>\n",
       "      <th></th>\n",
       "      <th></th>\n",
       "      <th></th>\n",
       "      <th></th>\n",
       "      <th></th>\n",
       "      <th></th>\n",
       "      <th></th>\n",
       "      <th></th>\n",
       "      <th></th>\n",
       "      <th></th>\n",
       "      <th></th>\n",
       "      <th></th>\n",
       "      <th></th>\n",
       "      <th></th>\n",
       "      <th></th>\n",
       "      <th></th>\n",
       "      <th></th>\n",
       "      <th></th>\n",
       "      <th></th>\n",
       "    </tr>\n",
       "  </thead>\n",
       "  <tbody>\n",
       "    <tr>\n",
       "      <th>Arbys</th>\n",
       "      <td>520.0</td>\n",
       "      <td>38.814047</td>\n",
       "      <td>4.433811</td>\n",
       "      <td>21.349177</td>\n",
       "      <td>35.893168</td>\n",
       "      <td>39.085349</td>\n",
       "      <td>41.454080</td>\n",
       "      <td>61.326200</td>\n",
       "      <td>520.0</td>\n",
       "      <td>-89.640341</td>\n",
       "      <td>...</td>\n",
       "      <td>-82.378711</td>\n",
       "      <td>-69.800117</td>\n",
       "      <td>520.0</td>\n",
       "      <td>38.821154</td>\n",
       "      <td>4.424570</td>\n",
       "      <td>21.0</td>\n",
       "      <td>36.00</td>\n",
       "      <td>39.0</td>\n",
       "      <td>41.0</td>\n",
       "      <td>61.0</td>\n",
       "    </tr>\n",
       "    <tr>\n",
       "      <th>Burger King</th>\n",
       "      <td>1154.0</td>\n",
       "      <td>37.928883</td>\n",
       "      <td>5.660249</td>\n",
       "      <td>-6.244273</td>\n",
       "      <td>34.152764</td>\n",
       "      <td>39.440433</td>\n",
       "      <td>41.858565</td>\n",
       "      <td>52.022988</td>\n",
       "      <td>1154.0</td>\n",
       "      <td>-88.621618</td>\n",
       "      <td>...</td>\n",
       "      <td>-80.151607</td>\n",
       "      <td>106.797101</td>\n",
       "      <td>1154.0</td>\n",
       "      <td>37.931542</td>\n",
       "      <td>5.660501</td>\n",
       "      <td>-6.0</td>\n",
       "      <td>34.00</td>\n",
       "      <td>39.0</td>\n",
       "      <td>42.0</td>\n",
       "      <td>52.0</td>\n",
       "    </tr>\n",
       "    <tr>\n",
       "      <th>Dominos Pizza</th>\n",
       "      <td>359.0</td>\n",
       "      <td>38.065772</td>\n",
       "      <td>5.507543</td>\n",
       "      <td>20.750812</td>\n",
       "      <td>34.306028</td>\n",
       "      <td>38.993480</td>\n",
       "      <td>41.819935</td>\n",
       "      <td>64.840240</td>\n",
       "      <td>359.0</td>\n",
       "      <td>-94.293390</td>\n",
       "      <td>...</td>\n",
       "      <td>-80.610955</td>\n",
       "      <td>-67.839270</td>\n",
       "      <td>359.0</td>\n",
       "      <td>38.086351</td>\n",
       "      <td>5.512891</td>\n",
       "      <td>21.0</td>\n",
       "      <td>34.00</td>\n",
       "      <td>39.0</td>\n",
       "      <td>42.0</td>\n",
       "      <td>65.0</td>\n",
       "    </tr>\n",
       "    <tr>\n",
       "      <th>Hardees</th>\n",
       "      <td>194.0</td>\n",
       "      <td>38.345193</td>\n",
       "      <td>4.158909</td>\n",
       "      <td>29.794260</td>\n",
       "      <td>35.451490</td>\n",
       "      <td>37.649940</td>\n",
       "      <td>40.726051</td>\n",
       "      <td>48.412444</td>\n",
       "      <td>194.0</td>\n",
       "      <td>-86.235640</td>\n",
       "      <td>...</td>\n",
       "      <td>-81.109521</td>\n",
       "      <td>-74.472700</td>\n",
       "      <td>194.0</td>\n",
       "      <td>38.345361</td>\n",
       "      <td>4.194655</td>\n",
       "      <td>30.0</td>\n",
       "      <td>35.25</td>\n",
       "      <td>38.0</td>\n",
       "      <td>41.0</td>\n",
       "      <td>48.0</td>\n",
       "    </tr>\n",
       "    <tr>\n",
       "      <th>KFC</th>\n",
       "      <td>421.0</td>\n",
       "      <td>37.588550</td>\n",
       "      <td>5.166958</td>\n",
       "      <td>24.718164</td>\n",
       "      <td>34.055300</td>\n",
       "      <td>38.862330</td>\n",
       "      <td>41.121550</td>\n",
       "      <td>48.201900</td>\n",
       "      <td>421.0</td>\n",
       "      <td>-89.854010</td>\n",
       "      <td>...</td>\n",
       "      <td>-80.210290</td>\n",
       "      <td>-70.153920</td>\n",
       "      <td>421.0</td>\n",
       "      <td>37.627078</td>\n",
       "      <td>5.189837</td>\n",
       "      <td>25.0</td>\n",
       "      <td>34.00</td>\n",
       "      <td>39.0</td>\n",
       "      <td>41.0</td>\n",
       "      <td>48.0</td>\n",
       "    </tr>\n",
       "    <tr>\n",
       "      <th>McDonalds</th>\n",
       "      <td>1997.0</td>\n",
       "      <td>37.777748</td>\n",
       "      <td>4.923557</td>\n",
       "      <td>21.406261</td>\n",
       "      <td>34.188650</td>\n",
       "      <td>38.494000</td>\n",
       "      <td>41.283913</td>\n",
       "      <td>61.203697</td>\n",
       "      <td>1997.0</td>\n",
       "      <td>-90.350753</td>\n",
       "      <td>...</td>\n",
       "      <td>-80.805452</td>\n",
       "      <td>13.251990</td>\n",
       "      <td>1997.0</td>\n",
       "      <td>37.776665</td>\n",
       "      <td>4.940649</td>\n",
       "      <td>21.0</td>\n",
       "      <td>34.00</td>\n",
       "      <td>38.0</td>\n",
       "      <td>41.0</td>\n",
       "      <td>61.0</td>\n",
       "    </tr>\n",
       "    <tr>\n",
       "      <th>SONIC Drive In</th>\n",
       "      <td>226.0</td>\n",
       "      <td>35.924776</td>\n",
       "      <td>3.483266</td>\n",
       "      <td>26.618500</td>\n",
       "      <td>33.452652</td>\n",
       "      <td>35.948790</td>\n",
       "      <td>38.583015</td>\n",
       "      <td>47.449050</td>\n",
       "      <td>226.0</td>\n",
       "      <td>-93.125197</td>\n",
       "      <td>...</td>\n",
       "      <td>-86.992657</td>\n",
       "      <td>-72.810140</td>\n",
       "      <td>226.0</td>\n",
       "      <td>35.915929</td>\n",
       "      <td>3.499462</td>\n",
       "      <td>27.0</td>\n",
       "      <td>33.00</td>\n",
       "      <td>36.0</td>\n",
       "      <td>39.0</td>\n",
       "      <td>47.0</td>\n",
       "    </tr>\n",
       "    <tr>\n",
       "      <th>Subway</th>\n",
       "      <td>322.0</td>\n",
       "      <td>37.702592</td>\n",
       "      <td>5.422889</td>\n",
       "      <td>17.989019</td>\n",
       "      <td>34.047105</td>\n",
       "      <td>38.833860</td>\n",
       "      <td>41.253194</td>\n",
       "      <td>61.138939</td>\n",
       "      <td>322.0</td>\n",
       "      <td>-95.210788</td>\n",
       "      <td>...</td>\n",
       "      <td>-81.175630</td>\n",
       "      <td>-67.452250</td>\n",
       "      <td>322.0</td>\n",
       "      <td>37.701863</td>\n",
       "      <td>5.465091</td>\n",
       "      <td>18.0</td>\n",
       "      <td>34.00</td>\n",
       "      <td>39.0</td>\n",
       "      <td>41.0</td>\n",
       "      <td>61.0</td>\n",
       "    </tr>\n",
       "    <tr>\n",
       "      <th>Taco Bell</th>\n",
       "      <td>873.0</td>\n",
       "      <td>37.703732</td>\n",
       "      <td>4.609664</td>\n",
       "      <td>19.692339</td>\n",
       "      <td>34.260590</td>\n",
       "      <td>38.340390</td>\n",
       "      <td>41.144402</td>\n",
       "      <td>48.508270</td>\n",
       "      <td>873.0</td>\n",
       "      <td>-92.583935</td>\n",
       "      <td>...</td>\n",
       "      <td>-83.219570</td>\n",
       "      <td>-68.408000</td>\n",
       "      <td>873.0</td>\n",
       "      <td>37.719359</td>\n",
       "      <td>4.618005</td>\n",
       "      <td>20.0</td>\n",
       "      <td>34.00</td>\n",
       "      <td>38.0</td>\n",
       "      <td>41.0</td>\n",
       "      <td>49.0</td>\n",
       "    </tr>\n",
       "    <tr>\n",
       "      <th>Wendys</th>\n",
       "      <td>734.0</td>\n",
       "      <td>37.841469</td>\n",
       "      <td>4.591523</td>\n",
       "      <td>21.408394</td>\n",
       "      <td>34.936922</td>\n",
       "      <td>38.808335</td>\n",
       "      <td>40.990095</td>\n",
       "      <td>64.836600</td>\n",
       "      <td>734.0</td>\n",
       "      <td>-88.483403</td>\n",
       "      <td>...</td>\n",
       "      <td>-80.516459</td>\n",
       "      <td>-68.808841</td>\n",
       "      <td>734.0</td>\n",
       "      <td>37.829700</td>\n",
       "      <td>4.598729</td>\n",
       "      <td>21.0</td>\n",
       "      <td>35.00</td>\n",
       "      <td>39.0</td>\n",
       "      <td>41.0</td>\n",
       "      <td>65.0</td>\n",
       "    </tr>\n",
       "  </tbody>\n",
       "</table>\n",
       "<p>10 rows × 24 columns</p>\n",
       "</div>"
      ],
      "text/plain": [
       "               latitude                                                        \\\n",
       "                  count       mean       std        min        25%        50%   \n",
       "common_name                                                                     \n",
       "Arbys             520.0  38.814047  4.433811  21.349177  35.893168  39.085349   \n",
       "Burger King      1154.0  37.928883  5.660249  -6.244273  34.152764  39.440433   \n",
       "Dominos Pizza     359.0  38.065772  5.507543  20.750812  34.306028  38.993480   \n",
       "Hardees           194.0  38.345193  4.158909  29.794260  35.451490  37.649940   \n",
       "KFC               421.0  37.588550  5.166958  24.718164  34.055300  38.862330   \n",
       "McDonalds        1997.0  37.777748  4.923557  21.406261  34.188650  38.494000   \n",
       "SONIC Drive In    226.0  35.924776  3.483266  26.618500  33.452652  35.948790   \n",
       "Subway            322.0  37.702592  5.422889  17.989019  34.047105  38.833860   \n",
       "Taco Bell         873.0  37.703732  4.609664  19.692339  34.260590  38.340390   \n",
       "Wendys            734.0  37.841469  4.591523  21.408394  34.936922  38.808335   \n",
       "\n",
       "                                     longitude             ...             \\\n",
       "                      75%        max     count       mean  ...        75%   \n",
       "common_name                                                ...              \n",
       "Arbys           41.454080  61.326200     520.0 -89.640341  ... -82.378711   \n",
       "Burger King     41.858565  52.022988    1154.0 -88.621618  ... -80.151607   \n",
       "Dominos Pizza   41.819935  64.840240     359.0 -94.293390  ... -80.610955   \n",
       "Hardees         40.726051  48.412444     194.0 -86.235640  ... -81.109521   \n",
       "KFC             41.121550  48.201900     421.0 -89.854010  ... -80.210290   \n",
       "McDonalds       41.283913  61.203697    1997.0 -90.350753  ... -80.805452   \n",
       "SONIC Drive In  38.583015  47.449050     226.0 -93.125197  ... -86.992657   \n",
       "Subway          41.253194  61.138939     322.0 -95.210788  ... -81.175630   \n",
       "Taco Bell       41.144402  48.508270     873.0 -92.583935  ... -83.219570   \n",
       "Wendys          40.990095  64.836600     734.0 -88.483403  ... -80.516459   \n",
       "\n",
       "                           latitude_round                                    \\\n",
       "                       max          count       mean       std   min    25%   \n",
       "common_name                                                                   \n",
       "Arbys           -69.800117          520.0  38.821154  4.424570  21.0  36.00   \n",
       "Burger King     106.797101         1154.0  37.931542  5.660501  -6.0  34.00   \n",
       "Dominos Pizza   -67.839270          359.0  38.086351  5.512891  21.0  34.00   \n",
       "Hardees         -74.472700          194.0  38.345361  4.194655  30.0  35.25   \n",
       "KFC             -70.153920          421.0  37.627078  5.189837  25.0  34.00   \n",
       "McDonalds        13.251990         1997.0  37.776665  4.940649  21.0  34.00   \n",
       "SONIC Drive In  -72.810140          226.0  35.915929  3.499462  27.0  33.00   \n",
       "Subway          -67.452250          322.0  37.701863  5.465091  18.0  34.00   \n",
       "Taco Bell       -68.408000          873.0  37.719359  4.618005  20.0  34.00   \n",
       "Wendys          -68.808841          734.0  37.829700  4.598729  21.0  35.00   \n",
       "\n",
       "                                  \n",
       "                 50%   75%   max  \n",
       "common_name                       \n",
       "Arbys           39.0  41.0  61.0  \n",
       "Burger King     39.0  42.0  52.0  \n",
       "Dominos Pizza   39.0  42.0  65.0  \n",
       "Hardees         38.0  41.0  48.0  \n",
       "KFC             39.0  41.0  48.0  \n",
       "McDonalds       38.0  41.0  61.0  \n",
       "SONIC Drive In  36.0  39.0  47.0  \n",
       "Subway          39.0  41.0  61.0  \n",
       "Taco Bell       38.0  41.0  49.0  \n",
       "Wendys          39.0  41.0  65.0  \n",
       "\n",
       "[10 rows x 24 columns]"
      ]
     },
     "execution_count": 67,
     "metadata": {},
     "output_type": "execute_result"
    }
   ],
   "source": [
    "df2.describe()"
   ]
  },
  {
   "cell_type": "code",
   "execution_count": 231,
   "metadata": {},
   "outputs": [],
   "source": [
    "# Seeing provinces for Wendys:"
   ]
  },
  {
   "cell_type": "code",
   "execution_count": 68,
   "metadata": {},
   "outputs": [
    {
     "data": {
      "text/plain": [
       "1       OH\n",
       "8       SC\n",
       "128     NC\n",
       "217     NC\n",
       "245     VA\n",
       "        ..\n",
       "9970    IA\n",
       "9983    NC\n",
       "9986    VA\n",
       "9990    MD\n",
       "9995    GA\n",
       "Name: province, Length: 734, dtype: object"
      ]
     },
     "execution_count": 68,
     "metadata": {},
     "output_type": "execute_result"
    }
   ],
   "source": [
    "df.loc[df['common_name']=='Wendys','province']"
   ]
  },
  {
   "cell_type": "code",
   "execution_count": 232,
   "metadata": {},
   "outputs": [],
   "source": [
    "# The mode province for Wendys is Ohio."
   ]
  },
  {
   "cell_type": "code",
   "execution_count": 69,
   "metadata": {},
   "outputs": [
    {
     "data": {
      "text/plain": [
       "0    OH\n",
       "dtype: object"
      ]
     },
     "execution_count": 69,
     "metadata": {},
     "output_type": "execute_result"
    }
   ],
   "source": [
    "df.loc[df['common_name']=='Wendys','province'].mode()"
   ]
  },
  {
   "cell_type": "code",
   "execution_count": 70,
   "metadata": {},
   "outputs": [],
   "source": [
    "the_dict = {}\n",
    "for name in aList:\n",
    "    place = df.loc[df['common_name']==name,'province'].mode()\n",
    "    the_dict[name] = place"
   ]
  },
  {
   "cell_type": "code",
   "execution_count": 71,
   "metadata": {},
   "outputs": [
    {
     "name": "stdout",
     "output_type": "stream",
     "text": [
      "{'McDonalds': 0    TX\n",
      "dtype: object, 'Burger King': 0    FL\n",
      "dtype: object, 'Taco Bell': 0    CA\n",
      "dtype: object, 'Wendys': 0    OH\n",
      "dtype: object, 'Arbys': 0    OH\n",
      "dtype: object, 'KFC': 0    FL\n",
      "dtype: object, 'Dominos Pizza': 0    NM\n",
      "dtype: object, 'Subway': 0    CA\n",
      "dtype: object, 'SONIC Drive In': 0    MO\n",
      "dtype: object, 'Hardees': 0    VA\n",
      "dtype: object}\n"
     ]
    }
   ],
   "source": [
    "print(the_dict)"
   ]
  },
  {
   "cell_type": "code",
   "execution_count": 74,
   "metadata": {},
   "outputs": [],
   "source": [
    "value_count_variable = df.loc[df['name']=='McDonalds','province'].value_counts()"
   ]
  },
  {
   "cell_type": "code",
   "execution_count": 266,
   "metadata": {},
   "outputs": [],
   "source": [
    "# This shows the number of McDonalds in each province/state:\n",
    "# We can see many of states with most McDonalds are known to be states with high population\n",
    "# and many states with least McDonalds are known to be states with low population. There may be exceptions in this\n",
    "# list too though"
   ]
  },
  {
   "cell_type": "code",
   "execution_count": 75,
   "metadata": {},
   "outputs": [
    {
     "name": "stdout",
     "output_type": "stream",
     "text": [
      "TX    153\n",
      "CA    127\n",
      "OH    110\n",
      "FL     89\n",
      "IN     83\n",
      "IL     79\n",
      "KY     76\n",
      "NC     73\n",
      "MO     73\n",
      "VA     67\n",
      "PA     67\n",
      "NY     66\n",
      "LA     58\n",
      "GA     54\n",
      "OK     50\n",
      "MI     46\n",
      "WI     45\n",
      "SC     44\n",
      "WA     42\n",
      "TN     40\n",
      "NJ     37\n",
      "AL     37\n",
      "IA     37\n",
      "CT     36\n",
      "MD     33\n",
      "AZ     32\n",
      "MN     29\n",
      "UT     27\n",
      "AR     26\n",
      "MA     25\n",
      "OR     24\n",
      "CO     21\n",
      "NM     21\n",
      "WV     19\n",
      "SD     18\n",
      "VT     17\n",
      "NV     16\n",
      "ID     14\n",
      "NE     12\n",
      "ME     12\n",
      "KS     11\n",
      "MS     10\n",
      "NH      9\n",
      "ND      7\n",
      "DE      6\n",
      "WY      5\n",
      "DC      4\n",
      "MT      3\n",
      "RI      3\n",
      "AK      3\n",
      "HI      1\n",
      "Name: province, dtype: int64\n"
     ]
    }
   ],
   "source": [
    "print(value_count_variable)"
   ]
  },
  {
   "cell_type": "code",
   "execution_count": 76,
   "metadata": {},
   "outputs": [
    {
     "name": "stdout",
     "output_type": "stream",
     "text": [
      "int64\n"
     ]
    }
   ],
   "source": [
    "print(value_count_variable.dtypes)"
   ]
  },
  {
   "cell_type": "code",
   "execution_count": 233,
   "metadata": {},
   "outputs": [],
   "source": [
    "# This histogram shows that in many states there are very few McDonalds, but in a few there are many. The y-axis\n",
    "# shows how many states and the x-axis shows the number of McDonalds in those states."
   ]
  },
  {
   "cell_type": "code",
   "execution_count": 77,
   "metadata": {},
   "outputs": [
    {
     "data": {
      "text/plain": [
       "(array([15., 10., 11.,  3.,  6.,  3.,  0.,  1.,  1.,  1.]),\n",
       " array([  1. ,  16.2,  31.4,  46.6,  61.8,  77. ,  92.2, 107.4, 122.6,\n",
       "        137.8, 153. ]),\n",
       " <a list of 10 Patch objects>)"
      ]
     },
     "execution_count": 77,
     "metadata": {},
     "output_type": "execute_result"
    },
    {
     "data": {
      "image/png": "[encoded data removed]",
      "text/plain": [
       "<Figure size 432x288 with 1 Axes>"
      ]
     },
     "metadata": {
      "needs_background": "light"
     },
     "output_type": "display_data"
    }
   ],
   "source": [
    "plt.hist(value_count_variable)"
   ]
  },
  {
   "cell_type": "code",
   "execution_count": 234,
   "metadata": {},
   "outputs": [],
   "source": [
    "# The line below shows the maximum latitude for each of the top 10 most numerous restaurants:"
   ]
  },
  {
   "cell_type": "code",
   "execution_count": 79,
   "metadata": {},
   "outputs": [
    {
     "data": {
      "text/plain": [
       "common_name\n",
       "Arbys             61.0\n",
       "Burger King       52.0\n",
       "Dominos Pizza     65.0\n",
       "Hardees           48.0\n",
       "KFC               48.0\n",
       "McDonalds         61.0\n",
       "SONIC Drive In    47.0\n",
       "Subway            61.0\n",
       "Taco Bell         49.0\n",
       "Wendys            65.0\n",
       "Name: latitude_round, dtype: float64"
      ]
     },
     "execution_count": 79,
     "metadata": {},
     "output_type": "execute_result"
    }
   ],
   "source": [
    "df.groupby('common_name')['latitude_round'].max()"
   ]
  },
  {
   "cell_type": "code",
   "execution_count": 82,
   "metadata": {},
   "outputs": [],
   "source": [
    "variable5 = df.groupby('common_name')['latitude_round'].max()"
   ]
  },
  {
   "cell_type": "code",
   "execution_count": 83,
   "metadata": {},
   "outputs": [
    {
     "name": "stdout",
     "output_type": "stream",
     "text": [
      "common_name\n",
      "Arbys             61.0\n",
      "Burger King       52.0\n",
      "Dominos Pizza     65.0\n",
      "Hardees           48.0\n",
      "KFC               48.0\n",
      "McDonalds         61.0\n",
      "SONIC Drive In    47.0\n",
      "Subway            61.0\n",
      "Taco Bell         49.0\n",
      "Wendys            65.0\n",
      "Name: latitude_round, dtype: float64\n"
     ]
    }
   ],
   "source": [
    "print(variable5)"
   ]
  },
  {
   "cell_type": "code",
   "execution_count": 84,
   "metadata": {},
   "outputs": [
    {
     "name": "stdout",
     "output_type": "stream",
     "text": [
      "float64\n"
     ]
    }
   ],
   "source": [
    "print(variable5.dtypes)"
   ]
  },
  {
   "cell_type": "code",
   "execution_count": 85,
   "metadata": {},
   "outputs": [],
   "source": [
    "fast_names = ['Arbys','Burger King','Dominos Pizza','Hardees','KFC','McDonalds','SONIC Drive In','Subway','Taco Bell','Wendys']"
   ]
  },
  {
   "cell_type": "code",
   "execution_count": 86,
   "metadata": {},
   "outputs": [],
   "source": [
    "fast_lats = [61.0,52.0,65.0,48.0,48.0,61.0,47.0,61.0,49.0,65.0]"
   ]
  },
  {
   "cell_type": "code",
   "execution_count": 87,
   "metadata": {},
   "outputs": [],
   "source": [
    "zip_iterator = zip(fast_names, fast_lats)"
   ]
  },
  {
   "cell_type": "code",
   "execution_count": 88,
   "metadata": {},
   "outputs": [],
   "source": [
    "fast_dict = dict(zip_iterator)"
   ]
  },
  {
   "cell_type": "code",
   "execution_count": 89,
   "metadata": {},
   "outputs": [
    {
     "name": "stdout",
     "output_type": "stream",
     "text": [
      "{'Arbys': 61.0, 'Burger King': 52.0, 'Dominos Pizza': 65.0, 'Hardees': 48.0, 'KFC': 48.0, 'McDonalds': 61.0, 'SONIC Drive In': 47.0, 'Subway': 61.0, 'Taco Bell': 49.0, 'Wendys': 65.0}\n"
     ]
    }
   ],
   "source": [
    "print(fast_dict)"
   ]
  },
  {
   "cell_type": "code",
   "execution_count": 95,
   "metadata": {},
   "outputs": [],
   "source": [
    "df3 = pd.DataFrame(fast_dict.items())"
   ]
  },
  {
   "cell_type": "code",
   "execution_count": 97,
   "metadata": {},
   "outputs": [
    {
     "data": {
      "text/html": [
       "<div>\n",
       "<style scoped>\n",
       "    .dataframe tbody tr th:only-of-type {\n",
       "        vertical-align: middle;\n",
       "    }\n",
       "\n",
       "    .dataframe tbody tr th {\n",
       "        vertical-align: top;\n",
       "    }\n",
       "\n",
       "    .dataframe thead th {\n",
       "        text-align: right;\n",
       "    }\n",
       "</style>\n",
       "<table border=\"1\" class=\"dataframe\">\n",
       "  <thead>\n",
       "    <tr style=\"text-align: right;\">\n",
       "      <th></th>\n",
       "      <th>0</th>\n",
       "      <th>1</th>\n",
       "    </tr>\n",
       "  </thead>\n",
       "  <tbody>\n",
       "    <tr>\n",
       "      <th>0</th>\n",
       "      <td>Arbys</td>\n",
       "      <td>61.0</td>\n",
       "    </tr>\n",
       "    <tr>\n",
       "      <th>1</th>\n",
       "      <td>Burger King</td>\n",
       "      <td>52.0</td>\n",
       "    </tr>\n",
       "    <tr>\n",
       "      <th>2</th>\n",
       "      <td>Dominos Pizza</td>\n",
       "      <td>65.0</td>\n",
       "    </tr>\n",
       "    <tr>\n",
       "      <th>3</th>\n",
       "      <td>Hardees</td>\n",
       "      <td>48.0</td>\n",
       "    </tr>\n",
       "    <tr>\n",
       "      <th>4</th>\n",
       "      <td>KFC</td>\n",
       "      <td>48.0</td>\n",
       "    </tr>\n",
       "    <tr>\n",
       "      <th>5</th>\n",
       "      <td>McDonalds</td>\n",
       "      <td>61.0</td>\n",
       "    </tr>\n",
       "    <tr>\n",
       "      <th>6</th>\n",
       "      <td>SONIC Drive In</td>\n",
       "      <td>47.0</td>\n",
       "    </tr>\n",
       "    <tr>\n",
       "      <th>7</th>\n",
       "      <td>Subway</td>\n",
       "      <td>61.0</td>\n",
       "    </tr>\n",
       "    <tr>\n",
       "      <th>8</th>\n",
       "      <td>Taco Bell</td>\n",
       "      <td>49.0</td>\n",
       "    </tr>\n",
       "    <tr>\n",
       "      <th>9</th>\n",
       "      <td>Wendys</td>\n",
       "      <td>65.0</td>\n",
       "    </tr>\n",
       "  </tbody>\n",
       "</table>\n",
       "</div>"
      ],
      "text/plain": [
       "                0     1\n",
       "0           Arbys  61.0\n",
       "1     Burger King  52.0\n",
       "2   Dominos Pizza  65.0\n",
       "3         Hardees  48.0\n",
       "4             KFC  48.0\n",
       "5       McDonalds  61.0\n",
       "6  SONIC Drive In  47.0\n",
       "7          Subway  61.0\n",
       "8       Taco Bell  49.0\n",
       "9          Wendys  65.0"
      ]
     },
     "execution_count": 97,
     "metadata": {},
     "output_type": "execute_result"
    }
   ],
   "source": [
    "df3"
   ]
  },
  {
   "cell_type": "code",
   "execution_count": 98,
   "metadata": {},
   "outputs": [],
   "source": [
    "df3.columns = ['Fast Food Restaurants','Max Latitude']"
   ]
  },
  {
   "cell_type": "code",
   "execution_count": 99,
   "metadata": {},
   "outputs": [
    {
     "data": {
      "text/html": [
       "<div>\n",
       "<style scoped>\n",
       "    .dataframe tbody tr th:only-of-type {\n",
       "        vertical-align: middle;\n",
       "    }\n",
       "\n",
       "    .dataframe tbody tr th {\n",
       "        vertical-align: top;\n",
       "    }\n",
       "\n",
       "    .dataframe thead th {\n",
       "        text-align: right;\n",
       "    }\n",
       "</style>\n",
       "<table border=\"1\" class=\"dataframe\">\n",
       "  <thead>\n",
       "    <tr style=\"text-align: right;\">\n",
       "      <th></th>\n",
       "      <th>Fast Food Restaurants</th>\n",
       "      <th>Max Latitude</th>\n",
       "    </tr>\n",
       "  </thead>\n",
       "  <tbody>\n",
       "    <tr>\n",
       "      <th>0</th>\n",
       "      <td>Arbys</td>\n",
       "      <td>61.0</td>\n",
       "    </tr>\n",
       "    <tr>\n",
       "      <th>1</th>\n",
       "      <td>Burger King</td>\n",
       "      <td>52.0</td>\n",
       "    </tr>\n",
       "    <tr>\n",
       "      <th>2</th>\n",
       "      <td>Dominos Pizza</td>\n",
       "      <td>65.0</td>\n",
       "    </tr>\n",
       "    <tr>\n",
       "      <th>3</th>\n",
       "      <td>Hardees</td>\n",
       "      <td>48.0</td>\n",
       "    </tr>\n",
       "    <tr>\n",
       "      <th>4</th>\n",
       "      <td>KFC</td>\n",
       "      <td>48.0</td>\n",
       "    </tr>\n",
       "    <tr>\n",
       "      <th>5</th>\n",
       "      <td>McDonalds</td>\n",
       "      <td>61.0</td>\n",
       "    </tr>\n",
       "    <tr>\n",
       "      <th>6</th>\n",
       "      <td>SONIC Drive In</td>\n",
       "      <td>47.0</td>\n",
       "    </tr>\n",
       "    <tr>\n",
       "      <th>7</th>\n",
       "      <td>Subway</td>\n",
       "      <td>61.0</td>\n",
       "    </tr>\n",
       "    <tr>\n",
       "      <th>8</th>\n",
       "      <td>Taco Bell</td>\n",
       "      <td>49.0</td>\n",
       "    </tr>\n",
       "    <tr>\n",
       "      <th>9</th>\n",
       "      <td>Wendys</td>\n",
       "      <td>65.0</td>\n",
       "    </tr>\n",
       "  </tbody>\n",
       "</table>\n",
       "</div>"
      ],
      "text/plain": [
       "  Fast Food Restaurants  Max Latitude\n",
       "0                 Arbys          61.0\n",
       "1           Burger King          52.0\n",
       "2         Dominos Pizza          65.0\n",
       "3               Hardees          48.0\n",
       "4                   KFC          48.0\n",
       "5             McDonalds          61.0\n",
       "6        SONIC Drive In          47.0\n",
       "7                Subway          61.0\n",
       "8             Taco Bell          49.0\n",
       "9                Wendys          65.0"
      ]
     },
     "execution_count": 99,
     "metadata": {},
     "output_type": "execute_result"
    }
   ],
   "source": [
    "df3"
   ]
  },
  {
   "cell_type": "code",
   "execution_count": 102,
   "metadata": {},
   "outputs": [
    {
     "data": {
      "text/html": [
       "<div>\n",
       "<style scoped>\n",
       "    .dataframe tbody tr th:only-of-type {\n",
       "        vertical-align: middle;\n",
       "    }\n",
       "\n",
       "    .dataframe tbody tr th {\n",
       "        vertical-align: top;\n",
       "    }\n",
       "\n",
       "    .dataframe thead th {\n",
       "        text-align: right;\n",
       "    }\n",
       "</style>\n",
       "<table border=\"1\" class=\"dataframe\">\n",
       "  <thead>\n",
       "    <tr style=\"text-align: right;\">\n",
       "      <th></th>\n",
       "      <th>Fast Food Restaurants</th>\n",
       "      <th>Max Latitude</th>\n",
       "    </tr>\n",
       "  </thead>\n",
       "  <tbody>\n",
       "    <tr>\n",
       "      <th>6</th>\n",
       "      <td>SONIC Drive In</td>\n",
       "      <td>47.0</td>\n",
       "    </tr>\n",
       "    <tr>\n",
       "      <th>3</th>\n",
       "      <td>Hardees</td>\n",
       "      <td>48.0</td>\n",
       "    </tr>\n",
       "    <tr>\n",
       "      <th>4</th>\n",
       "      <td>KFC</td>\n",
       "      <td>48.0</td>\n",
       "    </tr>\n",
       "    <tr>\n",
       "      <th>8</th>\n",
       "      <td>Taco Bell</td>\n",
       "      <td>49.0</td>\n",
       "    </tr>\n",
       "    <tr>\n",
       "      <th>1</th>\n",
       "      <td>Burger King</td>\n",
       "      <td>52.0</td>\n",
       "    </tr>\n",
       "    <tr>\n",
       "      <th>0</th>\n",
       "      <td>Arbys</td>\n",
       "      <td>61.0</td>\n",
       "    </tr>\n",
       "    <tr>\n",
       "      <th>5</th>\n",
       "      <td>McDonalds</td>\n",
       "      <td>61.0</td>\n",
       "    </tr>\n",
       "    <tr>\n",
       "      <th>7</th>\n",
       "      <td>Subway</td>\n",
       "      <td>61.0</td>\n",
       "    </tr>\n",
       "    <tr>\n",
       "      <th>2</th>\n",
       "      <td>Dominos Pizza</td>\n",
       "      <td>65.0</td>\n",
       "    </tr>\n",
       "    <tr>\n",
       "      <th>9</th>\n",
       "      <td>Wendys</td>\n",
       "      <td>65.0</td>\n",
       "    </tr>\n",
       "  </tbody>\n",
       "</table>\n",
       "</div>"
      ],
      "text/plain": [
       "  Fast Food Restaurants  Max Latitude\n",
       "6        SONIC Drive In          47.0\n",
       "3               Hardees          48.0\n",
       "4                   KFC          48.0\n",
       "8             Taco Bell          49.0\n",
       "1           Burger King          52.0\n",
       "0                 Arbys          61.0\n",
       "5             McDonalds          61.0\n",
       "7                Subway          61.0\n",
       "2         Dominos Pizza          65.0\n",
       "9                Wendys          65.0"
      ]
     },
     "execution_count": 102,
     "metadata": {},
     "output_type": "execute_result"
    }
   ],
   "source": [
    "df3.sort_values('Max Latitude')"
   ]
  },
  {
   "cell_type": "code",
   "execution_count": 236,
   "metadata": {},
   "outputs": [],
   "source": [
    "# The bar plot below shows the maximum latitude of each of the top 10 most numerous restaurants, in order of lowest\n",
    "# to highest max latitude:"
   ]
  },
  {
   "cell_type": "code",
   "execution_count": 104,
   "metadata": {},
   "outputs": [
    {
     "data": {
      "text/plain": [
       "<matplotlib.axes._subplots.AxesSubplot at 0x11ebe21c0>"
      ]
     },
     "execution_count": 104,
     "metadata": {},
     "output_type": "execute_result"
    },
    {
     "data": {
      "image/png": "[encoded data removed]",
      "text/plain": [
       "<Figure size 1080x576 with 1 Axes>"
      ]
     },
     "metadata": {
      "needs_background": "light"
     },
     "output_type": "display_data"
    }
   ],
   "source": [
    "plt.figure(figsize=(15,8))\n",
    "sns.barplot(x='Fast Food Restaurants',y='Max Latitude',data=df3.sort_values('Max Latitude'))"
   ]
  },
  {
   "cell_type": "code",
   "execution_count": 235,
   "metadata": {},
   "outputs": [],
   "source": [
    "# The plot below shows different quantitative variables in the dataset plotted against each other. It can be seen\n",
    "# that longitudes tend to fall into 3 clusters, with some outliers, showing that there are perhaps some wide open\n",
    "# spaces, maybe in middle America, where not many restaurants fall:"
   ]
  },
  {
   "cell_type": "code",
   "execution_count": 81,
   "metadata": {},
   "outputs": [
    {
     "data": {
      "text/plain": [
       "<seaborn.axisgrid.PairGrid at 0x11d5651c0>"
      ]
     },
     "execution_count": 81,
     "metadata": {},
     "output_type": "execute_result"
    },
    {
     "data": {
      "image/png": "[encoded data removed]",
      "text/plain": [
       "<Figure size 540x540 with 12 Axes>"
      ]
     },
     "metadata": {
      "needs_background": "light"
     },
     "output_type": "display_data"
    }
   ],
   "source": [
    "sns.pairplot(df)"
   ]
  },
  {
   "cell_type": "code",
   "execution_count": 105,
   "metadata": {},
   "outputs": [
    {
     "data": {
      "text/html": [
       "<div>\n",
       "<style scoped>\n",
       "    .dataframe tbody tr th:only-of-type {\n",
       "        vertical-align: middle;\n",
       "    }\n",
       "\n",
       "    .dataframe tbody tr th {\n",
       "        vertical-align: top;\n",
       "    }\n",
       "\n",
       "    .dataframe thead th {\n",
       "        text-align: right;\n",
       "    }\n",
       "</style>\n",
       "<table border=\"1\" class=\"dataframe\">\n",
       "  <thead>\n",
       "    <tr style=\"text-align: right;\">\n",
       "      <th></th>\n",
       "      <th>address</th>\n",
       "      <th>city</th>\n",
       "      <th>country</th>\n",
       "      <th>keys</th>\n",
       "      <th>latitude</th>\n",
       "      <th>longitude</th>\n",
       "      <th>name</th>\n",
       "      <th>postalCode</th>\n",
       "      <th>province</th>\n",
       "      <th>websites</th>\n",
       "      <th>latitude_round</th>\n",
       "      <th>common_name</th>\n",
       "    </tr>\n",
       "  </thead>\n",
       "  <tbody>\n",
       "    <tr>\n",
       "      <th>0</th>\n",
       "      <td>324 Main St</td>\n",
       "      <td>Massena</td>\n",
       "      <td>US</td>\n",
       "      <td>us/ny/massena/324mainst/-1161002137</td>\n",
       "      <td>44.92130</td>\n",
       "      <td>-74.89021</td>\n",
       "      <td>McDonalds</td>\n",
       "      <td>13662</td>\n",
       "      <td>NY</td>\n",
       "      <td>http://mcdonalds.com,http://www.mcdonalds.com/...</td>\n",
       "      <td>45.0</td>\n",
       "      <td>McDonalds</td>\n",
       "    </tr>\n",
       "    <tr>\n",
       "      <th>1</th>\n",
       "      <td>530 Clinton Ave</td>\n",
       "      <td>Washington Court House</td>\n",
       "      <td>US</td>\n",
       "      <td>us/oh/washingtoncourthouse/530clintonave/-7914...</td>\n",
       "      <td>39.53255</td>\n",
       "      <td>-83.44526</td>\n",
       "      <td>Wendys</td>\n",
       "      <td>43160</td>\n",
       "      <td>OH</td>\n",
       "      <td>http://www.wendys.com</td>\n",
       "      <td>40.0</td>\n",
       "      <td>Wendys</td>\n",
       "    </tr>\n",
       "    <tr>\n",
       "      <th>2</th>\n",
       "      <td>408 Market Square Dr</td>\n",
       "      <td>Maysville</td>\n",
       "      <td>US</td>\n",
       "      <td>us/ky/maysville/408marketsquaredr/1051460804</td>\n",
       "      <td>38.62736</td>\n",
       "      <td>-83.79141</td>\n",
       "      <td>Frischs Big Boy</td>\n",
       "      <td>41056</td>\n",
       "      <td>KY</td>\n",
       "      <td>http://www.frischs.com,https://www.frischs.com...</td>\n",
       "      <td>39.0</td>\n",
       "      <td>NaN</td>\n",
       "    </tr>\n",
       "    <tr>\n",
       "      <th>3</th>\n",
       "      <td>6098 State Highway 37</td>\n",
       "      <td>Massena</td>\n",
       "      <td>US</td>\n",
       "      <td>us/ny/massena/6098statehighway37/-1161002137</td>\n",
       "      <td>44.95008</td>\n",
       "      <td>-74.84553</td>\n",
       "      <td>McDonalds</td>\n",
       "      <td>13662</td>\n",
       "      <td>NY</td>\n",
       "      <td>http://mcdonalds.com,http://www.mcdonalds.com/...</td>\n",
       "      <td>45.0</td>\n",
       "      <td>McDonalds</td>\n",
       "    </tr>\n",
       "    <tr>\n",
       "      <th>4</th>\n",
       "      <td>139 Columbus Rd</td>\n",
       "      <td>Athens</td>\n",
       "      <td>US</td>\n",
       "      <td>us/oh/athens/139columbusrd/990890980</td>\n",
       "      <td>39.35155</td>\n",
       "      <td>-82.09728</td>\n",
       "      <td>OMG! Rotisserie</td>\n",
       "      <td>45701</td>\n",
       "      <td>OH</td>\n",
       "      <td>http://www.omgrotisserie.com,http://omgrotisse...</td>\n",
       "      <td>39.0</td>\n",
       "      <td>NaN</td>\n",
       "    </tr>\n",
       "  </tbody>\n",
       "</table>\n",
       "</div>"
      ],
      "text/plain": [
       "                 address                    city country  \\\n",
       "0            324 Main St                 Massena      US   \n",
       "1        530 Clinton Ave  Washington Court House      US   \n",
       "2   408 Market Square Dr               Maysville      US   \n",
       "3  6098 State Highway 37                 Massena      US   \n",
       "4        139 Columbus Rd                  Athens      US   \n",
       "\n",
       "                                                keys  latitude  longitude  \\\n",
       "0                us/ny/massena/324mainst/-1161002137  44.92130  -74.89021   \n",
       "1  us/oh/washingtoncourthouse/530clintonave/-7914...  39.53255  -83.44526   \n",
       "2       us/ky/maysville/408marketsquaredr/1051460804  38.62736  -83.79141   \n",
       "3       us/ny/massena/6098statehighway37/-1161002137  44.95008  -74.84553   \n",
       "4               us/oh/athens/139columbusrd/990890980  39.35155  -82.09728   \n",
       "\n",
       "              name postalCode province  \\\n",
       "0        McDonalds      13662       NY   \n",
       "1           Wendys      43160       OH   \n",
       "2  Frischs Big Boy      41056       KY   \n",
       "3        McDonalds      13662       NY   \n",
       "4  OMG! Rotisserie      45701       OH   \n",
       "\n",
       "                                            websites  latitude_round  \\\n",
       "0  http://mcdonalds.com,http://www.mcdonalds.com/...            45.0   \n",
       "1                              http://www.wendys.com            40.0   \n",
       "2  http://www.frischs.com,https://www.frischs.com...            39.0   \n",
       "3  http://mcdonalds.com,http://www.mcdonalds.com/...            45.0   \n",
       "4  http://www.omgrotisserie.com,http://omgrotisse...            39.0   \n",
       "\n",
       "  common_name  \n",
       "0   McDonalds  \n",
       "1      Wendys  \n",
       "2         NaN  \n",
       "3   McDonalds  \n",
       "4         NaN  "
      ]
     },
     "execution_count": 105,
     "metadata": {},
     "output_type": "execute_result"
    }
   ],
   "source": [
    "df.head()"
   ]
  },
  {
   "cell_type": "code",
   "execution_count": 106,
   "metadata": {},
   "outputs": [
    {
     "data": {
      "text/plain": [
       "McDonalds         1997\n",
       "Burger King       1154\n",
       "Taco Bell          873\n",
       "Wendys             734\n",
       "Arbys              520\n",
       "KFC                421\n",
       "Dominos Pizza      359\n",
       "Subway             322\n",
       "SONIC Drive In     226\n",
       "Hardees            194\n",
       "Name: common_name, dtype: int64"
      ]
     },
     "execution_count": 106,
     "metadata": {},
     "output_type": "execute_result"
    }
   ],
   "source": [
    "df['common_name'].value_counts()"
   ]
  },
  {
   "cell_type": "code",
   "execution_count": 107,
   "metadata": {},
   "outputs": [
    {
     "data": {
      "text/plain": [
       "McDonalds                          1997\n",
       "Burger King                        1154\n",
       "Taco Bell                           873\n",
       "Wendys                              734\n",
       "Arbys                               520\n",
       "                                   ... \n",
       "Little Caesars Pizza Smithfield       1\n",
       "Convergence Zone                      1\n",
       "Moes Original Bar B Que               1\n",
       "Hunam Garden                          1\n",
       "A&W/Long John Silvers                 1\n",
       "Name: name, Length: 520, dtype: int64"
      ]
     },
     "execution_count": 107,
     "metadata": {},
     "output_type": "execute_result"
    }
   ],
   "source": [
    "df['name'].value_counts()"
   ]
  },
  {
   "cell_type": "code",
   "execution_count": 108,
   "metadata": {},
   "outputs": [],
   "source": [
    "variable18 = df['common_name'].value_counts()"
   ]
  },
  {
   "cell_type": "code",
   "execution_count": 109,
   "metadata": {},
   "outputs": [],
   "source": [
    "theSeries = pd.Series(variable18)"
   ]
  },
  {
   "cell_type": "code",
   "execution_count": 110,
   "metadata": {},
   "outputs": [
    {
     "name": "stdout",
     "output_type": "stream",
     "text": [
      "McDonalds         1997\n",
      "Burger King       1154\n",
      "Taco Bell          873\n",
      "Wendys             734\n",
      "Arbys              520\n",
      "KFC                421\n",
      "Dominos Pizza      359\n",
      "Subway             322\n",
      "SONIC Drive In     226\n",
      "Hardees            194\n",
      "Name: common_name, dtype: int64\n"
     ]
    }
   ],
   "source": [
    "print(theSeries)"
   ]
  },
  {
   "cell_type": "code",
   "execution_count": 113,
   "metadata": {},
   "outputs": [
    {
     "data": {
      "text/plain": [
       "Index(['McDonalds', 'Burger King', 'Taco Bell', 'Wendys', 'Arbys', 'KFC',\n",
       "       'Dominos Pizza', 'Subway', 'SONIC Drive In', 'Hardees'],\n",
       "      dtype='object')"
      ]
     },
     "execution_count": 113,
     "metadata": {},
     "output_type": "execute_result"
    }
   ],
   "source": [
    "theSeries.index"
   ]
  },
  {
   "cell_type": "code",
   "execution_count": 248,
   "metadata": {},
   "outputs": [],
   "source": [
    "# The pie chart shows the amount of the top 10 most numerous restaurants in comparison to one another:\n",
    "# It can be seen that McDonalds has the most restaurants, since its slice of the pie is the biggest\n",
    "# It can easily be seen that McDonalds appears to have as many restaurants as the bottom 5 or 6 restaurants in the \n",
    "# top 10 do combined"
   ]
  },
  {
   "cell_type": "code",
   "execution_count": 247,
   "metadata": {
    "scrolled": true
   },
   "outputs": [
    {
     "data": {
      "text/plain": [
       "([<matplotlib.patches.Wedge at 0x12386ddc0>,\n",
       "  <matplotlib.patches.Wedge at 0x12387b2b0>,\n",
       "  <matplotlib.patches.Wedge at 0x12387b940>,\n",
       "  <matplotlib.patches.Wedge at 0x12387bfd0>,\n",
       "  <matplotlib.patches.Wedge at 0x1238876a0>,\n",
       "  <matplotlib.patches.Wedge at 0x123887d30>,\n",
       "  <matplotlib.patches.Wedge at 0x123895400>,\n",
       "  <matplotlib.patches.Wedge at 0x123895a90>,\n",
       "  <matplotlib.patches.Wedge at 0x1238a0160>,\n",
       "  <matplotlib.patches.Wedge at 0x1238a07f0>],\n",
       " [Text(-1.3153489836751593, 0.9961711957011836, 'McDonalds'),\n",
       "  Text(-1.1405682148613676, -1.1923104240288909, 'Burger King'),\n",
       "  Text(0.28443389643746486, -1.6252991597110367, 'Taco Bell'),\n",
       "  Text(1.308413992860796, -1.0052625643512587, 'Wendys'),\n",
       "  Text(1.6452661323329232, -0.12489737306390686, 'Arbys'),\n",
       "  Text(1.5448258075090708, 0.5796664769106004, 'KFC'),\n",
       "  Text(1.2412056205303772, 1.0871562020076977, 'Dominos Pizza'),\n",
       "  Text(0.8438519843247769, 1.4178906264416649, 'Subway'),\n",
       "  Text(0.46179923223956626, 1.5840585434582106, 'SONIC Drive In'),\n",
       "  Text(0.14768799039840672, 1.6433770892561697, 'Hardees')],\n",
       " [Text(-0.7174630820046323, 0.5433661067461001, '29.4%'),\n",
       "  Text(-0.6221281171971095, -0.6503511403793949, '17.0%'),\n",
       "  Text(0.15514576169316263, -0.8865268143878381, '12.8%'),\n",
       "  Text(0.7136803597422523, -0.5483250351006864, '10.8%'),\n",
       "  Text(0.8974178903634125, -0.06812583985304009, '7.6%'),\n",
       "  Text(0.8426322586413113, 0.3161817146785092, '6.2%'),\n",
       "  Text(0.6770212475620238, 0.5929942920041987, '5.3%'),\n",
       "  Text(0.4602829005407873, 0.7733948871499989, '4.7%'),\n",
       "  Text(0.2518904903124906, 0.8640319327953874, '3.3%'),\n",
       "  Text(0.0805570856718582, 0.8963875032306378, '2.9%')])"
      ]
     },
     "execution_count": 247,
     "metadata": {},
     "output_type": "execute_result"
    },
    {
     "data": {
      "image/png": "[encoded data removed]",
      "text/plain": [
       "<Figure size 432x288 with 1 Axes>"
      ]
     },
     "metadata": {},
     "output_type": "display_data"
    }
   ],
   "source": [
    "fig1, ax1 = plt.subplots()\n",
    "ax1.pie(theSeries, labels=theSeries.index, autopct='%1.1f%%', startangle=90, radius=1.5)\n",
    "# ax1.axis('equal')  # Equal aspect ratio ensures that pie is drawn as a circle. \n",
    "# add a pie chart title"
   ]
  },
  {
   "cell_type": "code",
   "execution_count": 135,
   "metadata": {},
   "outputs": [],
   "source": [
    "variable25 = df.groupby('common_name')['latitude_round'].mean()"
   ]
  },
  {
   "cell_type": "code",
   "execution_count": 136,
   "metadata": {},
   "outputs": [
    {
     "data": {
      "text/plain": [
       "common_name\n",
       "Arbys             38.821154\n",
       "Burger King       37.931542\n",
       "Dominos Pizza     38.086351\n",
       "Hardees           38.345361\n",
       "KFC               37.627078\n",
       "McDonalds         37.776665\n",
       "SONIC Drive In    35.915929\n",
       "Subway            37.701863\n",
       "Taco Bell         37.719359\n",
       "Wendys            37.829700\n",
       "Name: latitude_round, dtype: float64"
      ]
     },
     "execution_count": 136,
     "metadata": {},
     "output_type": "execute_result"
    }
   ],
   "source": [
    "variable25"
   ]
  },
  {
   "cell_type": "code",
   "execution_count": 137,
   "metadata": {},
   "outputs": [],
   "source": [
    "variable26 = pd.DataFrame(variable25)"
   ]
  },
  {
   "cell_type": "code",
   "execution_count": 138,
   "metadata": {},
   "outputs": [
    {
     "data": {
      "text/html": [
       "<div>\n",
       "<style scoped>\n",
       "    .dataframe tbody tr th:only-of-type {\n",
       "        vertical-align: middle;\n",
       "    }\n",
       "\n",
       "    .dataframe tbody tr th {\n",
       "        vertical-align: top;\n",
       "    }\n",
       "\n",
       "    .dataframe thead th {\n",
       "        text-align: right;\n",
       "    }\n",
       "</style>\n",
       "<table border=\"1\" class=\"dataframe\">\n",
       "  <thead>\n",
       "    <tr style=\"text-align: right;\">\n",
       "      <th></th>\n",
       "      <th>latitude_round</th>\n",
       "    </tr>\n",
       "    <tr>\n",
       "      <th>common_name</th>\n",
       "      <th></th>\n",
       "    </tr>\n",
       "  </thead>\n",
       "  <tbody>\n",
       "    <tr>\n",
       "      <th>Arbys</th>\n",
       "      <td>38.821154</td>\n",
       "    </tr>\n",
       "    <tr>\n",
       "      <th>Burger King</th>\n",
       "      <td>37.931542</td>\n",
       "    </tr>\n",
       "    <tr>\n",
       "      <th>Dominos Pizza</th>\n",
       "      <td>38.086351</td>\n",
       "    </tr>\n",
       "    <tr>\n",
       "      <th>Hardees</th>\n",
       "      <td>38.345361</td>\n",
       "    </tr>\n",
       "    <tr>\n",
       "      <th>KFC</th>\n",
       "      <td>37.627078</td>\n",
       "    </tr>\n",
       "    <tr>\n",
       "      <th>McDonalds</th>\n",
       "      <td>37.776665</td>\n",
       "    </tr>\n",
       "    <tr>\n",
       "      <th>SONIC Drive In</th>\n",
       "      <td>35.915929</td>\n",
       "    </tr>\n",
       "    <tr>\n",
       "      <th>Subway</th>\n",
       "      <td>37.701863</td>\n",
       "    </tr>\n",
       "    <tr>\n",
       "      <th>Taco Bell</th>\n",
       "      <td>37.719359</td>\n",
       "    </tr>\n",
       "    <tr>\n",
       "      <th>Wendys</th>\n",
       "      <td>37.829700</td>\n",
       "    </tr>\n",
       "  </tbody>\n",
       "</table>\n",
       "</div>"
      ],
      "text/plain": [
       "                latitude_round\n",
       "common_name                   \n",
       "Arbys                38.821154\n",
       "Burger King          37.931542\n",
       "Dominos Pizza        38.086351\n",
       "Hardees              38.345361\n",
       "KFC                  37.627078\n",
       "McDonalds            37.776665\n",
       "SONIC Drive In       35.915929\n",
       "Subway               37.701863\n",
       "Taco Bell            37.719359\n",
       "Wendys               37.829700"
      ]
     },
     "execution_count": 138,
     "metadata": {},
     "output_type": "execute_result"
    }
   ],
   "source": [
    "variable26"
   ]
  },
  {
   "cell_type": "code",
   "execution_count": 139,
   "metadata": {},
   "outputs": [
    {
     "data": {
      "text/plain": [
       "Index(['Arbys', 'Burger King', 'Dominos Pizza', 'Hardees', 'KFC', 'McDonalds',\n",
       "       'SONIC Drive In', 'Subway', 'Taco Bell', 'Wendys'],\n",
       "      dtype='object', name='common_name')"
      ]
     },
     "execution_count": 139,
     "metadata": {},
     "output_type": "execute_result"
    }
   ],
   "source": [
    "variable26.index"
   ]
  },
  {
   "cell_type": "code",
   "execution_count": 140,
   "metadata": {},
   "outputs": [
    {
     "data": {
      "text/plain": [
       "Index(['latitude_round'], dtype='object')"
      ]
     },
     "execution_count": 140,
     "metadata": {},
     "output_type": "execute_result"
    }
   ],
   "source": [
    "variable26.columns"
   ]
  },
  {
   "cell_type": "code",
   "execution_count": 141,
   "metadata": {},
   "outputs": [],
   "source": [
    "variable26.columns = ['Mean Latitude']"
   ]
  },
  {
   "cell_type": "code",
   "execution_count": 251,
   "metadata": {},
   "outputs": [],
   "source": [
    "# This bar plot shows the mean latitude, in order, for each of the top 10 most numerous restaurants:\n",
    "# The similarity of mean values across restaurants seems to suggest that none are much more or less concentrated\n",
    "# in the south or north than one another. This is interesting because it indicates that there is not much of\n",
    "# a different culture for fast food restaurants between the north and south."
   ]
  },
  {
   "cell_type": "code",
   "execution_count": 171,
   "metadata": {},
   "outputs": [
    {
     "data": {
      "text/plain": [
       "<matplotlib.axes._subplots.AxesSubplot at 0x120a9af10>"
      ]
     },
     "execution_count": 171,
     "metadata": {},
     "output_type": "execute_result"
    },
    {
     "data": {
      "image/png": "[encoded data removed]",
      "text/plain": [
       "<Figure size 1080x576 with 1 Axes>"
      ]
     },
     "metadata": {
      "needs_background": "light"
     },
     "output_type": "display_data"
    }
   ],
   "source": [
    "plt.figure(figsize=(15,8))\n",
    "sns.barplot(x=variable26.sort_values('Mean Latitude').index,y='Mean Latitude',data=variable26.sort_values('Mean Latitude'))"
   ]
  },
  {
   "cell_type": "code",
   "execution_count": 148,
   "metadata": {},
   "outputs": [],
   "source": [
    "variable35 = df.groupby('common_name')['latitude_round'].min()"
   ]
  },
  {
   "cell_type": "code",
   "execution_count": 149,
   "metadata": {},
   "outputs": [
    {
     "data": {
      "text/plain": [
       "common_name\n",
       "Arbys             21.0\n",
       "Burger King       -6.0\n",
       "Dominos Pizza     21.0\n",
       "Hardees           30.0\n",
       "KFC               25.0\n",
       "McDonalds         21.0\n",
       "SONIC Drive In    27.0\n",
       "Subway            18.0\n",
       "Taco Bell         20.0\n",
       "Wendys            21.0\n",
       "Name: latitude_round, dtype: float64"
      ]
     },
     "execution_count": 149,
     "metadata": {},
     "output_type": "execute_result"
    }
   ],
   "source": [
    "variable35"
   ]
  },
  {
   "cell_type": "code",
   "execution_count": 150,
   "metadata": {},
   "outputs": [],
   "source": [
    "variable36 = pd.DataFrame(variable35)"
   ]
  },
  {
   "cell_type": "code",
   "execution_count": 151,
   "metadata": {},
   "outputs": [],
   "source": [
    "variable36.columns = ['Min Latitude']"
   ]
  },
  {
   "cell_type": "code",
   "execution_count": 250,
   "metadata": {},
   "outputs": [],
   "source": [
    "# This bar plot shows the min latitude, in order, for each of the top 10 most numerous restaurants:"
   ]
  },
  {
   "cell_type": "code",
   "execution_count": 170,
   "metadata": {},
   "outputs": [
    {
     "data": {
      "text/plain": [
       "<matplotlib.axes._subplots.AxesSubplot at 0x11cb0eb50>"
      ]
     },
     "execution_count": 170,
     "metadata": {},
     "output_type": "execute_result"
    },
    {
     "data": {
      "image/png": "[encoded data removed]",
      "text/plain": [
       "<Figure size 1080x576 with 1 Axes>"
      ]
     },
     "metadata": {
      "needs_background": "light"
     },
     "output_type": "display_data"
    }
   ],
   "source": [
    "plt.figure(figsize=(15,8))\n",
    "sns.barplot(x=variable36.sort_values('Min Latitude').index,y='Min Latitude',data=variable36.sort_values('Min Latitude'))"
   ]
  },
  {
   "cell_type": "code",
   "execution_count": 153,
   "metadata": {},
   "outputs": [
    {
     "data": {
      "text/html": [
       "<div>\n",
       "<style scoped>\n",
       "    .dataframe tbody tr th:only-of-type {\n",
       "        vertical-align: middle;\n",
       "    }\n",
       "\n",
       "    .dataframe tbody tr th {\n",
       "        vertical-align: top;\n",
       "    }\n",
       "\n",
       "    .dataframe thead th {\n",
       "        text-align: right;\n",
       "    }\n",
       "</style>\n",
       "<table border=\"1\" class=\"dataframe\">\n",
       "  <thead>\n",
       "    <tr style=\"text-align: right;\">\n",
       "      <th></th>\n",
       "      <th>address</th>\n",
       "      <th>city</th>\n",
       "      <th>country</th>\n",
       "      <th>keys</th>\n",
       "      <th>latitude</th>\n",
       "      <th>longitude</th>\n",
       "      <th>name</th>\n",
       "      <th>postalCode</th>\n",
       "      <th>province</th>\n",
       "      <th>websites</th>\n",
       "      <th>latitude_round</th>\n",
       "      <th>common_name</th>\n",
       "    </tr>\n",
       "  </thead>\n",
       "  <tbody>\n",
       "    <tr>\n",
       "      <th>0</th>\n",
       "      <td>324 Main St</td>\n",
       "      <td>Massena</td>\n",
       "      <td>US</td>\n",
       "      <td>us/ny/massena/324mainst/-1161002137</td>\n",
       "      <td>44.92130</td>\n",
       "      <td>-74.89021</td>\n",
       "      <td>McDonalds</td>\n",
       "      <td>13662</td>\n",
       "      <td>NY</td>\n",
       "      <td>http://mcdonalds.com,http://www.mcdonalds.com/...</td>\n",
       "      <td>45.0</td>\n",
       "      <td>McDonalds</td>\n",
       "    </tr>\n",
       "    <tr>\n",
       "      <th>1</th>\n",
       "      <td>530 Clinton Ave</td>\n",
       "      <td>Washington Court House</td>\n",
       "      <td>US</td>\n",
       "      <td>us/oh/washingtoncourthouse/530clintonave/-7914...</td>\n",
       "      <td>39.53255</td>\n",
       "      <td>-83.44526</td>\n",
       "      <td>Wendys</td>\n",
       "      <td>43160</td>\n",
       "      <td>OH</td>\n",
       "      <td>http://www.wendys.com</td>\n",
       "      <td>40.0</td>\n",
       "      <td>Wendys</td>\n",
       "    </tr>\n",
       "    <tr>\n",
       "      <th>2</th>\n",
       "      <td>408 Market Square Dr</td>\n",
       "      <td>Maysville</td>\n",
       "      <td>US</td>\n",
       "      <td>us/ky/maysville/408marketsquaredr/1051460804</td>\n",
       "      <td>38.62736</td>\n",
       "      <td>-83.79141</td>\n",
       "      <td>Frischs Big Boy</td>\n",
       "      <td>41056</td>\n",
       "      <td>KY</td>\n",
       "      <td>http://www.frischs.com,https://www.frischs.com...</td>\n",
       "      <td>39.0</td>\n",
       "      <td>NaN</td>\n",
       "    </tr>\n",
       "    <tr>\n",
       "      <th>3</th>\n",
       "      <td>6098 State Highway 37</td>\n",
       "      <td>Massena</td>\n",
       "      <td>US</td>\n",
       "      <td>us/ny/massena/6098statehighway37/-1161002137</td>\n",
       "      <td>44.95008</td>\n",
       "      <td>-74.84553</td>\n",
       "      <td>McDonalds</td>\n",
       "      <td>13662</td>\n",
       "      <td>NY</td>\n",
       "      <td>http://mcdonalds.com,http://www.mcdonalds.com/...</td>\n",
       "      <td>45.0</td>\n",
       "      <td>McDonalds</td>\n",
       "    </tr>\n",
       "    <tr>\n",
       "      <th>4</th>\n",
       "      <td>139 Columbus Rd</td>\n",
       "      <td>Athens</td>\n",
       "      <td>US</td>\n",
       "      <td>us/oh/athens/139columbusrd/990890980</td>\n",
       "      <td>39.35155</td>\n",
       "      <td>-82.09728</td>\n",
       "      <td>OMG! Rotisserie</td>\n",
       "      <td>45701</td>\n",
       "      <td>OH</td>\n",
       "      <td>http://www.omgrotisserie.com,http://omgrotisse...</td>\n",
       "      <td>39.0</td>\n",
       "      <td>NaN</td>\n",
       "    </tr>\n",
       "  </tbody>\n",
       "</table>\n",
       "</div>"
      ],
      "text/plain": [
       "                 address                    city country  \\\n",
       "0            324 Main St                 Massena      US   \n",
       "1        530 Clinton Ave  Washington Court House      US   \n",
       "2   408 Market Square Dr               Maysville      US   \n",
       "3  6098 State Highway 37                 Massena      US   \n",
       "4        139 Columbus Rd                  Athens      US   \n",
       "\n",
       "                                                keys  latitude  longitude  \\\n",
       "0                us/ny/massena/324mainst/-1161002137  44.92130  -74.89021   \n",
       "1  us/oh/washingtoncourthouse/530clintonave/-7914...  39.53255  -83.44526   \n",
       "2       us/ky/maysville/408marketsquaredr/1051460804  38.62736  -83.79141   \n",
       "3       us/ny/massena/6098statehighway37/-1161002137  44.95008  -74.84553   \n",
       "4               us/oh/athens/139columbusrd/990890980  39.35155  -82.09728   \n",
       "\n",
       "              name postalCode province  \\\n",
       "0        McDonalds      13662       NY   \n",
       "1           Wendys      43160       OH   \n",
       "2  Frischs Big Boy      41056       KY   \n",
       "3        McDonalds      13662       NY   \n",
       "4  OMG! Rotisserie      45701       OH   \n",
       "\n",
       "                                            websites  latitude_round  \\\n",
       "0  http://mcdonalds.com,http://www.mcdonalds.com/...            45.0   \n",
       "1                              http://www.wendys.com            40.0   \n",
       "2  http://www.frischs.com,https://www.frischs.com...            39.0   \n",
       "3  http://mcdonalds.com,http://www.mcdonalds.com/...            45.0   \n",
       "4  http://www.omgrotisserie.com,http://omgrotisse...            39.0   \n",
       "\n",
       "  common_name  \n",
       "0   McDonalds  \n",
       "1      Wendys  \n",
       "2         NaN  \n",
       "3   McDonalds  \n",
       "4         NaN  "
      ]
     },
     "execution_count": 153,
     "metadata": {},
     "output_type": "execute_result"
    }
   ],
   "source": [
    "df.head()"
   ]
  },
  {
   "cell_type": "code",
   "execution_count": 155,
   "metadata": {},
   "outputs": [],
   "source": [
    "mc_province = df.loc[df['name']=='McDonalds','province']"
   ]
  },
  {
   "cell_type": "code",
   "execution_count": 156,
   "metadata": {},
   "outputs": [
    {
     "data": {
      "text/plain": [
       "0       NY\n",
       "3       NY\n",
       "7       SC\n",
       "12      OK\n",
       "15      KY\n",
       "        ..\n",
       "9967    OR\n",
       "9969    VA\n",
       "9979    SC\n",
       "9985    CO\n",
       "9989    MT\n",
       "Name: province, Length: 1997, dtype: object"
      ]
     },
     "execution_count": 156,
     "metadata": {},
     "output_type": "execute_result"
    }
   ],
   "source": [
    "mc_province"
   ]
  },
  {
   "cell_type": "code",
   "execution_count": 158,
   "metadata": {},
   "outputs": [],
   "source": [
    "mc_values = mc_province.value_counts()"
   ]
  },
  {
   "cell_type": "code",
   "execution_count": 159,
   "metadata": {},
   "outputs": [
    {
     "data": {
      "text/plain": [
       "TX    153\n",
       "CA    127\n",
       "OH    110\n",
       "FL     89\n",
       "IN     83\n",
       "IL     79\n",
       "KY     76\n",
       "NC     73\n",
       "MO     73\n",
       "VA     67\n",
       "PA     67\n",
       "NY     66\n",
       "LA     58\n",
       "GA     54\n",
       "OK     50\n",
       "MI     46\n",
       "WI     45\n",
       "SC     44\n",
       "WA     42\n",
       "TN     40\n",
       "NJ     37\n",
       "AL     37\n",
       "IA     37\n",
       "CT     36\n",
       "MD     33\n",
       "AZ     32\n",
       "MN     29\n",
       "UT     27\n",
       "AR     26\n",
       "MA     25\n",
       "OR     24\n",
       "CO     21\n",
       "NM     21\n",
       "WV     19\n",
       "SD     18\n",
       "VT     17\n",
       "NV     16\n",
       "ID     14\n",
       "NE     12\n",
       "ME     12\n",
       "KS     11\n",
       "MS     10\n",
       "NH      9\n",
       "ND      7\n",
       "DE      6\n",
       "WY      5\n",
       "DC      4\n",
       "MT      3\n",
       "RI      3\n",
       "AK      3\n",
       "HI      1\n",
       "Name: province, dtype: int64"
      ]
     },
     "execution_count": 159,
     "metadata": {},
     "output_type": "execute_result"
    }
   ],
   "source": [
    "mc_values"
   ]
  },
  {
   "cell_type": "code",
   "execution_count": 160,
   "metadata": {},
   "outputs": [],
   "source": [
    "mc10 = pd.DataFrame(mc_values.head(10))"
   ]
  },
  {
   "cell_type": "code",
   "execution_count": 161,
   "metadata": {},
   "outputs": [
    {
     "data": {
      "text/html": [
       "<div>\n",
       "<style scoped>\n",
       "    .dataframe tbody tr th:only-of-type {\n",
       "        vertical-align: middle;\n",
       "    }\n",
       "\n",
       "    .dataframe tbody tr th {\n",
       "        vertical-align: top;\n",
       "    }\n",
       "\n",
       "    .dataframe thead th {\n",
       "        text-align: right;\n",
       "    }\n",
       "</style>\n",
       "<table border=\"1\" class=\"dataframe\">\n",
       "  <thead>\n",
       "    <tr style=\"text-align: right;\">\n",
       "      <th></th>\n",
       "      <th>province</th>\n",
       "    </tr>\n",
       "  </thead>\n",
       "  <tbody>\n",
       "    <tr>\n",
       "      <th>TX</th>\n",
       "      <td>153</td>\n",
       "    </tr>\n",
       "    <tr>\n",
       "      <th>CA</th>\n",
       "      <td>127</td>\n",
       "    </tr>\n",
       "    <tr>\n",
       "      <th>OH</th>\n",
       "      <td>110</td>\n",
       "    </tr>\n",
       "    <tr>\n",
       "      <th>FL</th>\n",
       "      <td>89</td>\n",
       "    </tr>\n",
       "    <tr>\n",
       "      <th>IN</th>\n",
       "      <td>83</td>\n",
       "    </tr>\n",
       "    <tr>\n",
       "      <th>IL</th>\n",
       "      <td>79</td>\n",
       "    </tr>\n",
       "    <tr>\n",
       "      <th>KY</th>\n",
       "      <td>76</td>\n",
       "    </tr>\n",
       "    <tr>\n",
       "      <th>NC</th>\n",
       "      <td>73</td>\n",
       "    </tr>\n",
       "    <tr>\n",
       "      <th>MO</th>\n",
       "      <td>73</td>\n",
       "    </tr>\n",
       "    <tr>\n",
       "      <th>VA</th>\n",
       "      <td>67</td>\n",
       "    </tr>\n",
       "  </tbody>\n",
       "</table>\n",
       "</div>"
      ],
      "text/plain": [
       "    province\n",
       "TX       153\n",
       "CA       127\n",
       "OH       110\n",
       "FL        89\n",
       "IN        83\n",
       "IL        79\n",
       "KY        76\n",
       "NC        73\n",
       "MO        73\n",
       "VA        67"
      ]
     },
     "execution_count": 161,
     "metadata": {},
     "output_type": "execute_result"
    }
   ],
   "source": [
    "mc10"
   ]
  },
  {
   "cell_type": "code",
   "execution_count": 165,
   "metadata": {},
   "outputs": [
    {
     "data": {
      "text/plain": [
       "Index(['province'], dtype='object')"
      ]
     },
     "execution_count": 165,
     "metadata": {},
     "output_type": "execute_result"
    }
   ],
   "source": [
    "mc10.columns"
   ]
  },
  {
   "cell_type": "code",
   "execution_count": 166,
   "metadata": {},
   "outputs": [],
   "source": [
    "mc10.columns = ['Num of Restaurants in Province']"
   ]
  },
  {
   "cell_type": "code",
   "execution_count": 167,
   "metadata": {},
   "outputs": [
    {
     "data": {
      "text/plain": [
       "Index(['TX', 'CA', 'OH', 'FL', 'IN', 'IL', 'KY', 'NC', 'MO', 'VA'], dtype='object')"
      ]
     },
     "execution_count": 167,
     "metadata": {},
     "output_type": "execute_result"
    }
   ],
   "source": [
    "mc10.index"
   ]
  },
  {
   "cell_type": "code",
   "execution_count": 253,
   "metadata": {},
   "outputs": [],
   "source": [
    "# The bar plot below shows the top 10 states with the most McDonalds, in order:\n",
    "# We can see states known to have a high population, such as Texas and California, are at the top:\n",
    "# Sensibly, McDonalds may find that it has the most demand for many restaurants in the places with most people."
   ]
  },
  {
   "cell_type": "code",
   "execution_count": 169,
   "metadata": {},
   "outputs": [
    {
     "data": {
      "text/plain": [
       "<matplotlib.axes._subplots.AxesSubplot at 0x11f75c8b0>"
      ]
     },
     "execution_count": 169,
     "metadata": {},
     "output_type": "execute_result"
    },
    {
     "data": {
      "image/png": "[encoded data removed]",
      "text/plain": [
       "<Figure size 1080x576 with 1 Axes>"
      ]
     },
     "metadata": {
      "needs_background": "light"
     },
     "output_type": "display_data"
    }
   ],
   "source": [
    "plt.figure(figsize=(15,8))\n",
    "sns.barplot(x=mc10.sort_values('Num of Restaurants in Province').index,y='Num of Restaurants in Province',data=mc10.sort_values('Num of Restaurants in Province'))"
   ]
  },
  {
   "cell_type": "code",
   "execution_count": 260,
   "metadata": {},
   "outputs": [],
   "source": [
    "# In the pie chart below, like the bar plot above, we can see the relative number of McDonalds across \n",
    "# each of the top 10 states it has the most restaurants in. The state of New York, despite having a large population, \n",
    "# is notably absent from this top 10, for reasons that are not obviously apparent."
   ]
  },
  {
   "cell_type": "code",
   "execution_count": 255,
   "metadata": {},
   "outputs": [
    {
     "data": {
      "text/plain": [
       "([<matplotlib.patches.Wedge at 0x123afa1f0>,\n",
       "  <matplotlib.patches.Wedge at 0x123b07520>,\n",
       "  <matplotlib.patches.Wedge at 0x123b07af0>,\n",
       "  <matplotlib.patches.Wedge at 0x123b13130>,\n",
       "  <matplotlib.patches.Wedge at 0x123b13730>,\n",
       "  <matplotlib.patches.Wedge at 0x123b13d30>,\n",
       "  <matplotlib.patches.Wedge at 0x123b21370>,\n",
       "  <matplotlib.patches.Wedge at 0x123b21970>,\n",
       "  <matplotlib.patches.Wedge at 0x123b21f70>,\n",
       "  <matplotlib.patches.Wedge at 0x123b305b0>],\n",
       " [Text(-0.8153271831619552, 1.4344830373333775, 'TX'),\n",
       "  Text(-1.6403691557097873, 0.17801413706770564, 'CA'),\n",
       "  Text(-1.2699244738714777, -1.0534665778572434, 'OH'),\n",
       "  Text(-0.3376002596527833, -1.6150932061903962, 'FL'),\n",
       "  Text(0.6042948991025655, -1.5353591354854474, 'IN'),\n",
       "  Text(1.314948080114598, -0.996700329388394, 'IL'),\n",
       "  Text(1.6371286051261442, -0.20569377792662147, 'KY'),\n",
       "  Text(1.5333090530269657, 0.6094779306140214, 'NC'),\n",
       "  Text(1.0620221266374068, 1.262778287163887, 'MO'),\n",
       "  Text(0.3702640163098199, 1.6079193257828956, 'VA')],\n",
       " [Text(-0.4447239180883391, 0.782445293090933, '16.5%'),\n",
       "  Text(-0.8947468122053384, 0.09709862021874852, '13.7%'),\n",
       "  Text(-0.6926860766571695, -0.5746181333766781, '11.8%'),\n",
       "  Text(-0.1841455961742454, -0.8809599306493069, '9.6%'),\n",
       "  Text(0.32961539951049024, -0.8374686193556985, '8.9%'),\n",
       "  Text(0.7172444073352351, -0.543654725120942, '8.5%'),\n",
       "  Text(0.8929792391597148, -0.1121966061417935, '8.2%'),\n",
       "  Text(0.836350392560163, 0.33244250760764804, '7.8%'),\n",
       "  Text(0.5792847963476763, 0.6887881566348474, '7.8%'),\n",
       "  Text(0.20196219071444718, 0.8770469049724884, '7.2%')])"
      ]
     },
     "execution_count": 255,
     "metadata": {},
     "output_type": "execute_result"
    },
    {
     "data": {
      "image/png": "[encoded data removed]",
      "text/plain": [
       "<Figure size 432x288 with 1 Axes>"
      ]
     },
     "metadata": {},
     "output_type": "display_data"
    }
   ],
   "source": [
    "fig1, ax1 = plt.subplots()\n",
    "ax1.pie(mc10['Num of Restaurants in Province'], labels=mc10.index, autopct='%1.1f%%', startangle=90, radius=1.5)\n",
    "# ax1.axis('equal')  # Equal aspect ratio ensures that pie is drawn as a circle. \n",
    "# add a pie chart title"
   ]
  },
  {
   "cell_type": "code",
   "execution_count": 174,
   "metadata": {},
   "outputs": [
    {
     "data": {
      "text/html": [
       "<div>\n",
       "<style scoped>\n",
       "    .dataframe tbody tr th:only-of-type {\n",
       "        vertical-align: middle;\n",
       "    }\n",
       "\n",
       "    .dataframe tbody tr th {\n",
       "        vertical-align: top;\n",
       "    }\n",
       "\n",
       "    .dataframe thead th {\n",
       "        text-align: right;\n",
       "    }\n",
       "</style>\n",
       "<table border=\"1\" class=\"dataframe\">\n",
       "  <thead>\n",
       "    <tr style=\"text-align: right;\">\n",
       "      <th></th>\n",
       "      <th>address</th>\n",
       "      <th>city</th>\n",
       "      <th>country</th>\n",
       "      <th>keys</th>\n",
       "      <th>latitude</th>\n",
       "      <th>longitude</th>\n",
       "      <th>name</th>\n",
       "      <th>postalCode</th>\n",
       "      <th>province</th>\n",
       "      <th>websites</th>\n",
       "      <th>latitude_round</th>\n",
       "      <th>common_name</th>\n",
       "    </tr>\n",
       "  </thead>\n",
       "  <tbody>\n",
       "    <tr>\n",
       "      <th>0</th>\n",
       "      <td>324 Main St</td>\n",
       "      <td>Massena</td>\n",
       "      <td>US</td>\n",
       "      <td>us/ny/massena/324mainst/-1161002137</td>\n",
       "      <td>44.92130</td>\n",
       "      <td>-74.89021</td>\n",
       "      <td>McDonalds</td>\n",
       "      <td>13662</td>\n",
       "      <td>NY</td>\n",
       "      <td>http://mcdonalds.com,http://www.mcdonalds.com/...</td>\n",
       "      <td>45.0</td>\n",
       "      <td>McDonalds</td>\n",
       "    </tr>\n",
       "    <tr>\n",
       "      <th>1</th>\n",
       "      <td>530 Clinton Ave</td>\n",
       "      <td>Washington Court House</td>\n",
       "      <td>US</td>\n",
       "      <td>us/oh/washingtoncourthouse/530clintonave/-7914...</td>\n",
       "      <td>39.53255</td>\n",
       "      <td>-83.44526</td>\n",
       "      <td>Wendys</td>\n",
       "      <td>43160</td>\n",
       "      <td>OH</td>\n",
       "      <td>http://www.wendys.com</td>\n",
       "      <td>40.0</td>\n",
       "      <td>Wendys</td>\n",
       "    </tr>\n",
       "    <tr>\n",
       "      <th>2</th>\n",
       "      <td>408 Market Square Dr</td>\n",
       "      <td>Maysville</td>\n",
       "      <td>US</td>\n",
       "      <td>us/ky/maysville/408marketsquaredr/1051460804</td>\n",
       "      <td>38.62736</td>\n",
       "      <td>-83.79141</td>\n",
       "      <td>Frischs Big Boy</td>\n",
       "      <td>41056</td>\n",
       "      <td>KY</td>\n",
       "      <td>http://www.frischs.com,https://www.frischs.com...</td>\n",
       "      <td>39.0</td>\n",
       "      <td>NaN</td>\n",
       "    </tr>\n",
       "    <tr>\n",
       "      <th>3</th>\n",
       "      <td>6098 State Highway 37</td>\n",
       "      <td>Massena</td>\n",
       "      <td>US</td>\n",
       "      <td>us/ny/massena/6098statehighway37/-1161002137</td>\n",
       "      <td>44.95008</td>\n",
       "      <td>-74.84553</td>\n",
       "      <td>McDonalds</td>\n",
       "      <td>13662</td>\n",
       "      <td>NY</td>\n",
       "      <td>http://mcdonalds.com,http://www.mcdonalds.com/...</td>\n",
       "      <td>45.0</td>\n",
       "      <td>McDonalds</td>\n",
       "    </tr>\n",
       "    <tr>\n",
       "      <th>4</th>\n",
       "      <td>139 Columbus Rd</td>\n",
       "      <td>Athens</td>\n",
       "      <td>US</td>\n",
       "      <td>us/oh/athens/139columbusrd/990890980</td>\n",
       "      <td>39.35155</td>\n",
       "      <td>-82.09728</td>\n",
       "      <td>OMG! Rotisserie</td>\n",
       "      <td>45701</td>\n",
       "      <td>OH</td>\n",
       "      <td>http://www.omgrotisserie.com,http://omgrotisse...</td>\n",
       "      <td>39.0</td>\n",
       "      <td>NaN</td>\n",
       "    </tr>\n",
       "  </tbody>\n",
       "</table>\n",
       "</div>"
      ],
      "text/plain": [
       "                 address                    city country  \\\n",
       "0            324 Main St                 Massena      US   \n",
       "1        530 Clinton Ave  Washington Court House      US   \n",
       "2   408 Market Square Dr               Maysville      US   \n",
       "3  6098 State Highway 37                 Massena      US   \n",
       "4        139 Columbus Rd                  Athens      US   \n",
       "\n",
       "                                                keys  latitude  longitude  \\\n",
       "0                us/ny/massena/324mainst/-1161002137  44.92130  -74.89021   \n",
       "1  us/oh/washingtoncourthouse/530clintonave/-7914...  39.53255  -83.44526   \n",
       "2       us/ky/maysville/408marketsquaredr/1051460804  38.62736  -83.79141   \n",
       "3       us/ny/massena/6098statehighway37/-1161002137  44.95008  -74.84553   \n",
       "4               us/oh/athens/139columbusrd/990890980  39.35155  -82.09728   \n",
       "\n",
       "              name postalCode province  \\\n",
       "0        McDonalds      13662       NY   \n",
       "1           Wendys      43160       OH   \n",
       "2  Frischs Big Boy      41056       KY   \n",
       "3        McDonalds      13662       NY   \n",
       "4  OMG! Rotisserie      45701       OH   \n",
       "\n",
       "                                            websites  latitude_round  \\\n",
       "0  http://mcdonalds.com,http://www.mcdonalds.com/...            45.0   \n",
       "1                              http://www.wendys.com            40.0   \n",
       "2  http://www.frischs.com,https://www.frischs.com...            39.0   \n",
       "3  http://mcdonalds.com,http://www.mcdonalds.com/...            45.0   \n",
       "4  http://www.omgrotisserie.com,http://omgrotisse...            39.0   \n",
       "\n",
       "  common_name  \n",
       "0   McDonalds  \n",
       "1      Wendys  \n",
       "2         NaN  \n",
       "3   McDonalds  \n",
       "4         NaN  "
      ]
     },
     "execution_count": 174,
     "metadata": {},
     "output_type": "execute_result"
    }
   ],
   "source": [
    "df.head()"
   ]
  },
  {
   "cell_type": "code",
   "execution_count": 177,
   "metadata": {},
   "outputs": [
    {
     "data": {
      "text/plain": [
       "NaN               3200\n",
       "McDonalds         1997\n",
       "Burger King       1154\n",
       "Taco Bell          873\n",
       "Wendys             734\n",
       "Arbys              520\n",
       "KFC                421\n",
       "Dominos Pizza      359\n",
       "Subway             322\n",
       "SONIC Drive In     226\n",
       "Hardees            194\n",
       "Name: common_name, dtype: int64"
      ]
     },
     "execution_count": 177,
     "metadata": {},
     "output_type": "execute_result"
    }
   ],
   "source": [
    "df['common_name'].value_counts(dropna=False)"
   ]
  },
  {
   "cell_type": "code",
   "execution_count": 178,
   "metadata": {},
   "outputs": [
    {
     "data": {
      "text/plain": [
       "0     McDonalds\n",
       "1        Wendys\n",
       "2           NaN\n",
       "3     McDonalds\n",
       "4           NaN\n",
       "        ...    \n",
       "95          NaN\n",
       "96          NaN\n",
       "97          NaN\n",
       "98    McDonalds\n",
       "99          NaN\n",
       "Name: common_name, Length: 100, dtype: object"
      ]
     },
     "execution_count": 178,
     "metadata": {},
     "output_type": "execute_result"
    }
   ],
   "source": [
    "df['common_name'].head(100)"
   ]
  },
  {
   "cell_type": "code",
   "execution_count": 180,
   "metadata": {},
   "outputs": [],
   "source": [
    "restaurant_value_counts = df['common_name'].value_counts(dropna=False)"
   ]
  },
  {
   "cell_type": "code",
   "execution_count": 181,
   "metadata": {},
   "outputs": [
    {
     "data": {
      "text/plain": [
       "NaN               3200\n",
       "McDonalds         1997\n",
       "Burger King       1154\n",
       "Taco Bell          873\n",
       "Wendys             734\n",
       "Arbys              520\n",
       "KFC                421\n",
       "Dominos Pizza      359\n",
       "Subway             322\n",
       "SONIC Drive In     226\n",
       "Hardees            194\n",
       "Name: common_name, dtype: int64"
      ]
     },
     "execution_count": 181,
     "metadata": {},
     "output_type": "execute_result"
    }
   ],
   "source": [
    "restaurant_value_counts"
   ]
  },
  {
   "cell_type": "code",
   "execution_count": 182,
   "metadata": {},
   "outputs": [],
   "source": [
    "rest_vc = pd.DataFrame(restaurant_value_counts)"
   ]
  },
  {
   "cell_type": "code",
   "execution_count": 183,
   "metadata": {},
   "outputs": [
    {
     "data": {
      "text/html": [
       "<div>\n",
       "<style scoped>\n",
       "    .dataframe tbody tr th:only-of-type {\n",
       "        vertical-align: middle;\n",
       "    }\n",
       "\n",
       "    .dataframe tbody tr th {\n",
       "        vertical-align: top;\n",
       "    }\n",
       "\n",
       "    .dataframe thead th {\n",
       "        text-align: right;\n",
       "    }\n",
       "</style>\n",
       "<table border=\"1\" class=\"dataframe\">\n",
       "  <thead>\n",
       "    <tr style=\"text-align: right;\">\n",
       "      <th></th>\n",
       "      <th>common_name</th>\n",
       "    </tr>\n",
       "  </thead>\n",
       "  <tbody>\n",
       "    <tr>\n",
       "      <th>NaN</th>\n",
       "      <td>3200</td>\n",
       "    </tr>\n",
       "    <tr>\n",
       "      <th>McDonalds</th>\n",
       "      <td>1997</td>\n",
       "    </tr>\n",
       "    <tr>\n",
       "      <th>Burger King</th>\n",
       "      <td>1154</td>\n",
       "    </tr>\n",
       "    <tr>\n",
       "      <th>Taco Bell</th>\n",
       "      <td>873</td>\n",
       "    </tr>\n",
       "    <tr>\n",
       "      <th>Wendys</th>\n",
       "      <td>734</td>\n",
       "    </tr>\n",
       "    <tr>\n",
       "      <th>Arbys</th>\n",
       "      <td>520</td>\n",
       "    </tr>\n",
       "    <tr>\n",
       "      <th>KFC</th>\n",
       "      <td>421</td>\n",
       "    </tr>\n",
       "    <tr>\n",
       "      <th>Dominos Pizza</th>\n",
       "      <td>359</td>\n",
       "    </tr>\n",
       "    <tr>\n",
       "      <th>Subway</th>\n",
       "      <td>322</td>\n",
       "    </tr>\n",
       "    <tr>\n",
       "      <th>SONIC Drive In</th>\n",
       "      <td>226</td>\n",
       "    </tr>\n",
       "    <tr>\n",
       "      <th>Hardees</th>\n",
       "      <td>194</td>\n",
       "    </tr>\n",
       "  </tbody>\n",
       "</table>\n",
       "</div>"
      ],
      "text/plain": [
       "                common_name\n",
       "NaN                    3200\n",
       "McDonalds              1997\n",
       "Burger King            1154\n",
       "Taco Bell               873\n",
       "Wendys                  734\n",
       "Arbys                   520\n",
       "KFC                     421\n",
       "Dominos Pizza           359\n",
       "Subway                  322\n",
       "SONIC Drive In          226\n",
       "Hardees                 194"
      ]
     },
     "execution_count": 183,
     "metadata": {},
     "output_type": "execute_result"
    }
   ],
   "source": [
    "rest_vc"
   ]
  },
  {
   "cell_type": "code",
   "execution_count": 184,
   "metadata": {},
   "outputs": [
    {
     "data": {
      "text/plain": [
       "Index([             nan,      'McDonalds',    'Burger King',      'Taco Bell',\n",
       "               'Wendys',          'Arbys',            'KFC',  'Dominos Pizza',\n",
       "               'Subway', 'SONIC Drive In',        'Hardees'],\n",
       "      dtype='object')"
      ]
     },
     "execution_count": 184,
     "metadata": {},
     "output_type": "execute_result"
    }
   ],
   "source": [
    "rest_vc.index"
   ]
  },
  {
   "cell_type": "code",
   "execution_count": 185,
   "metadata": {},
   "outputs": [
    {
     "data": {
      "text/plain": [
       "Index(['common_name'], dtype='object')"
      ]
     },
     "execution_count": 185,
     "metadata": {},
     "output_type": "execute_result"
    }
   ],
   "source": [
    "rest_vc.columns"
   ]
  },
  {
   "cell_type": "code",
   "execution_count": 186,
   "metadata": {},
   "outputs": [],
   "source": [
    "rest_vc.columns = ['Frequency']"
   ]
  },
  {
   "cell_type": "code",
   "execution_count": 264,
   "metadata": {},
   "outputs": [],
   "source": [
    "# This pie chart below is interesting because it compares number of restaurants, for different restaurants in the\n",
    "# dataset. However, interestingly, unlike before, restaurants outside of the top 10 most numerous are included.\n",
    "# And yet, these restaurants, even though there are hundreds of them as we saw earlier,\n",
    "# are, for the purposes of visualization, all grouped together in a category known as 'nan'.\n",
    "# We can see that nan accounts for 32% of all the restaurants and McDonalds is second at 20%. \n",
    "# It is incredible to note that McDonalds has almost as many restaurants as hundreds of other fast food restaurant\n",
    "# names combined. This plot almost hints that perhaps there is a pareto distribution of restaurants.\n",
    "# In a pareto distribution, a top fraction of restaurants have a disproportionately large number, while a large\n",
    "# number of smaller restaurants have way fewer numbers. Whether this data fits some kind of pareto distribution\n",
    "# could be investigated in further research. Other market-sensitive phenomena, such as land ownership in Italy,\n",
    "# for instance, have been shown to follow a pareto distribution."
   ]
  },
  {
   "cell_type": "code",
   "execution_count": 261,
   "metadata": {},
   "outputs": [
    {
     "data": {
      "text/plain": [
       "([<matplotlib.patches.Wedge at 0x123c01130>,\n",
       "  <matplotlib.patches.Wedge at 0x123c0e4f0>,\n",
       "  <matplotlib.patches.Wedge at 0x123c0eac0>,\n",
       "  <matplotlib.patches.Wedge at 0x123c1d100>,\n",
       "  <matplotlib.patches.Wedge at 0x123c1d700>,\n",
       "  <matplotlib.patches.Wedge at 0x123c1dd00>,\n",
       "  <matplotlib.patches.Wedge at 0x123c2a340>,\n",
       "  <matplotlib.patches.Wedge at 0x123c2a940>,\n",
       "  <matplotlib.patches.Wedge at 0x123c2af40>,\n",
       "  <matplotlib.patches.Wedge at 0x123ce2580>,\n",
       "  <matplotlib.patches.Wedge at 0x123bef0d0>],\n",
       " [Text(-1.3931410572119054, 0.8841142430198122, 'nan'),\n",
       "  Text(-0.7962560178213348, -1.4451561694444344, 'McDonalds'),\n",
       "  Text(0.7711677404169269, -1.4586981579957699, 'Burger King'),\n",
       "  Text(1.4874009138115454, -0.7142398207833139, 'Taco Bell'),\n",
       "  Text(1.6473036419378602, 0.09429056823597096, 'Wendys'),\n",
       "  Text(1.4849238606135382, 0.719375512636193, 'Arbys'),\n",
       "  Text(1.2109282092784925, 1.1207822589484473, 'KFC'),\n",
       "  Text(0.902852741368689, 1.3810709349642558, 'Dominos Pizza'),\n",
       "  Text(0.5890481627486053, 1.5412729355836017, 'Subway'),\n",
       "  Text(0.3163047203092046, 1.619398445074626, 'SONIC Drive In'),\n",
       "  Text(0.10050015773695468, 1.6469364645592275, 'Hardees')],\n",
       " [Text(-0.7598951221155846, 0.48224413255626114, '32.0%'),\n",
       "  Text(-0.43432146426618257, -0.7882670015151458, '20.0%'),\n",
       "  Text(0.4206369493183237, -0.7956535407249652, '11.5%'),\n",
       "  Text(0.8113095893517518, -0.38958535679089845, '8.7%'),\n",
       "  Text(0.8985292592388326, 0.05143121903780233, '7.3%'),\n",
       "  Text(0.8099584694255662, 0.3923866432561052, '5.2%'),\n",
       "  Text(0.6605062959700867, 0.6113357776082439, '4.2%'),\n",
       "  Text(0.4924651316556485, 0.7533114190714122, '3.6%'),\n",
       "  Text(0.3212989978628756, 0.8406943285001461, '3.2%'),\n",
       "  Text(0.1725298474413843, 0.8833082427679776, '2.3%'),\n",
       "  Text(0.054818267856520726, 0.8983289806686694, '1.9%')])"
      ]
     },
     "execution_count": 261,
     "metadata": {},
     "output_type": "execute_result"
    },
    {
     "data": {
      "image/png": "[encoded data removed]",
      "text/plain": [
       "<Figure size 432x288 with 1 Axes>"
      ]
     },
     "metadata": {},
     "output_type": "display_data"
    }
   ],
   "source": [
    "fig1, ax1 = plt.subplots()\n",
    "ax1.pie(rest_vc['Frequency'], labels=rest_vc.index, autopct='%1.1f%%', startangle=90, radius=1.5)\n",
    "# ax1.axis('equal')  # Equal aspect ratio ensures that pie is drawn as a circle. \n",
    "# add a pie chart title"
   ]
  }
 ],
 "metadata": {
  "kernelspec": {
   "display_name": "Python 3",
   "language": "python",
   "name": "python3"
  },
  "language_info": {
   "codemirror_mode": {
    "name": "ipython",
    "version": 3
   },
   "file_extension": ".py",
   "mimetype": "text/x-python",
   "name": "python",
   "nbconvert_exporter": "python",
   "pygments_lexer": "ipython3",
   "version": "3.8.3"
  }
 },
 "nbformat": 4,
 "nbformat_minor": 4
}
